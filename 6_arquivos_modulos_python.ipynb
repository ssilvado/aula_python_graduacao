{
  "nbformat": 4,
  "nbformat_minor": 0,
  "metadata": {
    "kernelspec": {
      "name": "python3",
      "display_name": "Python 3.9.2 64-bit ('root-python-env': conda)"
    },
    "language_info": {
      "codemirror_mode": {
        "name": "ipython",
        "version": 3
      },
      "file_extension": ".py",
      "mimetype": "text/x-python",
      "name": "python",
      "nbconvert_exporter": "python",
      "pygments_lexer": "ipython3",
      "version": "3.9.2"
    },
    "interpreter": {
      "hash": "335436fdd3b76d4f3727a636fd436c7d3c5aef570f332174c0978c1012c03da9"
    },
    "colab": {
      "name": "6-arquivos-modulos_python.ipynb",
      "provenance": [],
      "include_colab_link": true
    }
  },
  "cells": [
    {
      "cell_type": "markdown",
      "metadata": {
        "id": "view-in-github",
        "colab_type": "text"
      },
      "source": [
        "<a href=\"https://colab.research.google.com/github/ssilvado/aula_python_graduacao/blob/main/6_arquivos_modulos_python.ipynb\" target=\"_parent\"><img src=\"https://colab.research.google.com/assets/colab-badge.svg\" alt=\"Open In Colab\"/></a>"
      ]
    },
    {
      "cell_type": "markdown",
      "metadata": {
        "id": "NCL-_zDsU0Vq"
      },
      "source": [
        "# 6. Arquivos e módulos\n",
        "\n",
        "## 6.1 Abrindo arquivos\n",
        "\n",
        "* ```open(name, mode)``` retorna um objeto do tipo _file_\n",
        "* ```name``` é o caminho do arquivo a ser aberto\n",
        "* ```mode```:\n",
        "   * 'r' (read - leitura): o arquivo é aberto em modo somente leitura\n",
        "   * 'w' (write - escrita): o arquivo é aberto em modo somente escrita, e é truncado.\n",
        "   * 'a' (append - adição): como 'e' mas acrescenta no arquivo sem truncar.\n",
        "   * 'x': como 'w' mas o arquivo não deve existir.\n",
        "* ```open(name)``` padrão para leitura: ```open(name, 'rt')```\n",
        "\n",
        "## 6.2 Fechando arquivos\n",
        "\n",
        "```f.close()```:\n",
        "Lança um tratamento no arquivo\n",
        "Escreve o contéudo do objeto _file_ no disco.\n",
        "Pode ser feito de forma alternativa usando a declaração ```with```:"
      ]
    },
    {
      "cell_type": "code",
      "metadata": {
        "id": "1jicyv0XU0Vr"
      },
      "source": [
        "with open('example.txt') as f:\n",
        "    print(f.read())"
      ],
      "execution_count": null,
      "outputs": []
    },
    {
      "cell_type": "markdown",
      "metadata": {
        "id": "tkQ8hlI_U0Vs"
      },
      "source": [
        "## 6.3 Lendo arquivos\n",
        "\n",
        "* ```f.read()``` faz a leitura de todo o arquivo (até ```EOF```)\n",
        "* ```f.read(index)``` faz a leitura do arquivo até ```index```"
      ]
    },
    {
      "cell_type": "code",
      "metadata": {
        "id": "7YK4UJNgU0Vs"
      },
      "source": [
        "# Prints each line of the file.\n",
        "with open('example.txt') as f:\n",
        "    for l in f:\n",
        "        print(l)"
      ],
      "execution_count": null,
      "outputs": []
    },
    {
      "cell_type": "markdown",
      "metadata": {
        "id": "ayy9gMPYU0Vs"
      },
      "source": [
        "## 6.4 Escrevendo em arquivos\n",
        "\n",
        "```f.write(string)``` escreve string (sem adicionar ```\\n```)\n",
        "```f.writelines(sequence)``` escreve uma sequência de conteúdo (também sem adicionar ```\\n```)"
      ]
    },
    {
      "cell_type": "code",
      "metadata": {
        "id": "IGfIIBDLU0Vt"
      },
      "source": [
        "fruits = ['Bannana', 'Melon', 'Peach']\n",
        "with open('example.txt', 'w') as f:\n",
        "    f.writelines(fruits)"
      ],
      "execution_count": null,
      "outputs": []
    },
    {
      "cell_type": "markdown",
      "metadata": {
        "id": "FJgBwGqgU0Vt"
      },
      "source": [
        "## 6.5 Módulos e pacotes: A declaração ```import````\n",
        "\n",
        "* Habilita uso do outro arquivo python ou biblioteca\n",
        "* Importação: ```import math```\n",
        "* Importação nomeada: ```import match as m```\n",
        "* Importação específica: ```from match import pow```\n",
        "* Importação total: ```from match import *``` (cuidado! use somente em casos específicos)"
      ]
    },
    {
      "cell_type": "markdown",
      "metadata": {
        "id": "lEm1Q63dU0Vt"
      },
      "source": [
        "## 6.6 Módulos"
      ]
    },
    {
      "cell_type": "code",
      "metadata": {
        "id": "2RjyOdz5U0Vt",
        "outputId": "fb52cfac-14d8-4785-d69f-8c028ace3217"
      },
      "source": [
        "# utensilios.py\n",
        "def tomar_sopa():\n",
        "    return 'colher'\n",
        "\n",
        "# main.py (opção 1)\n",
        "import utensilios\n",
        "print(utensilios.tomar_sopa())\n",
        "\n",
        "# main.py (opção 2)\n",
        "from utensilios import tomar_sopa\n",
        "print(tomar_sopa())"
      ],
      "execution_count": null,
      "outputs": [
        {
          "output_type": "error",
          "ename": "ModuleNotFoundError",
          "evalue": "No module named 'utensilios'",
          "traceback": [
            "\u001b[0;31m---------------------------------------------------------------------------\u001b[0m",
            "\u001b[0;31mModuleNotFoundError\u001b[0m                       Traceback (most recent call last)",
            "\u001b[0;32m<ipython-input-1-7b5894c38903>\u001b[0m in \u001b[0;36m<module>\u001b[0;34m\u001b[0m\n\u001b[1;32m      4\u001b[0m \u001b[0;34m\u001b[0m\u001b[0m\n\u001b[1;32m      5\u001b[0m \u001b[0;31m# main.py (opção 1)\u001b[0m\u001b[0;34m\u001b[0m\u001b[0;34m\u001b[0m\u001b[0;34m\u001b[0m\u001b[0m\n\u001b[0;32m----> 6\u001b[0;31m \u001b[0;32mimport\u001b[0m \u001b[0mutensilios\u001b[0m\u001b[0;34m\u001b[0m\u001b[0;34m\u001b[0m\u001b[0m\n\u001b[0m\u001b[1;32m      7\u001b[0m \u001b[0mprint\u001b[0m\u001b[0;34m(\u001b[0m\u001b[0mutensilios\u001b[0m\u001b[0;34m.\u001b[0m\u001b[0mtomar_sopa\u001b[0m\u001b[0;34m(\u001b[0m\u001b[0;34m)\u001b[0m\u001b[0;34m)\u001b[0m\u001b[0;34m\u001b[0m\u001b[0;34m\u001b[0m\u001b[0m\n\u001b[1;32m      8\u001b[0m \u001b[0;34m\u001b[0m\u001b[0m\n",
            "\u001b[0;31mModuleNotFoundError\u001b[0m: No module named 'utensilios'"
          ]
        }
      ]
    },
    {
      "cell_type": "markdown",
      "metadata": {
        "id": "OctGTXz5U0Vu"
      },
      "source": [
        "## 6.7 Pacotes\n",
        "\n",
        "* Pacotes são namespaces que contém múltiplos pacotes e módulos.\n",
        "* Pacotes são simplesmente diretórios, mas tem um porém: cada pacote/diretório DEVE conter um arquivo especial chamado de ```__init__.py```\n",
        "* Não inserindo o arquivo ```__init__.py``` em um pacote usando Python 3 deve funcionar mas isso é uma outra história"
      ]
    },
    {
      "cell_type": "code",
      "metadata": {
        "id": "Nydi2L8aU0Vu"
      },
      "source": [
        "# frutas/__init__.py\n",
        "# -- vazio -- nada aqui -- realmente nada -- somente um solitário e vazio arquivo\n",
        "\n",
        "# frutas/melancia.py\n",
        "def imprima_isso():\n",
        "    print('melancia')\n",
        "\n",
        "# main.py\n",
        "from frutas import melancia\n",
        "melancia.imprima_isso()"
      ],
      "execution_count": null,
      "outputs": []
    },
    {
      "cell_type": "markdown",
      "metadata": {
        "id": "6gdozzWQU0Vu"
      },
      "source": [
        "Se a pasta conter um arquivo ```__init__.py```, ele mesmo pode ser importado com o nome do pacote."
      ]
    },
    {
      "cell_type": "code",
      "metadata": {
        "id": "Sdr9P2JOU0Vu"
      },
      "source": [
        " # foo/__init__.py\n",
        "def cumprimento():\n",
        "    return \"Hello World!\"\n",
        "\n",
        "# main.py\n",
        "from foo import cumprimento\n",
        "print(cumprimento())"
      ],
      "execution_count": null,
      "outputs": []
    }
  ]
}