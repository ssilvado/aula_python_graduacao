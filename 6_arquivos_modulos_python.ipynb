{
  "nbformat": 4,
  "nbformat_minor": 0,
  "metadata": {
    "kernelspec": {
      "name": "python3",
      "display_name": "Python 3.9.2 64-bit ('root-python-env': conda)"
    },
    "language_info": {
      "codemirror_mode": {
        "name": "ipython",
        "version": 3
      },
      "file_extension": ".py",
      "mimetype": "text/x-python",
      "name": "python",
      "nbconvert_exporter": "python",
      "pygments_lexer": "ipython3",
      "version": "3.9.2"
    },
    "interpreter": {
      "hash": "335436fdd3b76d4f3727a636fd436c7d3c5aef570f332174c0978c1012c03da9"
    },
    "colab": {
      "name": "6-arquivos-modulos_python.ipynb",
      "provenance": [],
      "collapsed_sections": [],
      "include_colab_link": true
    }
  },
  "cells": [
    {
      "cell_type": "markdown",
      "metadata": {
        "id": "view-in-github",
        "colab_type": "text"
      },
      "source": [
        "<a href=\"https://colab.research.google.com/github/ssilvado/aula_python_graduacao/blob/main/6_arquivos_modulos_python.ipynb\" target=\"_parent\"><img src=\"https://colab.research.google.com/assets/colab-badge.svg\" alt=\"Open In Colab\"/></a>"
      ]
    },
    {
      "cell_type": "markdown",
      "metadata": {
        "id": "d32SvPIvtWOw"
      },
      "source": [
        "# 6. Arquivos e módulos\n",
        "\n",
        "## 6.1 Abrindo arquivos\n",
        "\n",
        "* ```open(name, mode)``` retorna um objeto do tipo _file_\n",
        "* ```name``` é o caminho do arquivo a ser aberto\n",
        "* ```mode```:\n",
        "   * 'r' (read - leitura): o arquivo é aberto em modo somente leitura\n",
        "   * 'w' (write - escrita): o arquivo é aberto em modo somente escrita, e é truncado.\n",
        "   * 'a' (append - adição): como 'e' mas acrescenta no arquivo sem truncar.\n",
        "   * 'x': como 'w' mas o arquivo não deve existir.\n",
        "* ```open(name)``` padrão para leitura: ```open(name, 'rt')```\n",
        "\n",
        "## 6.2 Fechando arquivos\n",
        "\n",
        "```f.close()```:\n",
        "Lança um tratamento no arquivo\n",
        "Escreve o contéudo do objeto _file_ no disco.\n",
        "Pode ser feito de forma alternativa usando a declaração ```with```:"
      ]
    },
    {
      "cell_type": "code",
      "metadata": {
        "colab": {
          "base_uri": "https://localhost:8080/"
        },
        "id": "89LYB-aItWO0",
        "outputId": "5fb1448e-2957-49cb-9f7f-da4063ae0003"
      },
      "source": [
        "with open('lista_compras.txt') as f:\n",
        "    print(f.read())"
      ],
      "execution_count": 6,
      "outputs": [
        {
          "output_type": "stream",
          "text": [
            "arroz\n",
            "feijão\n",
            "farinha\n",
            "maçã\n",
            "pêra\n"
          ],
          "name": "stdout"
        }
      ]
    },
    {
      "cell_type": "markdown",
      "metadata": {
        "id": "rlRcb86LtWO2"
      },
      "source": [
        "## 6.3 Lendo arquivos\n",
        "\n",
        "* ```f.read()``` faz a leitura de todo o arquivo (até ```EOF```)\n",
        "* ```f.read(index)``` faz a leitura do arquivo até ```index```"
      ]
    },
    {
      "cell_type": "code",
      "metadata": {
        "colab": {
          "base_uri": "https://localhost:8080/"
        },
        "id": "Rmoi2HHutWO2",
        "outputId": "e496058b-9d80-4d5e-e51b-e4441982138e"
      },
      "source": [
        "# Prints each line of the file.\n",
        "with open('lista_compras.txt') as f:\n",
        "    for l in f:\n",
        "        print(l)"
      ],
      "execution_count": 7,
      "outputs": [
        {
          "output_type": "stream",
          "text": [
            "arroz\n",
            "\n",
            "feijão\n",
            "\n",
            "farinha\n",
            "\n",
            "maçã\n",
            "\n",
            "pêra\n"
          ],
          "name": "stdout"
        }
      ]
    },
    {
      "cell_type": "markdown",
      "metadata": {
        "id": "QGeaotTftWO3"
      },
      "source": [
        "## 6.4 Escrevendo em arquivos\n",
        "\n",
        "```f.write(string)``` escreve string (sem adicionar ```\\n```)\n",
        "```f.writelines(sequence)``` escreve uma sequência de conteúdo (também sem adicionar ```\\n```)"
      ]
    },
    {
      "cell_type": "code",
      "metadata": {
        "id": "Ik60A4fxtWO4"
      },
      "source": [
        "frutas = ['banana', 'melancia', 'goiaba']\n",
        "with open('lista_compras.txt', 'w') as f:\n",
        "    f.writelines(frutas)"
      ],
      "execution_count": 8,
      "outputs": []
    },
    {
      "cell_type": "markdown",
      "metadata": {
        "id": "pn3tH106tWO4"
      },
      "source": [
        "## 6.5 Módulos e pacotes: A declaração ```import````\n",
        "\n",
        "* Habilita uso do outro arquivo python ou biblioteca\n",
        "* Importação: ```import math```\n",
        "* Importação nomeada: ```import match as m```\n",
        "* Importação específica: ```from match import pow```\n",
        "* Importação total: ```from match import *``` (cuidado! use somente em casos específicos)"
      ]
    },
    {
      "cell_type": "markdown",
      "metadata": {
        "id": "zlrQtJCntWO6"
      },
      "source": [
        "## 6.6 Módulos\n",
        "\n",
        "Um módulo é um arquivo contendo definições e instruções Python. O nome do arquivo é o nome do módulo acrescido do sufixo .py. Dentro de um módulo, o nome do módulo (como uma string) está disponível como o valor da variável global ```__name__```. \n",
        "\n",
        "Por exemplo, use seu editor de texto favorito para criar um arquivo chamado ```fibonacci.py``` no diretório atual com o seguinte conteúdo:\n",
        "\n",
        "```python\n",
        "# Fibonacci numbers module\n",
        "\n",
        "def fib(n):    # write Fibonacci series up to n\n",
        "    a, b = 0, 1\n",
        "    while a < n:\n",
        "        print(a, end=' ')\n",
        "        a, b = b, a+b\n",
        "    print()\n",
        "\n",
        "def fib2(n):   # return Fibonacci series up to n\n",
        "    result = []\n",
        "    a, b = 0, 1\n",
        "    while a < n:\n",
        "        result.append(a)\n",
        "        a, b = b, a+b\n",
        "    return result\n",
        "```\n",
        "\n",
        "Agora vamos importar o módulo:"
      ]
    },
    {
      "cell_type": "code",
      "metadata": {
        "id": "5HcNJP1BtWO7"
      },
      "source": [
        "import fibonacci"
      ],
      "execution_count": 9,
      "outputs": []
    },
    {
      "cell_type": "markdown",
      "metadata": {
        "id": "yPZ4V3EyNrL9"
      },
      "source": [
        "Isso não coloca os nomes das funções definidas em fibo diretamente na tabela de símbolos atual; isso coloca somente o nome do módulo fibo. Usando o nome do módulo você pode acessar as funções:"
      ]
    },
    {
      "cell_type": "code",
      "metadata": {
        "id": "Pv3ksfa5Nzqy",
        "colab": {
          "base_uri": "https://localhost:8080/"
        },
        "outputId": "caf0619d-6871-4241-9b04-619a9f4d0704"
      },
      "source": [
        "fibonacci.fib(1000)"
      ],
      "execution_count": 10,
      "outputs": [
        {
          "output_type": "stream",
          "text": [
            "0 1 1 2 3 5 8 13 21 34 55 89 144 233 377 610 987 \n"
          ],
          "name": "stdout"
        }
      ]
    },
    {
      "cell_type": "code",
      "metadata": {
        "id": "9TObMY-oN1Ox",
        "colab": {
          "base_uri": "https://localhost:8080/"
        },
        "outputId": "4a0ecd38-aee1-4c57-cf00-c5b8c5afb304"
      },
      "source": [
        "fibonacci.fib2(100)"
      ],
      "execution_count": 11,
      "outputs": [
        {
          "output_type": "execute_result",
          "data": {
            "text/plain": [
              "[0, 1, 1, 2, 3, 5, 8, 13, 21, 34, 55, 89]"
            ]
          },
          "metadata": {
            "tags": []
          },
          "execution_count": 11
        }
      ]
    },
    {
      "cell_type": "code",
      "metadata": {
        "id": "PdSxJRYXN1Ya",
        "colab": {
          "base_uri": "https://localhost:8080/",
          "height": 35
        },
        "outputId": "69535655-1d59-4a6e-8218-ac331517861a"
      },
      "source": [
        "fibonacci.__name__"
      ],
      "execution_count": 12,
      "outputs": [
        {
          "output_type": "execute_result",
          "data": {
            "application/vnd.google.colaboratory.intrinsic+json": {
              "type": "string"
            },
            "text/plain": [
              "'fibonacci'"
            ]
          },
          "metadata": {
            "tags": []
          },
          "execution_count": 12
        }
      ]
    },
    {
      "cell_type": "markdown",
      "metadata": {
        "id": "4ePffpn7OQcn"
      },
      "source": [
        "Se pretender usar uma função muitas vezes, você pode atribui-lá a um nome local:"
      ]
    },
    {
      "cell_type": "code",
      "metadata": {
        "id": "aAVEayLyOSvW",
        "colab": {
          "base_uri": "https://localhost:8080/"
        },
        "outputId": "00c0f2f1-1a33-40cc-a79d-540eed3ac846"
      },
      "source": [
        "fib = fibonacci.fib\n",
        "fib(500)"
      ],
      "execution_count": 13,
      "outputs": [
        {
          "output_type": "stream",
          "text": [
            "0 1 1 2 3 5 8 13 21 34 55 89 144 233 377 \n"
          ],
          "name": "stdout"
        }
      ]
    },
    {
      "cell_type": "markdown",
      "metadata": {
        "id": "UJVjK6yVOYi1"
      },
      "source": [
        "Existe uma variante do comando import que importa definições de um módulo diretamente para a tabela de símbolos do módulo importador. Por exemplo:"
      ]
    },
    {
      "cell_type": "code",
      "metadata": {
        "id": "9C0dp75yOd-w",
        "colab": {
          "base_uri": "https://localhost:8080/"
        },
        "outputId": "dc6e13dc-cfeb-432c-b05e-36ecf72c8c8b"
      },
      "source": [
        "from fibonacci import fib, fib2\n",
        "fib(500)"
      ],
      "execution_count": 14,
      "outputs": [
        {
          "output_type": "stream",
          "text": [
            "0 1 1 2 3 5 8 13 21 34 55 89 144 233 377 \n"
          ],
          "name": "stdout"
        }
      ]
    },
    {
      "cell_type": "markdown",
      "metadata": {
        "id": "q11qeNvxtWO9"
      },
      "source": [
        "## 6.7 Pacotes\n",
        "\n",
        "* Pacotes são namespaces que contém múltiplos pacotes e módulos.\n",
        "* Pacotes são simplesmente diretórios, mas tem um porém: cada pacote/diretório DEVE conter um arquivo especial chamado de ```__init__.py```\n",
        "* Não inserindo o arquivo ```__init__.py``` em um pacote usando Python 3 deve funcionar mas isso é uma outra história.\n",
        "\n",
        "Exemplo:\n",
        "\n",
        "Crie uma pasta e um arquivo ```frutas/__init__.py``` com o seguinte conteúdo:\n",
        "\n",
        "```python\n",
        "# frutas/__init__.py\n",
        "# -- vazio -- nada aqui -- realmente nada -- somente um solitário e vazio arquivo\n",
        "```\n",
        "\n",
        "e também o arquivo ```frutas/melancia.py``` com o seguinte conteúdo:\n",
        "\n",
        "```python\n",
        "def imprima_isso():\n",
        "    print('melancia')\n",
        "```\n",
        "\n",
        "Então importamos o pacote melancia da seguinte forma:\n"
      ]
    },
    {
      "cell_type": "code",
      "metadata": {
        "colab": {
          "base_uri": "https://localhost:8080/"
        },
        "id": "zipZHouQtWO9",
        "outputId": "ed068c66-5536-428d-869d-fecef61c1da1"
      },
      "source": [
        "# main.py\n",
        "from frutas import melancia\n",
        "melancia.imprima_isso()"
      ],
      "execution_count": 15,
      "outputs": [
        {
          "output_type": "stream",
          "text": [
            "melancia\n"
          ],
          "name": "stdout"
        }
      ]
    }
  ]
}