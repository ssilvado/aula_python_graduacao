{
  "nbformat": 4,
  "nbformat_minor": 0,
  "metadata": {
    "kernelspec": {
      "display_name": "Python 3",
      "language": "python",
      "name": "python3"
    },
    "language_info": {
      "codemirror_mode": {
        "name": "ipython",
        "version": 3
      },
      "file_extension": ".py",
      "mimetype": "text/x-python",
      "name": "python",
      "nbconvert_exporter": "python",
      "pygments_lexer": "ipython3",
      "version": "3.7.2"
    },
    "colab": {
      "name": "2-tipos-dados_python.ipynb",
      "provenance": [],
      "include_colab_link": true
    }
  },
  "cells": [
    {
      "cell_type": "markdown",
      "metadata": {
        "id": "view-in-github",
        "colab_type": "text"
      },
      "source": [
        "<a href=\"https://colab.research.google.com/github/ssilvado/aula_python_graduacao/blob/main/2_tipos_dados_python.ipynb\" target=\"_parent\"><img src=\"https://colab.research.google.com/assets/colab-badge.svg\" alt=\"Open In Colab\"/></a>"
      ]
    },
    {
      "cell_type": "markdown",
      "metadata": {
        "id": "xWSoZh3BUWDs"
      },
      "source": [
        "# 2. Tipos de dados em Python\n",
        "\n",
        "Python suporta os seguintes tipos numéricos escalares:\n",
        "\n",
        "## 2.1 Inteiros\n"
      ]
    },
    {
      "cell_type": "code",
      "metadata": {
        "id": "CVKQvVQwUWDv",
        "outputId": "40777533-f9fa-4e55-9262-65f55f9af759"
      },
      "source": [
        "1 + 1\n",
        "a = 4\n",
        "\n",
        "type(a)"
      ],
      "execution_count": null,
      "outputs": [
        {
          "output_type": "execute_result",
          "data": {
            "text/plain": [
              "int"
            ]
          },
          "metadata": {
            "tags": []
          },
          "execution_count": 11
        }
      ]
    },
    {
      "cell_type": "code",
      "metadata": {
        "id": "VLbJ9zucUWDx",
        "outputId": "4ff92553-31c6-4522-af27-861d7683c257"
      },
      "source": [
        "z = 5/2     # divisão de número inteiro em Python 3\n",
        "t = int(5/2)\n",
        "print (z, t)"
      ],
      "execution_count": null,
      "outputs": [
        {
          "output_type": "stream",
          "text": [
            "2.5 2\n"
          ],
          "name": "stdout"
        }
      ]
    },
    {
      "cell_type": "markdown",
      "metadata": {
        "id": "m5kkJ3axUWDy"
      },
      "source": [
        "## 2.2 Floats\n"
      ]
    },
    {
      "cell_type": "code",
      "metadata": {
        "id": "EseON0o3UWDz",
        "outputId": "92f5d203-a49d-431c-961e-7ae2f3c3225e"
      },
      "source": [
        "c = 2.1\n",
        "type(c)"
      ],
      "execution_count": null,
      "outputs": [
        {
          "output_type": "execute_result",
          "data": {
            "text/plain": [
              "float"
            ]
          },
          "metadata": {
            "tags": []
          },
          "execution_count": 13
        }
      ]
    },
    {
      "cell_type": "markdown",
      "metadata": {
        "id": "ysAe00WxUWDz"
      },
      "source": [
        "## 2.3 Complexos"
      ]
    },
    {
      "cell_type": "code",
      "metadata": {
        "id": "kuL1slY5UWD0",
        "outputId": "0fd4c116-6abb-4f31-a0fa-7878c2e76e83"
      },
      "source": [
        "a = 1.5 + 0.5j\n",
        "a.real\n",
        "a.imag\n",
        "type(1. + 0j )"
      ],
      "execution_count": null,
      "outputs": [
        {
          "output_type": "execute_result",
          "data": {
            "text/plain": [
              "complex"
            ]
          },
          "metadata": {
            "tags": []
          },
          "execution_count": 14
        }
      ]
    },
    {
      "cell_type": "markdown",
      "metadata": {
        "id": "_zqcjRvbUWD2"
      },
      "source": [
        "## 2.4 Booleanos\n",
        "\n",
        "Os tipos booleanos literais no Python são ```True``` e ```False```. Vamos rodar eles através da declaração ```if```:"
      ]
    },
    {
      "cell_type": "code",
      "metadata": {
        "id": "PRER9TISUWD3"
      },
      "source": [
        "3 > 4\n",
        "test = (3 > 4)\n",
        "test\n",
        "type(test)"
      ],
      "execution_count": null,
      "outputs": []
    },
    {
      "cell_type": "code",
      "metadata": {
        "scrolled": true,
        "id": "e-5FnRlNUWD4",
        "outputId": "f703b315-992b-44ec-be80-cc37bca949a9"
      },
      "source": [
        "if True:\n",
        "    print('Sim')"
      ],
      "execution_count": null,
      "outputs": [
        {
          "output_type": "stream",
          "text": [
            "Sim\n"
          ],
          "name": "stdout"
        }
      ]
    },
    {
      "cell_type": "code",
      "metadata": {
        "id": "SaG7E0bWUWD4"
      },
      "source": [
        "if False:\n",
        "    print('Você não verá essa mensagem')"
      ],
      "execution_count": null,
      "outputs": []
    },
    {
      "cell_type": "markdown",
      "metadata": {
        "id": "6AWcJ-hsUWD5"
      },
      "source": [
        "### 2.4.1 BOOLEANOS E OUTROS TIPOS DE DADOS\n",
        "Os seguintes valores são definidos como ```False```:\n",
        "* ```None```\n",
        "* ```0```\n",
        "* ```[ ]``` (ou qualquer outra sequência vazia, ```string``` inclusive)\n",
        "\n",
        "Tudo diferente dos anteriores age como um ```True```\n",
        "\n",
        "<img src=\"operacoes_booleanas.png\" />\n",
        "\n",
        "\n",
        "Pela tabela ```and``` e ```or``` são operadores curso circuito:"
      ]
    },
    {
      "cell_type": "code",
      "metadata": {
        "id": "hjv6ShFnUWD5"
      },
      "source": [
        "1 or True"
      ],
      "execution_count": null,
      "outputs": []
    },
    {
      "cell_type": "code",
      "metadata": {
        "id": "5dhY-kAfUWD6"
      },
      "source": [
        "True or 1"
      ],
      "execution_count": null,
      "outputs": []
    },
    {
      "cell_type": "markdown",
      "metadata": {
        "id": "j5pMDuxIUWD6"
      },
      "source": [
        "Qual será o resultado de ```True and (2 + 2)```?"
      ]
    },
    {
      "cell_type": "code",
      "metadata": {
        "id": "G5F6kd5IUWD7"
      },
      "source": [
        "True and (2+2)"
      ],
      "execution_count": null,
      "outputs": []
    },
    {
      "cell_type": "markdown",
      "metadata": {
        "id": "9ky5LeesUWD7"
      },
      "source": [
        "E qual será de ```not 3```?"
      ]
    },
    {
      "cell_type": "code",
      "metadata": {
        "id": "3I6o7fQsUWD7"
      },
      "source": [
        "not 3"
      ],
      "execution_count": null,
      "outputs": []
    },
    {
      "cell_type": "markdown",
      "metadata": {
        "id": "gWsfVQmYUWD7"
      },
      "source": [
        "# 2.5 Tipos de dados: Operadores \n",
        "\n",
        "```+ ``` soma\n",
        "\n",
        "```-``` subtração\n",
        "\n",
        "```*``` multiplicação\n",
        "\n",
        "```/``` divisão\n",
        "\n",
        "```%``` módulo\n",
        "\n",
        "```**``` exponencial"
      ]
    },
    {
      "cell_type": "code",
      "metadata": {
        "id": "OVJpYsrSUWD8"
      },
      "source": [
        "3 + 5\n",
        "10 - 5.\n",
        "7 * 3.\n",
        "2**10\n",
        "7./2\n",
        "8 % 3"
      ],
      "execution_count": null,
      "outputs": []
    },
    {
      "cell_type": "markdown",
      "metadata": {
        "id": "46XQW5g4UWD8"
      },
      "source": [
        "## 2.6 Tipos de dados: Conversão de tipos"
      ]
    },
    {
      "cell_type": "code",
      "metadata": {
        "id": "8oVqz32vUWD8"
      },
      "source": [
        "float(1)\n",
        "int(4.3)\n",
        "str(2)"
      ],
      "execution_count": null,
      "outputs": []
    },
    {
      "cell_type": "markdown",
      "metadata": {
        "id": "xxP3UZzOUWD8"
      },
      "source": [
        "## 2.7 Objetos e referências\n",
        "\n",
        "Se executarmos os seguintes comandos:"
      ]
    },
    {
      "cell_type": "code",
      "metadata": {
        "id": "qh6UJkTPUWD9"
      },
      "source": [
        "a = \"objeto\"\n",
        "b = \"objeto\""
      ],
      "execution_count": null,
      "outputs": []
    },
    {
      "cell_type": "markdown",
      "metadata": {
        "id": "9vGiU05NUWD9"
      },
      "source": [
        "Sabemos que ***a*** e ***b*** se referirão a uma ***string*** mas não sabemos se eles apontam para o mesmo objeto de Python.\n",
        "\n",
        "O interpretador pode organizar sua memória de duas maneiras:\n",
        "\n",
        "* referir ***a*** e ***b*** a dois objetos distintos com os mesmos valores\n",
        "* referir ***a*** e ***b*** ao mesmo objeto\n",
        "\n",
        "![refstring](ref_string.png)\n",
        "\n",
        "Podemos testar se duas variáveis se referem ao mesmo objeto:"
      ]
    },
    {
      "cell_type": "code",
      "metadata": {
        "id": "hVZbwPQnUWD9",
        "outputId": "f8e8d9e2-6761-49b6-fae6-9cded19de910"
      },
      "source": [
        "a is b"
      ],
      "execution_count": null,
      "outputs": [
        {
          "output_type": "display_data",
          "data": {
            "text/plain": [
              "True"
            ]
          },
          "metadata": {
            "tags": []
          }
        }
      ]
    },
    {
      "cell_type": "markdown",
      "metadata": {
        "id": "RKZoTYetUWD9"
      },
      "source": [
        "Nesse caso, ***a*** e ***b*** têm o mesmo valor mas não se referem ao mesmo objeto.\n",
        "\n",
        "![refstring](ref_list.png)\n",
        "\n",
        "## Alias\n",
        "\n",
        "Podemos forçar ***a*** e ***b*** a se referirem ao mesmo objeto. Com isso, criamos um **alias** (apelido)."
      ]
    },
    {
      "cell_type": "code",
      "metadata": {
        "id": "OoDLDrI9UWD-",
        "outputId": "7d3638b7-09e6-4165-99c4-4cb3dfcf706f"
      },
      "source": [
        "a = [4, 5, 6]\n",
        "b = [4, 5, 6]\n",
        "a is b"
      ],
      "execution_count": null,
      "outputs": [
        {
          "output_type": "display_data",
          "data": {
            "text/plain": [
              "False"
            ]
          },
          "metadata": {
            "tags": []
          }
        }
      ]
    },
    {
      "cell_type": "code",
      "metadata": {
        "id": "AKJEen8nUWD-",
        "outputId": "c3dcdfe7-48b7-4dca-e822-14b42578ffb3"
      },
      "source": [
        "a = b\n",
        "a is b"
      ],
      "execution_count": null,
      "outputs": [
        {
          "output_type": "display_data",
          "data": {
            "text/plain": [
              "True"
            ]
          },
          "metadata": {
            "tags": []
          }
        }
      ]
    },
    {
      "cell_type": "code",
      "metadata": {
        "id": "ijGeNMiCUWD-",
        "outputId": "9fac9674-1944-45eb-bb84-df147b820ed7"
      },
      "source": [
        "a.append(88)\n",
        "print('a = ', a, ', b = ', b)"
      ],
      "execution_count": null,
      "outputs": [
        {
          "output_type": "stream",
          "text": [
            "a =  [4, 5, 6, 88] , b =  [4, 5, 6, 88]\n"
          ],
          "name": "stdout"
        }
      ]
    },
    {
      "cell_type": "markdown",
      "metadata": {
        "id": "fkTbVGc-UWD_"
      },
      "source": [
        "### O que aconteceu???\n",
        "\n",
        "![difflists](diff_lists.png)\n",
        "![samelists](same_lists.png)\n",
        "\n",
        "\n",
        "### Recomendações em relação a **aliases**:\n",
        "\n",
        "Em geral, é mais seguro evitar fazer um **alias** de objetos **mutáveis**, como listas. Para objetos **imutáveis**, como strings, não há restrições de se fazer **aliases**."
      ]
    },
    {
      "cell_type": "markdown",
      "metadata": {
        "id": "0BqJrcIDUWD_"
      },
      "source": [
        "<p id=\"nav-felt\" style=\"possition:relative; width:50%; float:left;\"><a href=\"1-introducao_python.ipynb\">&lt;&lt; Anterior: 1. Introdução</a></p>\n",
        "<p id=\"nav-right\" style=\"possition:relative; width:45%; float:left; text-align:right;\"><a href=\"3-tipos-sequencias_python.ipynb\">Próximo: 3. Tipos de sequências &gt;&gt;</a></p>"
      ]
    },
    {
      "cell_type": "code",
      "metadata": {
        "id": "Igj7jShGUWD_"
      },
      "source": [
        ""
      ],
      "execution_count": null,
      "outputs": []
    }
  ]
}