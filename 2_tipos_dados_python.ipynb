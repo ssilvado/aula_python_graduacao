{
  "nbformat": 4,
  "nbformat_minor": 0,
  "metadata": {
    "kernelspec": {
      "display_name": "Python 3",
      "language": "python",
      "name": "python3"
    },
    "language_info": {
      "codemirror_mode": {
        "name": "ipython",
        "version": 3
      },
      "file_extension": ".py",
      "mimetype": "text/x-python",
      "name": "python",
      "nbconvert_exporter": "python",
      "pygments_lexer": "ipython3",
      "version": "3.7.2"
    },
    "colab": {
      "name": "2-tipos-dados_python.ipynb",
      "provenance": [],
      "collapsed_sections": [],
      "include_colab_link": true
    }
  },
  "cells": [
    {
      "cell_type": "markdown",
      "metadata": {
        "id": "view-in-github",
        "colab_type": "text"
      },
      "source": [
        "<a href=\"https://colab.research.google.com/github/ssilvado/aula_python_graduacao/blob/main/2_tipos_dados_python.ipynb\" target=\"_parent\"><img src=\"https://colab.research.google.com/assets/colab-badge.svg\" alt=\"Open In Colab\"/></a>"
      ]
    },
    {
      "cell_type": "markdown",
      "metadata": {
        "id": "zRKNcx_AWOqT"
      },
      "source": [
        "# 2. Tipos de dados em Python\n",
        "\n",
        "<img src=\"figures/tipos-dados.png\" />\n",
        "\n",
        "A função ```type()``` mostra o tipo do dado, veja alguns exemplos.\n"
      ]
    },
    {
      "cell_type": "code",
      "metadata": {
        "colab": {
          "base_uri": "https://localhost:8080/"
        },
        "id": "n5lZzwMQUOuC",
        "outputId": "58f9c8fa-8ef2-4fb0-d0c9-92a14bdea96c"
      },
      "source": [
        "type(\"text\")        # <class 'str'>"
      ],
      "execution_count": null,
      "outputs": [
        {
          "output_type": "execute_result",
          "data": {
            "text/plain": [
              "str"
            ]
          },
          "metadata": {
            "tags": []
          },
          "execution_count": 1
        }
      ]
    },
    {
      "cell_type": "code",
      "metadata": {
        "colab": {
          "base_uri": "https://localhost:8080/"
        },
        "id": "RUSEnCPqUSP4",
        "outputId": "cb91f488-0228-457d-d1ca-a96b2952cbc1"
      },
      "source": [
        "type(1)             # <class 'int'>\n"
      ],
      "execution_count": null,
      "outputs": [
        {
          "output_type": "execute_result",
          "data": {
            "text/plain": [
              "int"
            ]
          },
          "metadata": {
            "tags": []
          },
          "execution_count": 2
        }
      ]
    },
    {
      "cell_type": "code",
      "metadata": {
        "id": "IP9-Bet7USbQ",
        "colab": {
          "base_uri": "https://localhost:8080/"
        },
        "outputId": "63532b8d-08e2-40a4-93be-fdbe2089c771"
      },
      "source": [
        "type(0.99)          # <class 'float'>"
      ],
      "execution_count": null,
      "outputs": [
        {
          "output_type": "execute_result",
          "data": {
            "text/plain": [
              "float"
            ]
          },
          "metadata": {
            "tags": []
          },
          "execution_count": 3
        }
      ]
    },
    {
      "cell_type": "markdown",
      "metadata": {
        "id": "SVbNU_IlWgaX"
      },
      "source": [
        "## 2.1 Inteiros"
      ]
    },
    {
      "cell_type": "code",
      "metadata": {
        "colab": {
          "base_uri": "https://localhost:8080/"
        },
        "id": "eeUqzjBdWOqW",
        "outputId": "2e8db970-73fa-4e2f-a862-df7ace249c63"
      },
      "source": [
        "1 + 1\n",
        "a = 4\n",
        "\n",
        "type(a)"
      ],
      "execution_count": null,
      "outputs": [
        {
          "output_type": "execute_result",
          "data": {
            "text/plain": [
              "int"
            ]
          },
          "metadata": {
            "tags": []
          },
          "execution_count": 4
        }
      ]
    },
    {
      "cell_type": "code",
      "metadata": {
        "colab": {
          "base_uri": "https://localhost:8080/"
        },
        "id": "fyUkMSTWWOqZ",
        "outputId": "12751b6a-7d21-408c-c351-97e46d27b93a"
      },
      "source": [
        "z = 5/2     # divisão de número inteiro em Python 3\n",
        "t = int(5/2)\n",
        "print (z, t)"
      ],
      "execution_count": null,
      "outputs": [
        {
          "output_type": "stream",
          "text": [
            "2.5 2\n"
          ],
          "name": "stdout"
        }
      ]
    },
    {
      "cell_type": "markdown",
      "metadata": {
        "id": "YqNcQVGbWOqa"
      },
      "source": [
        "## 2.2 Floats\n"
      ]
    },
    {
      "cell_type": "code",
      "metadata": {
        "colab": {
          "base_uri": "https://localhost:8080/"
        },
        "id": "pboD3YdrWOqa",
        "outputId": "c6a53113-9468-4bf0-bcbc-d5e03697cdb6"
      },
      "source": [
        "c = 2.1\n",
        "type(c)"
      ],
      "execution_count": null,
      "outputs": [
        {
          "output_type": "execute_result",
          "data": {
            "text/plain": [
              "float"
            ]
          },
          "metadata": {
            "tags": []
          },
          "execution_count": 6
        }
      ]
    },
    {
      "cell_type": "markdown",
      "metadata": {
        "id": "HCPuJEXgWOqb"
      },
      "source": [
        "## 2.3 Complexos"
      ]
    },
    {
      "cell_type": "code",
      "metadata": {
        "colab": {
          "base_uri": "https://localhost:8080/"
        },
        "id": "KdBeTd_UWOqc",
        "outputId": "e14690fa-0eef-4ed5-fefe-838192dc13f0"
      },
      "source": [
        "a = 1.5 + 0.5j\n",
        "a.real\n",
        "a.imag\n",
        "type(1. + 0j )"
      ],
      "execution_count": null,
      "outputs": [
        {
          "output_type": "execute_result",
          "data": {
            "text/plain": [
              "complex"
            ]
          },
          "metadata": {
            "tags": []
          },
          "execution_count": 7
        }
      ]
    },
    {
      "cell_type": "markdown",
      "metadata": {
        "id": "nPBbJUdLWOqd"
      },
      "source": [
        "## 2.4 Booleanos\n",
        "\n",
        "Os tipos booleanos literais no Python são ```True``` e ```False```. Vamos rodar eles através da declaração ```if```:"
      ]
    },
    {
      "cell_type": "code",
      "metadata": {
        "colab": {
          "base_uri": "https://localhost:8080/"
        },
        "id": "xIO2u6I8WOqf",
        "outputId": "92d557ed-6ab9-4b66-9495-95b3dde364dc"
      },
      "source": [
        "3 > 4\n",
        "test = (3 > 4)\n",
        "test\n",
        "type(test)"
      ],
      "execution_count": null,
      "outputs": [
        {
          "output_type": "execute_result",
          "data": {
            "text/plain": [
              "bool"
            ]
          },
          "metadata": {
            "tags": []
          },
          "execution_count": 8
        }
      ]
    },
    {
      "cell_type": "code",
      "metadata": {
        "scrolled": true,
        "colab": {
          "base_uri": "https://localhost:8080/"
        },
        "id": "3Cz44acdWOqg",
        "outputId": "c29b9e84-bcb8-4a57-f8d6-2dd2d6fc3b4f"
      },
      "source": [
        "if True:\n",
        "    print('Sim')"
      ],
      "execution_count": null,
      "outputs": [
        {
          "output_type": "stream",
          "text": [
            "Sim\n"
          ],
          "name": "stdout"
        }
      ]
    },
    {
      "cell_type": "code",
      "metadata": {
        "id": "yO-nlgn2WOqg"
      },
      "source": [
        "if False:\n",
        "    print('Você não verá essa mensagem')"
      ],
      "execution_count": null,
      "outputs": []
    },
    {
      "cell_type": "markdown",
      "metadata": {
        "id": "o932Hj_sWOqh"
      },
      "source": [
        "### 2.4.1 BOOLEANOS E OUTROS TIPOS DE DADOS\n",
        "Os seguintes valores são definidos como ```False```:\n",
        "* ```None```\n",
        "* ```0```\n",
        "* ```[ ]``` (ou qualquer outra sequência vazia, ```string``` inclusive)\n",
        "\n",
        "Tudo diferente dos anteriores age como um ```True```\n",
        "\n",
        "<img src=\"figures/operacoes_booleanas.png\" />\n",
        "\n",
        "\n",
        "Pela tabela ```and``` e ```or``` são operadores curso circuito:"
      ]
    },
    {
      "cell_type": "code",
      "metadata": {
        "colab": {
          "base_uri": "https://localhost:8080/"
        },
        "id": "rtPEQbl2WOqh",
        "outputId": "b9af8358-1ebd-4466-9b13-3da6f72789df"
      },
      "source": [
        "1 or True"
      ],
      "execution_count": null,
      "outputs": [
        {
          "output_type": "execute_result",
          "data": {
            "text/plain": [
              "1"
            ]
          },
          "metadata": {
            "tags": []
          },
          "execution_count": 11
        }
      ]
    },
    {
      "cell_type": "code",
      "metadata": {
        "colab": {
          "base_uri": "https://localhost:8080/"
        },
        "id": "GZIKptCfWOqi",
        "outputId": "cde4ee98-17b5-4ef5-adb9-fefacb8347fc"
      },
      "source": [
        "True or 1"
      ],
      "execution_count": null,
      "outputs": [
        {
          "output_type": "execute_result",
          "data": {
            "text/plain": [
              "True"
            ]
          },
          "metadata": {
            "tags": []
          },
          "execution_count": 12
        }
      ]
    },
    {
      "cell_type": "markdown",
      "metadata": {
        "id": "AOTHrFGgWOqi"
      },
      "source": [
        "Qual será o resultado de ```True and (2 + 2)```?"
      ]
    },
    {
      "cell_type": "code",
      "metadata": {
        "colab": {
          "base_uri": "https://localhost:8080/"
        },
        "id": "Zbse3KcZWOqj",
        "outputId": "ef7b0261-68c4-4cf6-d9f5-e2df764f1b9b"
      },
      "source": [
        "True and (2+2)"
      ],
      "execution_count": null,
      "outputs": [
        {
          "output_type": "execute_result",
          "data": {
            "text/plain": [
              "4"
            ]
          },
          "metadata": {
            "tags": []
          },
          "execution_count": 13
        }
      ]
    },
    {
      "cell_type": "markdown",
      "metadata": {
        "id": "id4keszFWOqj"
      },
      "source": [
        "E qual será de ```not 3```?"
      ]
    },
    {
      "cell_type": "code",
      "metadata": {
        "colab": {
          "base_uri": "https://localhost:8080/"
        },
        "id": "88K6Or_kWOqj",
        "outputId": "22b6f08f-1eb5-40a7-901e-3850dae35d9a"
      },
      "source": [
        "not 3"
      ],
      "execution_count": null,
      "outputs": [
        {
          "output_type": "execute_result",
          "data": {
            "text/plain": [
              "False"
            ]
          },
          "metadata": {
            "tags": []
          },
          "execution_count": 14
        }
      ]
    },
    {
      "cell_type": "markdown",
      "metadata": {
        "id": "UWJX7tZMWOqk"
      },
      "source": [
        "## 2.6 Tipos de dados: Conversão de tipos"
      ]
    },
    {
      "cell_type": "code",
      "metadata": {
        "colab": {
          "base_uri": "https://localhost:8080/",
          "height": 35
        },
        "id": "lVoLAjuIWOqk",
        "outputId": "4995aafa-3034-43af-cac8-df526c939fe9"
      },
      "source": [
        "float(1)\n",
        "int(4.3)\n",
        "str(2)"
      ],
      "execution_count": null,
      "outputs": [
        {
          "output_type": "execute_result",
          "data": {
            "application/vnd.google.colaboratory.intrinsic+json": {
              "type": "string"
            },
            "text/plain": [
              "'2'"
            ]
          },
          "metadata": {
            "tags": []
          },
          "execution_count": 15
        }
      ]
    },
    {
      "cell_type": "markdown",
      "metadata": {
        "id": "W-mQRktIWOql"
      },
      "source": [
        "## 2.7 Objetos e referências\n",
        "\n",
        "Se executarmos os seguintes comandos:"
      ]
    },
    {
      "cell_type": "code",
      "metadata": {
        "id": "TL9s9oa1WOql"
      },
      "source": [
        "a = \"objeto\"\n",
        "b = \"objeto\""
      ],
      "execution_count": null,
      "outputs": []
    },
    {
      "cell_type": "markdown",
      "metadata": {
        "id": "IlpHZ4MqWOql"
      },
      "source": [
        "Sabemos que ***a*** e ***b*** se referirão a uma ***string*** mas não sabemos se eles apontam para o mesmo objeto de Python.\n",
        "\n",
        "O interpretador pode organizar sua memória de duas maneiras:\n",
        "\n",
        "* referir ***a*** e ***b*** a dois objetos distintos com os mesmos valores\n",
        "* referir ***a*** e ***b*** ao mesmo objeto\n",
        "\n",
        "<img src=\"figures/ref_string.png\" />\n",
        "\n",
        "Podemos testar se duas variáveis se referem ao mesmo objeto:"
      ]
    },
    {
      "cell_type": "code",
      "metadata": {
        "colab": {
          "base_uri": "https://localhost:8080/"
        },
        "id": "SbwEdPJ9WOql",
        "outputId": "b2058669-2244-47c5-dac6-042d34c40fa8"
      },
      "source": [
        "a is b"
      ],
      "execution_count": null,
      "outputs": [
        {
          "output_type": "execute_result",
          "data": {
            "text/plain": [
              "True"
            ]
          },
          "metadata": {
            "tags": []
          },
          "execution_count": 17
        }
      ]
    },
    {
      "cell_type": "markdown",
      "metadata": {
        "id": "4hzu1v_bWOqm"
      },
      "source": [
        "Nesse caso, ***a*** e ***b*** têm o mesmo valor mas não se referem ao mesmo objeto.\n",
        "\n",
        "\n",
        "## Alias\n",
        "\n",
        "Podemos forçar ***a*** e ***b*** a se referirem ao mesmo objeto. Com isso, criamos um **alias** (apelido)."
      ]
    },
    {
      "cell_type": "code",
      "metadata": {
        "colab": {
          "base_uri": "https://localhost:8080/"
        },
        "id": "GW34T1PBWOqm",
        "outputId": "aa833223-de36-4715-cca5-61be40a9113d"
      },
      "source": [
        "a = [4, 5, 6]\n",
        "b = [4, 5, 6]\n",
        "a is b"
      ],
      "execution_count": null,
      "outputs": [
        {
          "output_type": "execute_result",
          "data": {
            "text/plain": [
              "False"
            ]
          },
          "metadata": {
            "tags": []
          },
          "execution_count": 18
        }
      ]
    },
    {
      "cell_type": "code",
      "metadata": {
        "colab": {
          "base_uri": "https://localhost:8080/"
        },
        "id": "TLkyPkzwWOqn",
        "outputId": "55e73488-d28c-4d3e-aae2-2cd40e48505c"
      },
      "source": [
        "a = b\n",
        "a is b"
      ],
      "execution_count": null,
      "outputs": [
        {
          "output_type": "execute_result",
          "data": {
            "text/plain": [
              "True"
            ]
          },
          "metadata": {
            "tags": []
          },
          "execution_count": 19
        }
      ]
    },
    {
      "cell_type": "code",
      "metadata": {
        "colab": {
          "base_uri": "https://localhost:8080/"
        },
        "id": "hqdWH3aqWOqn",
        "outputId": "d4932554-b1fd-40f9-d828-c8ec3bc99109"
      },
      "source": [
        "a.append(88)\n",
        "print('a = ', a, ', b = ', b)"
      ],
      "execution_count": null,
      "outputs": [
        {
          "output_type": "stream",
          "text": [
            "a =  [4, 5, 6, 88] , b =  [4, 5, 6, 88]\n"
          ],
          "name": "stdout"
        }
      ]
    },
    {
      "cell_type": "markdown",
      "metadata": {
        "id": "fwHvGjZQWOqo"
      },
      "source": [
        "### O que aconteceu???\n",
        "\n",
        "<img src=\"figures/diff_lists.png\" />\n",
        "\n",
        "<img src=\"figures/same_lists.png\" />\n",
        "\n",
        "\n",
        "### Recomendações em relação a **aliases**:\n",
        "\n",
        "Em geral, é mais seguro evitar fazer um **alias** de objetos **mutáveis**, como listas. Para objetos **imutáveis**, como strings, não há restrições de se fazer **aliases**."
      ]
    },
    {
      "cell_type": "markdown",
      "metadata": {
        "id": "QoychYDXWOqo"
      },
      "source": [
        "<p id=\"nav-felt\" style=\"possition:relative; width:50%; float:left;\"><a href=\"1-introducao_python.ipynb\">&lt;&lt; Anterior: 1. Introdução</a></p>\n",
        "<p id=\"nav-right\" style=\"possition:relative; width:45%; float:left; text-align:right;\"><a href=\"3-tipos-sequencias_python.ipynb\">Próximo: 3. Tipos de sequências &gt;&gt;</a></p>"
      ]
    },
    {
      "cell_type": "code",
      "metadata": {
        "id": "Ut7rMuvbWOqo"
      },
      "source": [
        ""
      ],
      "execution_count": null,
      "outputs": []
    }
  ]
}