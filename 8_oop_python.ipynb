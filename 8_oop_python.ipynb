{
  "nbformat": 4,
  "nbformat_minor": 0,
  "metadata": {
    "kernelspec": {
      "name": "python3",
      "display_name": "Python 3.9.2 64-bit ('root-python-env': conda)"
    },
    "language_info": {
      "codemirror_mode": {
        "name": "ipython",
        "version": 3
      },
      "file_extension": ".py",
      "mimetype": "text/x-python",
      "name": "python",
      "nbconvert_exporter": "python",
      "pygments_lexer": "ipython3",
      "version": "3.9.2"
    },
    "interpreter": {
      "hash": "335436fdd3b76d4f3727a636fd436c7d3c5aef570f332174c0978c1012c03da9"
    },
    "colab": {
      "name": "8-oop_python.ipynb",
      "provenance": [],
      "include_colab_link": true
    }
  },
  "cells": [
    {
      "cell_type": "markdown",
      "metadata": {
        "id": "view-in-github",
        "colab_type": "text"
      },
      "source": [
        "<a href=\"https://colab.research.google.com/github/ssilvado/aula_python_graduacao/blob/main/8_oop_python.ipynb\" target=\"_parent\"><img src=\"https://colab.research.google.com/assets/colab-badge.svg\" alt=\"Open In Colab\"/></a>"
      ]
    },
    {
      "cell_type": "markdown",
      "metadata": {
        "id": "cYKJ67FOU3Z8"
      },
      "source": [
        "# 6. Programação Orientada à Objeto\n",
        "\n",
        "Python suporta programação orientada a objetos (POO). Os objetivos da POO são:\n",
        "\n",
        "* de organizar o código;\n",
        "* para re-utilização de código em contextos semelhantes.\n",
        "\n",
        "Aqui está um pequeno exemplo: crie uma classe Estudante, que é um objeto reunindo várias funções personalizadas (métodos) e variáveis ​​(atributos):"
      ]
    },
    {
      "cell_type": "code",
      "metadata": {
        "id": "t3H4APi4U3Z9"
      },
      "source": [
        "class Estudante(object):\n",
        "    def __init__(self, nome):\n",
        "        self.nome = nome\n",
        "    def set_idade(self, idade):\n",
        "        self.idade = idade\n",
        "    def set_curso(self, curso):\n",
        "        self.curso = curso\n",
        "\n",
        "ana = Estudante('ana')\n",
        "ana.set_idade(21)\n",
        "ana.set_curso('Civil')"
      ],
      "execution_count": null,
      "outputs": []
    },
    {
      "cell_type": "markdown",
      "metadata": {
        "id": "aZXw6wPVU3Z-"
      },
      "source": [
        "No exemplo anterior, a classe de Estudante tem métodos __ init__, defina_idade e defina_curso. Seus atributos são nome, idade e curso. Podemos chamar esses métodos e atributos com a seguinte notação: classinstance.method ou classinstance.attribute. O construtor __ init__ é um método especial que chamamos com: MyClass (parâmetros de inicialização se for o caso).\n",
        "Agora, suponha que deseja criar uma nova classe EstudanteMestrado com os mesmos métodos e atributos como o anterior, mas com um atributo de defesa adicional. Nós não iremos copiar a classe anterior, mas herdar dela:"
      ]
    },
    {
      "cell_type": "code",
      "metadata": {
        "id": "oufZ6RxLU3Z-"
      },
      "source": [
        "class EstudanteMestrado(Estudante):\n",
        "    defesa = 'dezembro'\n",
        "\n",
        "jaime = EstudanteMestrado('jaime')\n",
        "jaime.defesa #console interativo\n",
        "jaime.defina_idade(23)\n",
        "jaime.idade #console interativo"
      ],
      "execution_count": null,
      "outputs": []
    },
    {
      "cell_type": "markdown",
      "metadata": {
        "id": "pkaCvOCaU3Z_"
      },
      "source": [
        "A classe EstudanteMestrado herda dos atributos e métodos da classe Estudante.\n",
        "Graças a classes e a programação orientada a objeto, podemos organizar o código com classes diferentes, correspondentes a diferentes objetos que encontramos (uma classe de Experimento, uma classe de imagem, uma classe de fluxo, etc), com seus próprios métodos e atributos. Então, podemos usar a herança para considerar variações em torno de uma classe base e reutilização de código. Ex: de uma classe base de fluxo, podemos criar derivadas como FluxoStokes, FluxoTurbulento,  FluxoPotencial, etc."
      ]
    },
    {
      "cell_type": "markdown",
      "metadata": {
        "id": "B_SqaGdiU3Z_"
      },
      "source": [
        "## 6.1 Python Orientado a Objetos\n",
        "Programar em Python com orientação a objetos é mais simples que definir o que é a orientação a objetos, pois neste modelo não existe funções, mas sim métodos que se comunicam na programação procedural - o programador manipula os dados através de uma sequência de procedimentos:"
      ]
    },
    {
      "cell_type": "code",
      "metadata": {
        "id": "pxmUqD8aU3Z_"
      },
      "source": [
        "Procedimento1: abasteça com gasolina\n",
        "Procedimento2: encha os quatro pneus\n",
        "Procedimento3: limpe o para-brisa"
      ],
      "execution_count": null,
      "outputs": []
    },
    {
      "cell_type": "markdown",
      "metadata": {
        "id": "XdTc7gwPU3aA"
      },
      "source": [
        "Se as suas variáveis são carros, o código irá funcionar perfeitamente, contudo pensemos no caso da variável ser uma moto, ou um carro a álcool: vai dar erro ou teremos que reescrever o código.\n",
        "\n",
        "Na orientação a objetos a ideia é tornar os códigos reutilizáveis, neste caso, ao invés de uma variável carro, teríamos um objeto carro, pois um objeto tem atributos e métodos.\n",
        "\n",
        "Atributos são as características, e no caso de carro poderíamos definir um atributo chamado rodas que recebe o total de rodas. Poderíamos também ter um atributo booleano chamado para-brisas, que receberia verdadeiro ou falso, e um atributo combustível que poderia receber uma string como tipo.\n",
        "\n",
        "Métodos são ações que este objeto tem, por exemplo, um carro anda, buzina, dá seta, Poderíamos declarar um método como Carro.andar().toPosto().checkup(). Mas, e se fosse uma moto?\n",
        "\n",
        "Na orientação a objetos possuímos um recurso chamado herança, onde podemos criar outro objeto com características, atributos e métodos da classe herdade e selecioná-los.\n",
        "\n",
        "Vamos entender melhor isso através dos códigos a seguir, mas devemos salientar que em Python não é necessário definir os atributos (como private em Java), e também suporta múltiplas heranças e não suporta sobrecarga de métodos."
      ]
    },
    {
      "cell_type": "code",
      "metadata": {
        "id": "e0baiIn7U3aA"
      },
      "source": [
        "1  class Minhaclasse():\n",
        "2  \"\"\"\n",
        "3  Documentação da Classe\n",
        "4  \"\"\"\n",
        "5  atributo1 = \"VALOR_ATRIBUTO1\"\n",
        "6  atributo2 = \"VALOR_ATRIBUTO2\"\n",
        "7  __privado1 = \"VALOR_PRIVADO1\"\n",
        "8  __privado2 = \"VALOR_PRIVADO2\"\n",
        "9 \"\"\" DEFINIÇÕES \"\"\"\n",
        "10 def __init__ (self, params ):\n",
        "11 \"\"\" DOCUMENTACAO DO CONSTRUTOR \"\"\"\n",
        "12 #BLOCO DE CÓDIGO DO CONSTRUTOR\n",
        "13 def __del__ (self):\n",
        "14 \"\"\" DOCUMENTACAO DO DESTRUTOR \"\"\"\n",
        "15 #BLOCO DE CÓDIGO DO DESTRUTOR\n",
        "16 def Metodo1 (self, param1, params):\n",
        "17 #BLOCO DE CÓDIGO\n",
        "18 def __MetodoPrivado1 (self, params):\n",
        "19 #BLOCO DE CÓDIGO"
      ],
      "execution_count": null,
      "outputs": []
    },
    {
      "cell_type": "markdown",
      "metadata": {
        "id": "683MfX-QU3aA"
      },
      "source": [
        "Os atributos normais estão localizados nas linhas 5 e 6 e o construtores está indicado por __init__() na linha 10. Já o destrutor está indicado por __del__() na linha 13.\n",
        "\n",
        "Outro ponto a ser notado é que atributos e métodos são iniciados por dois sublinhados “__”, e os terminados com, no máximo, um sublinhado são privados (encontrados nas linhas 7 e 8). Todos os métodos devem receber como primeiro parâmetro um objeto que representa a própria classe: por convenção chamamos este parâmetro de self (localizados nas linhas 13, 16 e 18).\n",
        "\n",
        "Classe humanos:"
      ]
    },
    {
      "cell_type": "code",
      "metadata": {
        "id": "0iS1wR8rU3aB"
      },
      "source": [
        "1  import datetime\n",
        "2  import math\n",
        "3  class humanos(object):\n",
        "4          def __init__(self,nome,dtnasc,peso,altura):\n",
        "5                      self.nome=nome\n",
        "6                      self.dtnasc=dtnasc\n",
        "7                      self.peso=peso\n",
        "8                      self.altura=altura\n",
        "9          def getidade(self):\n",
        "10                    calc= datetime.date.today()-self.dtnasc\n",
        "11                    return int (calc.days/365.25)\n",
        "12        def getimc(self):\n",
        "13                    return self.peso/math.pow(self.altura/100., 2)\n",
        "14 pessoa = humanos(\"Pessoa\",datetime.date(1985,4,1), 98,178)\n",
        "15 print (pessoa.nome)\n",
        "16 print (pessoa.getidade(),\"Anos de idade\")\n",
        "17 print (\"IMC é de:\",round(pessoa.getimc(),2))"
      ],
      "execution_count": null,
      "outputs": []
    },
    {
      "cell_type": "markdown",
      "metadata": {
        "id": "L7csXf2gU3aB"
      },
      "source": [
        "Nas linhas 1 e 2 foram importadas duas classes: a datetime e a math, para utilizarmos alguns de seus métodos. Na linha 3 definimos a classe humanos e na linha 4 definimos seu construtor, bem como os parâmetros que deverão existir. Colocamos as variáveis diretamente no construtor para serem carregadas assim que a classe for invocada, com acesso público.\n",
        "\n",
        "Na linha 5 até a 8 carregamos os valores das variáveis no construtor com os parâmetros e na linha 9 criamos um método que retorna a idade de acordo com a data de nascimento passada. Veja que utilizamos um dos métodos da classe datetime importada no topo.\n",
        "\n",
        "Na linha 12 temos um método que retorna o índice de massa corpórea (IMC) e utilizamos o método pow da classe math para fazer potenciação. Por fim, é impresso na tela as informações nome, idade e IMC."
      ]
    },
    {
      "cell_type": "markdown",
      "metadata": {
        "id": "MTwUKCGiU3aB"
      },
      "source": [
        "## 6.2 Métodos e Atributos Privados e Estáticos\n",
        "Note que no exemplo anterior não foi instanciado o objeto humanos, apenas atribuímos os valores que deveriam constar quando a classe for chamada. Na linha 17 utilizamos o método round para deixar o número com apenas duas casas decimais. Contudo ainda podemos deixar os atributos da classe privados, ou seja, só poderemos acessá-los por métodos da própria classe. Veja exemplos de atributos:"
      ]
    },
    {
      "cell_type": "code",
      "metadata": {
        "id": "XDNjuaKWU3aC"
      },
      "source": [
        "1  import datetime\n",
        "  2  import math\n",
        "  3  class humanos(object):\n",
        "  4          __nome=\"\"\n",
        "  5          __dtnasc=object\n",
        "  6          __peso=0.0\n",
        "  7          __altura=0\n",
        "  8          cabeca =0\n",
        "  9          def __init__(self,nome,dtnasc,peso,altura):\n",
        "  10                    self.nome=nome\n",
        "  11                    self.dtnasc=dtnasc\n",
        "  12                    self.peso=peso\n",
        "  13                    self.altura=altura"
      ],
      "execution_count": null,
      "outputs": []
    },
    {
      "cell_type": "markdown",
      "metadata": {
        "id": "e5g-_zHcU3aC"
      },
      "source": [
        "Na linha 4 foi criado o atributo privado da classe e na linha 8 foi criado o atributo estático da classe. Na linha 9 definimos o construtor e da linha 10 até a 13 carregamos os valores das variáveis no construtor com os parâmetros.\n",
        "\n",
        "## 6.3 Herança\n",
        "Em se tratando de herança é necessário ter o cuidado com o uso de atributos encapsulados, pois eles não terão visibilidade na subclasse. Na Listagem 4 temos um exemplo onde será preciso criar dois PyDev Modules: um com nome Funcionario (sem acento) e o outro com o nome de Gerente no módulo Funcionario. Veja um exemplo de herança"
      ]
    },
    {
      "cell_type": "code",
      "metadata": {
        "id": "sXsfspmWU3aC"
      },
      "source": [
        "1  class Funcionario(object):\n",
        "2          nome=\"\"\n",
        "3          cart_trab=\"\"\n",
        "4          valor_hora=0\n",
        "5          horas_trab=0\n",
        "6          def __init__(self,nome,cart,val,hor):\n",
        "7                      self.nome=nome\n",
        "8                      self.cart_trab=cart\n",
        "9                      self.valor_hora=val\n",
        "10                    self.horas_trab=hor\n",
        "11        def get_salario(self):\n",
        "12                    return self.valor_hora*self.horas_trab\n",
        "13        def get_nome(self):\n",
        "14                    return self.nome"
      ],
      "execution_count": null,
      "outputs": []
    },
    {
      "cell_type": "markdown",
      "metadata": {
        "id": "ddJrHQD_U3aC"
      },
      "source": [
        "Veja que temos a classe Funcionário “pai” com seus atributos, construtor, valores carregados. Na linha 11 um método retorna o salário e na linha 13 foi criado um método que retorna o nome.\n",
        "\n",
        "Agora, no módulo criado com nome Gerente adicione o código da classe gerente que herda de funcionario"
      ]
    },
    {
      "cell_type": "code",
      "metadata": {
        "id": "0V7R2TeBU3aD"
      },
      "source": [
        "1 from Funcionario import Funcionario\n",
        "2  class Gerente(Funcionario):\n",
        "3          adic=0.0\n",
        "4          def __init__(self,nome,cart,val,hor,adic):\n",
        "5                      Funcionario.__init__(self, nome, cart, val, hor)\n",
        "6                      self.adic=adic\n",
        "7          def get_salario(self):\n",
        "8                      return Funcionario.get_salario(self)*(1+self.adic/100.)\n",
        "9          def get_adicional(self):\n",
        "10        return self.adic"
      ],
      "execution_count": null,
      "outputs": []
    },
    {
      "cell_type": "markdown",
      "metadata": {
        "id": "1wIR2Mf9U3aD"
      },
      "source": [
        "A classe Gerente herda os atributos da primeira classe. Na linha 1 importa-se a classe Funcionario e na linha 2 faz-se uma referência à classe herdada. Na linha 4 temos um construtor com seus atributos e na linha 5 chamamos os atributos da classe Funcionario. Já na linha 7 é criado um método para retornar o salário com seu adicional (referentes as linhas 3 e 6) e na linha 9 é criado um método para retornar este adicional.\n",
        "\n",
        "Após criado os módulos Funcionario e Gerente, vamos até o módulo Sintaxes.py e inserimos o código da Listagem 6. Compile para ver o resultado.\n",
        "\n",
        "Listagem 6. Módulo Sintaxes"
      ]
    },
    {
      "cell_type": "code",
      "metadata": {
        "id": "oKXAjSQmU3aD"
      },
      "source": [
        "1  from Funcionario import Funcionario\n",
        "2  from Gerente import Gerente\n",
        "3  f1=Funcionario(\"Jose\",\"1259-8\",12.5,44)\n",
        "4  print (f1.get_nome(),\" : \",f1.get_salario())\n",
        "5  g1=Gerente(\"Andre\",\"6759-7\",12.5,44,10)\n",
        "6  print (g1.get_nome(),\" : \",g1.get_salario())\n",
        "7  equipe=[]\n",
        "8  equipe.append(f1);\n",
        "9  equipe.append(g1);\n",
        "10 for f in equipe:\n",
        "11        print (\"Nome:\",f.get_nome(),\"Salario R$ \",f.get_salario())\n",
        "12        if isinstance(f,Gerente):\n",
        "13     "
      ],
      "execution_count": null,
      "outputs": []
    },
    {
      "cell_type": "markdown",
      "metadata": {
        "id": "e_dIZY5VU3aE"
      },
      "source": [
        "Veja que temos um exemplo de polimorfismo por herança que ocorre quando os ponteiros de uma classe base podem referenciar objetos de classes derivadas, como localizamos nas linhas 3 a 6. Na linha 7 é criada uma lista vazia e nas linhas 8 e 9 são adicionados o Funcionário e Gerente a esta lista. Na linha 10 é criado um laço onde imprime os nomes das pessoas e seus salários.\n",
        "\n",
        "Na linha 12 é onde vemos o polimorfismo dinâmico, que verifica se a pessoa pertence a instância Gerente e, se isso for verdade, é impresso o adicional dele."
      ]
    },
    {
      "cell_type": "markdown",
      "metadata": {
        "id": "-6EsAuByU3aE"
      },
      "source": [
        "<p id=\"nav-felt\" style=\"possition:relative; width:50%; float:left;\"><a href=\"5-funcoes_python.ipynb\">&lt;&lt; 5. Funções</a></p>\n",
        "<p id=\"nav-right\" style=\"possition:relative; width:45%; float:left; text-align:right;\"><a href=\"7-classes_python.ipynb\">Próximo: 7. Classes &gt;&gt;</a></p>"
      ]
    },
    {
      "cell_type": "markdown",
      "metadata": {
        "id": "e_3YpEZJU3aE"
      },
      "source": [
        ""
      ]
    }
  ]
}