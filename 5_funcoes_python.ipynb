{
  "nbformat": 4,
  "nbformat_minor": 0,
  "metadata": {
    "kernelspec": {
      "name": "python3",
      "display_name": "Python 3.9.2 64-bit ('root-python-env': conda)"
    },
    "language_info": {
      "codemirror_mode": {
        "name": "ipython",
        "version": 3
      },
      "file_extension": ".py",
      "mimetype": "text/x-python",
      "name": "python",
      "nbconvert_exporter": "python",
      "pygments_lexer": "ipython3",
      "version": "3.9.2"
    },
    "interpreter": {
      "hash": "335436fdd3b76d4f3727a636fd436c7d3c5aef570f332174c0978c1012c03da9"
    },
    "colab": {
      "name": "5-funcoes_python.ipynb",
      "provenance": [],
      "include_colab_link": true
    }
  },
  "cells": [
    {
      "cell_type": "markdown",
      "metadata": {
        "id": "view-in-github",
        "colab_type": "text"
      },
      "source": [
        "<a href=\"https://colab.research.google.com/github/ssilvado/aula_python_graduacao/blob/main/5_funcoes_python.ipynb\" target=\"_parent\"><img src=\"https://colab.research.google.com/assets/colab-badge.svg\" alt=\"Open In Colab\"/></a>"
      ]
    },
    {
      "cell_type": "markdown",
      "metadata": {
        "id": "g_lV5SgYUy6g"
      },
      "source": [
        "# 5. Funções\n",
        "\n",
        "Na programação, funções são blocos de código que realizam determinadas tarefas que normalmente precisam ser executadas diversas vezes dentro de uma aplicação. Quando surge essa necessidade, para que várias instruções não precisem ser repetidas, elas são agrupadas em uma função, à qual é dado um nome e que poderá ser chamada/executada em diferentes partes do programa."
      ]
    },
    {
      "cell_type": "markdown",
      "metadata": {
        "id": "5DTvzUstUy6k"
      },
      "source": [
        "## 5.1 Criando funções em Python\n",
        "\n",
        "A sintaxe de uma função é definida por três partes: \n",
        "* nome\n",
        "* parâmetros\n",
        "* corpo, o qual agrupa uma sequência de linhas que representa algum comportamento. \n",
        "\n",
        "Sintaxe das funções:\n",
        "```python\n",
        "def nomedafuncao(parametro1, parametro2, ...):\n",
        "    corpodafuncao\n",
        "```\n",
        "No código abaixo, temos um exemplo de declaração de função em Python:"
      ]
    },
    {
      "cell_type": "code",
      "metadata": {
        "id": "OztK1WcYUy6l"
      },
      "source": [
        "def hello(meu_nome):          # 1\n",
        "    print('Olá',meu_nome)     # 2\n",
        "\n",
        "hello('Sheila')               # 3"
      ],
      "execution_count": null,
      "outputs": []
    },
    {
      "cell_type": "markdown",
      "metadata": {
        "id": "nWmJLzj6Uy6m"
      },
      "source": [
        "1. Nesta linha, estamos declarando a função de nome ```hello``` que recebe um parâmetro ```meu_nome```\n",
        "2. Aqui temos o corpo da função que consiste em apenas um comando ``print```\n",
        "3. Nesta linha, estamos invocando (chamando) a função ```hello``` passando o argumento ```Sheila``` \n",
        "\n",
        "\n",
        "Aqui, é importante ressaltar que, para respeitar a sintaxe da linguagem, ss funções devem ser indentadas como qualquer controle de fluxo.\n",
        "\n",
        "Para executar a função, de forma semelhante ao que ocorre em outras linguagens, devemos simplesmente chamar seu nome e passar os parâmetros esperados entre parênteses, conforme o código a seguir."
      ]
    },
    {
      "cell_type": "markdown",
      "metadata": {
        "id": "mhqTJqoUUy6n"
      },
      "source": [
        "Caso seja necessário, também é possível definir funções com nenhum ou vários argumentos, como no código abaixo:"
      ]
    },
    {
      "cell_type": "code",
      "metadata": {
        "id": "h8J_MbwiUy6n"
      },
      "source": [
        "def hello(meu_nome,idade):\n",
        "   print('Olá',meu_nome,'\\nSua idade é:',idade)\n",
        "\n",
        "hello('Fabio',28)"
      ],
      "execution_count": null,
      "outputs": []
    },
    {
      "cell_type": "markdown",
      "metadata": {
        "id": "_A_wFir_Uy6o"
      },
      "source": [
        "Agora, ao invocar essa função, também é necessário informar o segundo parâmetro, que representa a idade que será impressa após o nome:"
      ]
    },
    {
      "cell_type": "markdown",
      "metadata": {
        "id": "84uX7xP8Uy6p"
      },
      "source": [
        "Assim como podem receber valores de entrada, as funções também podem produzir valores de saída, provenientes de determinadas operações. Nos exemplos anteriores, apenas imprimimos um valor com a função ```print```, sem retornar explicitamente um resultado."
      ]
    },
    {
      "cell_type": "code",
      "metadata": {
        "id": "itpyGYo0Uy6q",
        "outputId": "5de0dea1-d6d6-4a46-b229-96f187fc01cf"
      },
      "source": [
        "# Exemplo de função que retorna um valor.\n",
        "def circulo(raio):\n",
        "    return 3.14 * raio * raio\n",
        "\n",
        "print(circulo(1.5))"
      ],
      "execution_count": null,
      "outputs": [
        {
          "output_type": "stream",
          "text": [
            "7.0649999999999995\n"
          ],
          "name": "stdout"
        }
      ]
    },
    {
      "cell_type": "markdown",
      "metadata": {
        "id": "OsajSu3uUy6t"
      },
      "source": [
        "A função acima ilustra o uso do comando ```return```, mas ela não faz nada muito útil. Porém, não se engane: este recurso é muito útil e muito utilizado. Poderíamos, por exemplo, realizar alguma computação com o parâmetro e retornar o resultado desta computação."
      ]
    },
    {
      "cell_type": "code",
      "metadata": {
        "id": "ZA6eUOwmUy6t"
      },
      "source": [
        "# Outro exemplo de função que retorna um valor.\n",
        "def eleva_ao_quadrado(n):\n",
        "    return n ** 2\n",
        "\n",
        "print(\"O número {} elevado ao quatrado é {}\".format(10, eleva_ao_quadrado(10)))"
      ],
      "execution_count": null,
      "outputs": []
    },
    {
      "cell_type": "markdown",
      "metadata": {
        "id": "S_WLYSeoUy6u"
      },
      "source": [
        "Funções em Python podem realizar computações tão complicadas quanto desejarmos. Elas são uma ferramenta poderosa de abstração em programação.\n",
        "\n",
        "Funções em Python podem retornar mais de um valor:"
      ]
    },
    {
      "cell_type": "code",
      "metadata": {
        "id": "Giuo49MGUy6u"
      },
      "source": [
        "# Exemplo de função que retorna mais de um valor.\n",
        "def quociente_resto(x, y):\n",
        "    quociente = x // y\n",
        "    resto = x % y\n",
        "    return (quociente, resto)\n",
        "\n",
        "print(\"Quociente e resto: \", quociente_resto(9, 4))"
      ],
      "execution_count": null,
      "outputs": []
    },
    {
      "cell_type": "markdown",
      "metadata": {
        "id": "GGDsQA8sUy6v"
      },
      "source": [
        "## 5.2 Funções anônimas (funções lambdas)\n",
        "\n",
        "A palavra-chave ```lambda``` em Python nos permite criar funções anônimas. Este tipo de função é útil quando desejamos passar uma função simples como argumento para outra função.\n",
        "\n",
        "Consiste em uma função que é atribuida a um objeto. Por conter a palavra reservada ```lambda``` o objeto se comportará como uma função.\n",
        "\n",
        "> Uma função qualquer:\n",
        "\n",
        "```python\n",
        "def nome (argumento):\n",
        "    return expressão\n",
        "```\n",
        "\n",
        "> Uma função utilizando ```lambda```:\n",
        "```python\n",
        "variavel = lambda argumento: expressão\n",
        "```\n",
        "\n",
        "Vamos ao exemplo para facilitar o entendimento, assim fica mais claro como utilizar essa função e como ela funciona."
      ]
    },
    {
      "cell_type": "code",
      "metadata": {
        "id": "7pfzrNhhUy6v"
      },
      "source": [
        "# Função comum\n",
        "def eleva_ao_quadrado(n):\n",
        "    return n ** 2\n",
        "\n",
        "print(eleva_ao_quadrado(2))"
      ],
      "execution_count": null,
      "outputs": []
    },
    {
      "cell_type": "code",
      "metadata": {
        "id": "PQdDfKXdUy6w",
        "outputId": "82b5fc00-83fa-4f8b-ce34-c4203f7e02d6"
      },
      "source": [
        "# Função lambda\n",
        "eleva_ao_quadrado = lambda x: x**2\n",
        "\n",
        "print(eleva_ao_quadrado(2))"
      ],
      "execution_count": null,
      "outputs": [
        {
          "output_type": "stream",
          "text": [
            "4\n"
          ],
          "name": "stdout"
        }
      ]
    },
    {
      "cell_type": "markdown",
      "metadata": {
        "id": "fce58hmRUy6w"
      },
      "source": [
        "Outro exemplos:\n",
        "\n",
        "Uma função ```lambda```com dois parâmetros"
      ]
    },
    {
      "cell_type": "code",
      "metadata": {
        "id": "oLEC5LH6Uy6w"
      },
      "source": [
        "f = lambda a, b : a+b"
      ],
      "execution_count": null,
      "outputs": []
    },
    {
      "cell_type": "markdown",
      "metadata": {
        "id": "1bT9WzwlUy6x"
      },
      "source": [
        "O uso de palavra ```lambda``` é bem extenso e ela pode ser utilizada até como objeto de retorno de uma outra função:"
      ]
    },
    {
      "cell_type": "code",
      "metadata": {
        "id": "cGnWuExsUy6x"
      },
      "source": [
        "def incrementador(n):\n",
        "    return lambda x: x+n"
      ],
      "execution_count": null,
      "outputs": []
    },
    {
      "cell_type": "markdown",
      "metadata": {
        "id": "DWqx4_uSUy6x"
      },
      "source": [
        "Podemos utilizar expressões lambdas em outras funções que já estão acopladas à linguagem como ```filter```, ```map``` e ```reduce```. \n",
        "\n",
        "* ```map()```: é uma função builtin de Python, isto é, uma função que é implementada diretamente no interpretador Python, serve para aplicarmos uma função a cada elemento de uma lista, retornando uma nova lista contendo os elementos resultantes da aplicação da função.\n",
        "\n",
        "* ```reduce()```: está disponível no módulo _functools_, e sua utilidade está na aplicação de uma função a todos os valores do conjunto, de forma a agregá-los todos em um único valor.\n",
        "\n",
        "* ```filter()```: filtra os elementos de uma sequência\n",
        "\n",
        "\n",
        "Uma função que retorna os números pares entre 0 e 9:"
      ]
    },
    {
      "cell_type": "code",
      "metadata": {
        "id": "x3yYmqM7Uy6y"
      },
      "source": [
        "num_pares = filter(lambda x: x % 2 == 0, range(10))"
      ],
      "execution_count": null,
      "outputs": []
    },
    {
      "cell_type": "markdown",
      "metadata": {
        "id": "s1h3S1vyUy6y"
      },
      "source": [
        "Uma expressão que ele ao quadrado os números em uma lista, no caso, de 0 a 9."
      ]
    },
    {
      "cell_type": "code",
      "metadata": {
        "id": "mIF34XmmUy6z"
      },
      "source": [
        "map(lambda x: x**2, range(10))"
      ],
      "execution_count": null,
      "outputs": []
    },
    {
      "cell_type": "markdown",
      "metadata": {
        "id": "ptsMwdx3Uy6z"
      },
      "source": [
        "Já este exemplo faz o produtório dos elementos da lista"
      ]
    },
    {
      "cell_type": "code",
      "metadata": {
        "id": "w1wCOI82Uy6z"
      },
      "source": [
        "reduce(lambda x, y: x*y, range(1,5))"
      ],
      "execution_count": null,
      "outputs": []
    },
    {
      "cell_type": "markdown",
      "metadata": {
        "id": "k6xukauKUy6z"
      },
      "source": [
        "Pode-se também criar facilmente uma expressão que conte o tamanho das palavras em uma lista."
      ]
    },
    {
      "cell_type": "markdown",
      "metadata": {
        "id": "rxZhp4X7Uy60"
      },
      "source": [
        "## 5.2 Variáveis globais e locais\n",
        "\n",
        "* Variáveis definidas em funções são **locais**, isto é, só podem \n",
        "ser usadas nas funções em que foram definidas\n",
        "* Variáveis definidas fora de funções são conhecidas como \n",
        "variáveis **globais**\n",
        "   * É possível no código de uma função ler o conteúdo de uma \n",
        "variável global\n",
        "   * Para alterar uma variável global, ela precisa ser declarada \n",
        "no corpo da função usando o comando **global**"
      ]
    },
    {
      "cell_type": "code",
      "metadata": {
        "id": "m6ikBNMYUy60",
        "outputId": "9c0f61f0-a0d8-4152-f0df-875782a7e896"
      },
      "source": [
        "def f():\n",
        "    print(a)\n",
        "\n",
        "a = 1\n",
        "f()"
      ],
      "execution_count": null,
      "outputs": [
        {
          "output_type": "stream",
          "text": [
            "1\n"
          ],
          "name": "stdout"
        }
      ]
    },
    {
      "cell_type": "code",
      "metadata": {
        "id": "s6yWea3KUy60",
        "outputId": "72856983-a017-4abd-c404-c7b23268a173"
      },
      "source": [
        "def f():\n",
        "    a = 5\n",
        "\n",
        "f()\n",
        "\n",
        "print(a)"
      ],
      "execution_count": null,
      "outputs": [
        {
          "output_type": "stream",
          "text": [
            "1\n"
          ],
          "name": "stdout"
        }
      ]
    },
    {
      "cell_type": "code",
      "metadata": {
        "id": "Ufw1GLLyUy61",
        "outputId": "34cd2f1a-ebdf-4282-a856-2426e55ba5fe"
      },
      "source": [
        "def f():\n",
        "    global a\n",
        "    a = 5\n",
        "\n",
        "f()\n",
        "print(a)"
      ],
      "execution_count": null,
      "outputs": [
        {
          "output_type": "stream",
          "text": [
            "5\n"
          ],
          "name": "stdout"
        }
      ]
    },
    {
      "cell_type": "markdown",
      "metadata": {
        "id": "EQcCqBgPUy61"
      },
      "source": [
        "## 5.3 Argumentos de funções\n",
        "\n",
        "* Argumentos (ou parâmetros) são como variáveis que \n",
        "recebem seus valores iniciais do chamador\n",
        "* Essas variáveis, assim como outras definidas dentro da \n",
        "função são ditas **locais**, isto é, só existem no lugar onde \n",
        "foram definidas\n",
        "   * Ao retornar ao ponto de chamada, as variáveis locais são \n",
        "descartadas\n",
        "* Se uma função define **n** argumentos, valores para todos \n",
        "eles devem ser passados pelo chamado\n",
        "   * Exceção: argumentos com valores **default**"
      ]
    },
    {
      "cell_type": "code",
      "metadata": {
        "id": "OJYCqyr0Uy61",
        "outputId": "85d2290a-dfac-4fe9-a2c0-e9f3ab74b8b8"
      },
      "source": [
        "def f(x):\n",
        "    return x*x\n",
        "\n",
        "print(f(10))"
      ],
      "execution_count": null,
      "outputs": [
        {
          "output_type": "stream",
          "text": [
            "100\n"
          ],
          "name": "stdout"
        }
      ]
    },
    {
      "cell_type": "code",
      "metadata": {
        "id": "Hn6YM6smUy62",
        "outputId": "df57b459-fd21-4b5b-fdd4-1d3770ec0174"
      },
      "source": [
        "print(x)"
      ],
      "execution_count": null,
      "outputs": [
        {
          "output_type": "error",
          "ename": "NameError",
          "evalue": "name 'x' is not defined",
          "traceback": [
            "\u001b[0;31m---------------------------------------------------------------------------\u001b[0m",
            "\u001b[0;31mNameError\u001b[0m                                 Traceback (most recent call last)",
            "\u001b[0;32m<ipython-input-15-fc17d851ef81>\u001b[0m in \u001b[0;36m<module>\u001b[0;34m\u001b[0m\n\u001b[0;32m----> 1\u001b[0;31m \u001b[0mprint\u001b[0m\u001b[0;34m(\u001b[0m\u001b[0mx\u001b[0m\u001b[0;34m)\u001b[0m\u001b[0;34m\u001b[0m\u001b[0;34m\u001b[0m\u001b[0m\n\u001b[0m",
            "\u001b[0;31mNameError\u001b[0m: name 'x' is not defined"
          ]
        }
      ]
    },
    {
      "cell_type": "code",
      "metadata": {
        "id": "EEtUXcR5Uy62",
        "outputId": "24050a66-96d2-45bc-d21a-5a4d291529fc"
      },
      "source": [
        "print(f())"
      ],
      "execution_count": null,
      "outputs": [
        {
          "output_type": "error",
          "ename": "TypeError",
          "evalue": "f() missing 1 required positional argument: 'x'",
          "traceback": [
            "\u001b[0;31m---------------------------------------------------------------------------\u001b[0m",
            "\u001b[0;31mTypeError\u001b[0m                                 Traceback (most recent call last)",
            "\u001b[0;32m<ipython-input-16-21c6c5c962a6>\u001b[0m in \u001b[0;36m<module>\u001b[0;34m\u001b[0m\n\u001b[0;32m----> 1\u001b[0;31m \u001b[0mprint\u001b[0m\u001b[0;34m(\u001b[0m\u001b[0mf\u001b[0m\u001b[0;34m(\u001b[0m\u001b[0;34m)\u001b[0m\u001b[0;34m)\u001b[0m\u001b[0;34m\u001b[0m\u001b[0;34m\u001b[0m\u001b[0m\n\u001b[0m",
            "\u001b[0;31mTypeError\u001b[0m: f() missing 1 required positional argument: 'x'"
          ]
        }
      ]
    },
    {
      "cell_type": "markdown",
      "metadata": {
        "id": "SvYg9A_tUy62"
      },
      "source": [
        "### 5.3.1 Argumentos **default**\n",
        "\n",
        "* É possível dar valores **default** a argumentos\n",
        "   * Se o chamador não especificar valores para esses \n",
        "argumentos, os defaults são usados\n",
        "* Formato: \n",
        "```python\n",
        "def nome (arg1=default1, ..., argN=defaultN)\n",
        "```\n",
        "* Se apenas alguns argumentos têm default, esses devem \n",
        "ser os últimos\n",
        "   * Se não fosse assim, haveria ambigüidade na passagem de \n",
        "argumentos\n"
      ]
    },
    {
      "cell_type": "code",
      "metadata": {
        "id": "b2vCiZQBUy63",
        "outputId": "b6594237-47ea-4f30-9f44-4d91b6a0c6e4"
      },
      "source": [
        "def f(nome,saudacao=\"Oi\",pontuacao=\"!!\"):\n",
        "    return saudacao+\",\"+nome+pontuacao\n",
        "\n",
        "print(f(\"Joao\"))"
      ],
      "execution_count": null,
      "outputs": [
        {
          "output_type": "stream",
          "text": [
            "Oi,Joao!!\n"
          ],
          "name": "stdout"
        }
      ]
    },
    {
      "cell_type": "code",
      "metadata": {
        "id": "t50biV0yUy63",
        "outputId": "8742a6ae-ed36-40eb-c5e2-ab32a8e30365"
      },
      "source": [
        "print(f(\"Joao\",\"Parabens\"))"
      ],
      "execution_count": null,
      "outputs": [
        {
          "output_type": "stream",
          "text": [
            "Parabens,Joao!!\n"
          ],
          "name": "stdout"
        }
      ]
    },
    {
      "cell_type": "code",
      "metadata": {
        "id": "CkK3XgSSUy63",
        "outputId": "4b49a653-8d09-4fb1-d10f-c37794ccbf65"
      },
      "source": [
        "print(f(\"Joao\",\"Ah\",\"...\"))"
      ],
      "execution_count": null,
      "outputs": [
        {
          "output_type": "stream",
          "text": [
            "Ah,Joao...\n"
          ],
          "name": "stdout"
        }
      ]
    },
    {
      "cell_type": "markdown",
      "metadata": {
        "id": "bhCw8f3rUy64"
      },
      "source": [
        "### 5.3.2 Argumentos com nomes\n",
        "\n",
        "É possível passar os argumentos sem empregar a ordem \n",
        "de definição desde que se nomeie cada valor passado com \n",
        "o nome do argumento correspondente"
      ]
    },
    {
      "cell_type": "code",
      "metadata": {
        "id": "9rtyUEDDUy64",
        "outputId": "a3dd5a36-4012-49e3-8a9a-e8828627a0e8"
      },
      "source": [
        "def f(nome,saudacao=\"Oi\",pontuacao=\"!!\"):\n",
        "   return saudacao+\",\"+nome+pontuacao\n",
        "\n",
        "print(f(saudacao=\"Valeu\",nome=\"Joao\"))"
      ],
      "execution_count": null,
      "outputs": [
        {
          "output_type": "stream",
          "text": [
            "Valeu,Joao!!\n"
          ],
          "name": "stdout"
        }
      ]
    },
    {
      "cell_type": "markdown",
      "metadata": {
        "id": "d1I_-8flUy64"
      },
      "source": [
        "### 5.3.3 Número de parâmetros variáveis\n",
        "\n",
        "Se o último argumento de uma definição de função \n",
        "começa com ```*```, todos os valores passados, a partir daquele, \n",
        "são postos numa tupla.\n",
        "\n",
        "Se o último argumento de uma definição de função \n",
        "começa com ```**```, todos os valores passados usando chaves, \n",
        "a partir daquele, são postos num dicionário\n",
        "\n",
        "Formas especiais de parâmetros:\n",
        "\n",
        "* *args: qualquer número de argumentos posicionais empacotados em uma tupla.\n",
        "* **kwargs: qualquer número de argumentos palavra chave empacotados em um dicionário."
      ]
    },
    {
      "cell_type": "code",
      "metadata": {
        "id": "hS7vPdO8Uy64"
      },
      "source": [
        "def args_variaveis(*args, **kwargs):\n",
        "    print 'args são', args\n",
        "    print 'kwargs são', kwargs\n",
        "\n",
        "args_variaveis('um', 'dois', x=1, y=2, z=3)"
      ],
      "execution_count": null,
      "outputs": []
    },
    {
      "cell_type": "markdown",
      "metadata": {
        "id": "1E3DlGEuUy65"
      },
      "source": [
        "## 5.5 Docstrings\n",
        "Docstring é a documentação sobre o que a função faz e seus parâmetros. Convenção geral:"
      ]
    },
    {
      "cell_type": "code",
      "metadata": {
        "id": "JSWSfgPYUy65"
      },
      "source": [
        "def nomefuncao(parametros):\n",
        "    \"\"\"Descrição da função e de seus parâmetros.\n",
        "    Escreva de forma objetiva para ser rápidamente entendido.\n",
        "    \"\"\"\n",
        "    # corpo da função\n",
        "    pass\n",
        "\n",
        "print nomefuncao(parametro) #observe a doctring mostrada no object inspector"
      ],
      "execution_count": null,
      "outputs": []
    },
    {
      "cell_type": "markdown",
      "metadata": {
        "id": "iYUi1a0sUy65"
      },
      "source": [
        "Construção de Docstrings:\n",
        "\n",
        "Para uma padronização, foram definidas a semântica e certas convenções associadas as docstrings do Python, que podem ser consultadas em Docstring Conventions."
      ]
    },
    {
      "cell_type": "markdown",
      "metadata": {
        "id": "3rQ-C8RIUy65"
      },
      "source": [
        "## 5.6 Funções são objetos\n",
        "Funções são objetos de primeira classe, o que significa que elas podem ser:\n",
        "\n",
        "atribuídas a uma variável;\n",
        "um item em uma lista (ou qualquer recipiente);\n",
        "passadas como um argumento para outra função."
      ]
    },
    {
      "cell_type": "code",
      "metadata": {
        "id": "3K0_Zw7rUy65"
      },
      "source": [
        "def args_variavel(*args, **kwargs):\n",
        "    print 'args é', args\n",
        "    print 'kwargs é', kwargs\n",
        "\n",
        "va = args_variavel\n",
        "\n",
        "va('três', x=1, y=2)"
      ],
      "execution_count": null,
      "outputs": []
    },
    {
      "cell_type": "markdown",
      "metadata": {
        "id": "KOUh-52_Uy65"
      },
      "source": [
        "## 5.7 Métodos\n",
        "\n",
        "Métodos são funções anexadas à objetos, como já visto com as listas, dicionários, strings, etc."
      ]
    },
    {
      "cell_type": "markdown",
      "metadata": {
        "id": "uxJeIvkoUy66"
      },
      "source": [
        "## 5.8 Mais sobre funções\n",
        "* Todas as funções em Python retornam um valor!\n",
        "* Funções sem retorno especificado, retornam o valor especial ```None```\n",
        "* Não existe sobrecarga de função (_function overloading_) em Python.\n",
        "    * Duas funções diferentes não podem ter o mesmo nome, mesmo com argumentos diferentes.\n",
        "* Funções podem ser usadas como qualquer outro tipo. Elas podem ser:\n",
        "    * argumentos de outras funções\n",
        "    * valores de retorno de funções\n",
        "    * designadas a variáveis\n",
        "    * partes de listas, tuplas, etc."
      ]
    },
    {
      "cell_type": "markdown",
      "metadata": {
        "id": "joyYm2V3Uy66"
      },
      "source": [
        "<p id=\"nav-felt\" style=\"possition:relative; width:50%; float:left;\"><a href=\"4-fluxo-execucao_python.ipynb\">&lt;&lt; 4. Fluxo de execução</a></p>\n",
        "<p id=\"nav-right\" style=\"possition:relative; width:45%; float:left; text-align:right;\"><a href=\"6-classes_python.ipynb\">Próximo: 6. Classes &gt;&gt;</a></p>"
      ]
    }
  ]
}