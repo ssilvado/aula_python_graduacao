{
  "nbformat": 4,
  "nbformat_minor": 0,
  "metadata": {
    "kernelspec": {
      "name": "python3",
      "display_name": "Python 3.9.2 64-bit ('root-python-env': conda)"
    },
    "language_info": {
      "codemirror_mode": {
        "name": "ipython",
        "version": 3
      },
      "file_extension": ".py",
      "mimetype": "text/x-python",
      "name": "python",
      "nbconvert_exporter": "python",
      "pygments_lexer": "ipython3",
      "version": "3.9.2"
    },
    "interpreter": {
      "hash": "335436fdd3b76d4f3727a636fd436c7d3c5aef570f332174c0978c1012c03da9"
    },
    "colab": {
      "name": "1-introducao_python.ipynb",
      "provenance": [],
      "include_colab_link": true
    }
  },
  "cells": [
    {
      "cell_type": "markdown",
      "metadata": {
        "id": "view-in-github",
        "colab_type": "text"
      },
      "source": [
        "<a href=\"https://colab.research.google.com/github/ssilvado/aula_python_graduacao/blob/main/1_introducao_python.ipynb\" target=\"_parent\"><img src=\"https://colab.research.google.com/assets/colab-badge.svg\" alt=\"Open In Colab\"/></a>"
      ]
    },
    {
      "cell_type": "markdown",
      "metadata": {
        "id": "eyuGsVDuUDTh"
      },
      "source": [
        "# 1. Sintaxe\n",
        "\n",
        "Nesta seção apresentaremos as principais características da linguagem Python com exemplos de código e explicações.\n",
        "\n",
        "A sintaxe de uma linguagem são as regras que nos dizem como escrever um código para que ele seja compilado sem \n",
        "erros. \n",
        "\n",
        "A seguir, veremos algumas dentre as **principais características da sintaxe do Python**, com exemplos de código \n",
        "e explicações. \n",
        "\n",
        "Uma vez que o Python é uma linguagem fácil de aprender, é possível que ao final desse artigo você já possa escrever os seus primeiros códigos com a mesma."
      ]
    },
    {
      "cell_type": "markdown",
      "metadata": {
        "id": "soJgO94IUDTl"
      },
      "source": [
        "## 1.1 Funções HELP e DIR\n",
        "\n",
        "As funções ```dir``` e ```help``` no Python são de grande ajuda, não somente para iniciantes como também para quem já programa em python. \n",
        "O propósito dessa função é obter informações sobre determinados tipos, classes ou funções.\n",
        "\n",
        "### DIR\n",
        "O ```dir()``` retorna todas as propriedades e métodos do objeto especificado. Vamos tentar entender através de exemplos:"
      ]
    },
    {
      "cell_type": "code",
      "metadata": {
        "id": "Y_c-JWdVUDTm",
        "outputId": "9b767c11-cddf-4355-a95e-b3c3d52b9966"
      },
      "source": [
        "dir(int)"
      ],
      "execution_count": null,
      "outputs": [
        {
          "output_type": "execute_result",
          "data": {
            "text/plain": [
              "['__abs__',\n",
              " '__add__',\n",
              " '__and__',\n",
              " '__bool__',\n",
              " '__ceil__',\n",
              " '__class__',\n",
              " '__delattr__',\n",
              " '__dir__',\n",
              " '__divmod__',\n",
              " '__doc__',\n",
              " '__eq__',\n",
              " '__float__',\n",
              " '__floor__',\n",
              " '__floordiv__',\n",
              " '__format__',\n",
              " '__ge__',\n",
              " '__getattribute__',\n",
              " '__getnewargs__',\n",
              " '__gt__',\n",
              " '__hash__',\n",
              " '__index__',\n",
              " '__init__',\n",
              " '__init_subclass__',\n",
              " '__int__',\n",
              " '__invert__',\n",
              " '__le__',\n",
              " '__lshift__',\n",
              " '__lt__',\n",
              " '__mod__',\n",
              " '__mul__',\n",
              " '__ne__',\n",
              " '__neg__',\n",
              " '__new__',\n",
              " '__or__',\n",
              " '__pos__',\n",
              " '__pow__',\n",
              " '__radd__',\n",
              " '__rand__',\n",
              " '__rdivmod__',\n",
              " '__reduce__',\n",
              " '__reduce_ex__',\n",
              " '__repr__',\n",
              " '__rfloordiv__',\n",
              " '__rlshift__',\n",
              " '__rmod__',\n",
              " '__rmul__',\n",
              " '__ror__',\n",
              " '__round__',\n",
              " '__rpow__',\n",
              " '__rrshift__',\n",
              " '__rshift__',\n",
              " '__rsub__',\n",
              " '__rtruediv__',\n",
              " '__rxor__',\n",
              " '__setattr__',\n",
              " '__sizeof__',\n",
              " '__str__',\n",
              " '__sub__',\n",
              " '__subclasshook__',\n",
              " '__truediv__',\n",
              " '__trunc__',\n",
              " '__xor__',\n",
              " 'as_integer_ratio',\n",
              " 'bit_length',\n",
              " 'conjugate',\n",
              " 'denominator',\n",
              " 'from_bytes',\n",
              " 'imag',\n",
              " 'numerator',\n",
              " 'real',\n",
              " 'to_bytes']"
            ]
          },
          "metadata": {
            "tags": []
          },
          "execution_count": 1
        }
      ]
    },
    {
      "cell_type": "markdown",
      "metadata": {
        "id": "WEIWbku9UDTo"
      },
      "source": [
        "Ou, caso você tenha importado uma biblioteca, poderá saber quais métodos ela implementa:"
      ]
    },
    {
      "cell_type": "code",
      "metadata": {
        "id": "ckCsutroUDTo",
        "outputId": "08e12c1a-c465-4690-a036-ae7191ee018e"
      },
      "source": [
        "import math as ma\n",
        "\n",
        "dir(ma)"
      ],
      "execution_count": null,
      "outputs": [
        {
          "output_type": "execute_result",
          "data": {
            "text/plain": [
              "['__doc__',\n",
              " '__file__',\n",
              " '__loader__',\n",
              " '__name__',\n",
              " '__package__',\n",
              " '__spec__',\n",
              " 'acos',\n",
              " 'acosh',\n",
              " 'asin',\n",
              " 'asinh',\n",
              " 'atan',\n",
              " 'atan2',\n",
              " 'atanh',\n",
              " 'ceil',\n",
              " 'comb',\n",
              " 'copysign',\n",
              " 'cos',\n",
              " 'cosh',\n",
              " 'degrees',\n",
              " 'dist',\n",
              " 'e',\n",
              " 'erf',\n",
              " 'erfc',\n",
              " 'exp',\n",
              " 'expm1',\n",
              " 'fabs',\n",
              " 'factorial',\n",
              " 'floor',\n",
              " 'fmod',\n",
              " 'frexp',\n",
              " 'fsum',\n",
              " 'gamma',\n",
              " 'gcd',\n",
              " 'hypot',\n",
              " 'inf',\n",
              " 'isclose',\n",
              " 'isfinite',\n",
              " 'isinf',\n",
              " 'isnan',\n",
              " 'isqrt',\n",
              " 'lcm',\n",
              " 'ldexp',\n",
              " 'lgamma',\n",
              " 'log',\n",
              " 'log10',\n",
              " 'log1p',\n",
              " 'log2',\n",
              " 'modf',\n",
              " 'nan',\n",
              " 'nextafter',\n",
              " 'perm',\n",
              " 'pi',\n",
              " 'pow',\n",
              " 'prod',\n",
              " 'radians',\n",
              " 'remainder',\n",
              " 'sin',\n",
              " 'sinh',\n",
              " 'sqrt',\n",
              " 'tan',\n",
              " 'tanh',\n",
              " 'tau',\n",
              " 'trunc',\n",
              " 'ulp']"
            ]
          },
          "metadata": {
            "tags": []
          },
          "execution_count": 2
        }
      ]
    },
    {
      "cell_type": "markdown",
      "metadata": {
        "id": "kqxbMCSdUDTp"
      },
      "source": [
        "Se você precisar saber todos os métodos utilizados para string, basta inserir um objeto do tipo ```string``` dentro dela:"
      ]
    },
    {
      "cell_type": "code",
      "metadata": {
        "id": "HfbM2oWbUDTq",
        "outputId": "9827316e-36f9-4f02-ad3a-f72d729943ec"
      },
      "source": [
        "dir(\"Hello world\")"
      ],
      "execution_count": null,
      "outputs": [
        {
          "output_type": "execute_result",
          "data": {
            "text/plain": [
              "['__add__',\n",
              " '__class__',\n",
              " '__contains__',\n",
              " '__delattr__',\n",
              " '__dir__',\n",
              " '__doc__',\n",
              " '__eq__',\n",
              " '__format__',\n",
              " '__ge__',\n",
              " '__getattribute__',\n",
              " '__getitem__',\n",
              " '__getnewargs__',\n",
              " '__gt__',\n",
              " '__hash__',\n",
              " '__init__',\n",
              " '__init_subclass__',\n",
              " '__iter__',\n",
              " '__le__',\n",
              " '__len__',\n",
              " '__lt__',\n",
              " '__mod__',\n",
              " '__mul__',\n",
              " '__ne__',\n",
              " '__new__',\n",
              " '__reduce__',\n",
              " '__reduce_ex__',\n",
              " '__repr__',\n",
              " '__rmod__',\n",
              " '__rmul__',\n",
              " '__setattr__',\n",
              " '__sizeof__',\n",
              " '__str__',\n",
              " '__subclasshook__',\n",
              " 'capitalize',\n",
              " 'casefold',\n",
              " 'center',\n",
              " 'count',\n",
              " 'encode',\n",
              " 'endswith',\n",
              " 'expandtabs',\n",
              " 'find',\n",
              " 'format',\n",
              " 'format_map',\n",
              " 'index',\n",
              " 'isalnum',\n",
              " 'isalpha',\n",
              " 'isascii',\n",
              " 'isdecimal',\n",
              " 'isdigit',\n",
              " 'isidentifier',\n",
              " 'islower',\n",
              " 'isnumeric',\n",
              " 'isprintable',\n",
              " 'isspace',\n",
              " 'istitle',\n",
              " 'isupper',\n",
              " 'join',\n",
              " 'ljust',\n",
              " 'lower',\n",
              " 'lstrip',\n",
              " 'maketrans',\n",
              " 'partition',\n",
              " 'removeprefix',\n",
              " 'removesuffix',\n",
              " 'replace',\n",
              " 'rfind',\n",
              " 'rindex',\n",
              " 'rjust',\n",
              " 'rpartition',\n",
              " 'rsplit',\n",
              " 'rstrip',\n",
              " 'split',\n",
              " 'splitlines',\n",
              " 'startswith',\n",
              " 'strip',\n",
              " 'swapcase',\n",
              " 'title',\n",
              " 'translate',\n",
              " 'upper',\n",
              " 'zfill']"
            ]
          },
          "metadata": {
            "tags": []
          },
          "execution_count": 3
        }
      ]
    },
    {
      "cell_type": "markdown",
      "metadata": {
        "id": "ZZp83o3cUDTr"
      },
      "source": [
        "E assim, você pode obter quais métodos/funções estão disponíveis para aquele tipo de dado.\n",
        "\n",
        "### HELP\n",
        "Ele nos fornece uma breve explicação de como implementa o método e informa qual a utilidade dele.\n",
        "\n",
        "Exemplos:\n",
        "Nos exemplos do ```dir``` obtemos informações dos métodos da biblioteca ```math```. Com a função ```help``` agora podemos saber o que cada uma faz:"
      ]
    },
    {
      "cell_type": "code",
      "metadata": {
        "id": "karlmpRcUDTs",
        "outputId": "fe640aa6-c3f1-4c38-c7b0-66dc3523d5ad"
      },
      "source": [
        "help(ma.sqrt)"
      ],
      "execution_count": null,
      "outputs": [
        {
          "output_type": "stream",
          "text": [
            "Help on built-in function sqrt in module math:\n",
            "\n",
            "sqrt(x, /)\n",
            "    Return the square root of x.\n",
            "\n"
          ],
          "name": "stdout"
        }
      ]
    },
    {
      "cell_type": "markdown",
      "metadata": {
        "id": "Fy3tgypkUDTt"
      },
      "source": [
        "Podemos também, verificar o que faz o método ```.lower()``` do tipo de dados ```string```:"
      ]
    },
    {
      "cell_type": "code",
      "metadata": {
        "id": "9HlZgY1nUDTu",
        "outputId": "85913f24-3df4-4f91-eb08-13a772bb7791"
      },
      "source": [
        "help(\"Hello world\".lower)"
      ],
      "execution_count": null,
      "outputs": [
        {
          "output_type": "stream",
          "text": [
            "Help on built-in function lower:\n",
            "\n",
            "lower() method of builtins.str instance\n",
            "    Return a copy of the string converted to lowercase.\n",
            "\n"
          ],
          "name": "stdout"
        }
      ]
    },
    {
      "cell_type": "markdown",
      "metadata": {
        "id": "2dp1zFZYUDTu"
      },
      "source": [
        "Com isso, a função ```help()``` nos auxilia quando necessitamos de informações sobre determinada função ou método disponível."
      ]
    },
    {
      "cell_type": "markdown",
      "metadata": {
        "id": "MFY4rQHpUDTu"
      },
      "source": [
        "## 1.2 Variáveis\n",
        "\n",
        "### 1.2.1 Atribuição\n",
        "\n",
        "Nas linguagens de programação, a variável é um local na memória que reservamos para armazenar dados. \n",
        "Variáveis em python pode armazenar valores. Isso é feito usando o operador de atribuição:\n"
      ]
    },
    {
      "cell_type": "code",
      "metadata": {
        "id": "c-7Vd7tTUDTv",
        "outputId": "a0d5305a-520f-49a4-e081-afd43a27f943"
      },
      "source": [
        "a = 100\n",
        "a\n",
        "100\n",
        "b = 200\n",
        "200\n",
        "c = a + b\n",
        "300"
      ],
      "execution_count": null,
      "outputs": [
        {
          "output_type": "execute_result",
          "data": {
            "text/plain": [
              "300"
            ]
          },
          "metadata": {
            "tags": []
          },
          "execution_count": 1
        }
      ]
    },
    {
      "cell_type": "markdown",
      "metadata": {
        "id": "KpE66zo9UDTv"
      },
      "source": [
        "O valor de qualquer variável pode ser modificado somente reatribuindo o valor:"
      ]
    },
    {
      "cell_type": "code",
      "metadata": {
        "id": "FmfUzjmUUDTw",
        "outputId": "bc5290a0-e719-429d-9166-b041f283dc50"
      },
      "source": [
        "a = 10\n",
        "a\n",
        "10\n",
        "a = 20\n",
        "a\n",
        "20\n",
        "a = 5.5\n",
        "a\n",
        "5.5"
      ],
      "execution_count": null,
      "outputs": [
        {
          "output_type": "execute_result",
          "data": {
            "text/plain": [
              "5.5"
            ]
          },
          "metadata": {
            "tags": []
          },
          "execution_count": 2
        }
      ]
    },
    {
      "cell_type": "markdown",
      "metadata": {
        "id": "B2TD4vVZUDTw"
      },
      "source": [
        "### Atribuição Aumentada"
      ]
    },
    {
      "cell_type": "code",
      "metadata": {
        "id": "NM1Gt8ALUDTw",
        "outputId": "486a7277-9719-4fa5-ca97-457778e27a77"
      },
      "source": [
        "a = 50\n",
        "a += 10\n",
        "a"
      ],
      "execution_count": null,
      "outputs": [
        {
          "output_type": "execute_result",
          "data": {
            "text/plain": [
              "60"
            ]
          },
          "metadata": {
            "tags": []
          },
          "execution_count": 3
        }
      ]
    },
    {
      "cell_type": "markdown",
      "metadata": {
        "id": "IvzQHlcqUDTx"
      },
      "source": [
        "A instrução acima é o mesmo que isso: a = a + 10\n",
        "\n",
        "Tente: -=, *=, /=, //=, %= e **=."
      ]
    },
    {
      "cell_type": "markdown",
      "metadata": {
        "id": "XVgDoLO4UDTx"
      },
      "source": [
        "### 1.2.2 Convenção para nomes\n",
        "\n",
        "De acordo com as convenções Python, nomes de variáveis deve ser minúsculas com palavras separadas por underlines:"
      ]
    },
    {
      "cell_type": "code",
      "metadata": {
        "id": "nWK0y5EQUDTx"
      },
      "source": [
        "# Bom\n",
        "age = 12\n",
        "first_name = \"Joe\"\n",
        "x = 100\n",
        "\n",
        "# Ruim!\n",
        "J = 5.5\n",
        "UserName = \"itzik\"\n",
        "numOfRetries = 5\n",
        "_total = 10"
      ],
      "execution_count": null,
      "outputs": []
    },
    {
      "cell_type": "markdown",
      "metadata": {
        "id": "EE23S0L2UDTy"
      },
      "source": [
        "No script Python, cada variável deve ser atribuida antes dela ser acessada:"
      ]
    },
    {
      "cell_type": "code",
      "metadata": {
        "id": "8QPq2rlHUDTy",
        "outputId": "7c2b63ed-e13e-451a-adef-6d578bb61192"
      },
      "source": [
        "print(y)  # This line raises NameError\n",
        "y = 1"
      ],
      "execution_count": null,
      "outputs": [
        {
          "output_type": "error",
          "ename": "NameError",
          "evalue": "name 'y' is not defined",
          "traceback": [
            "\u001b[0;31m---------------------------------------------------------------------------\u001b[0m",
            "\u001b[0;31mNameError\u001b[0m                                 Traceback (most recent call last)",
            "\u001b[0;32m<ipython-input-5-e76768221691>\u001b[0m in \u001b[0;36m<module>\u001b[0;34m\u001b[0m\n\u001b[0;32m----> 1\u001b[0;31m \u001b[0mprint\u001b[0m\u001b[0;34m(\u001b[0m\u001b[0my\u001b[0m\u001b[0;34m)\u001b[0m  \u001b[0;31m# This line raises NameError\u001b[0m\u001b[0;34m\u001b[0m\u001b[0;34m\u001b[0m\u001b[0m\n\u001b[0m\u001b[1;32m      2\u001b[0m \u001b[0my\u001b[0m \u001b[0;34m=\u001b[0m \u001b[0;36m1\u001b[0m\u001b[0;34m\u001b[0m\u001b[0;34m\u001b[0m\u001b[0m\n",
            "\u001b[0;31mNameError\u001b[0m: name 'y' is not defined"
          ]
        }
      ]
    },
    {
      "cell_type": "markdown",
      "metadata": {
        "id": "MMsktpPKUDTy"
      },
      "source": [
        "Python é uma linguagem case-sensitive, que faz diferenciação entre letras maiúsculas e minúsculas. Sendo assim, ```total_alunos``` e ```TOTAL_AULAS``` seriam nomes de variáveis diferentes. "
      ]
    },
    {
      "cell_type": "code",
      "metadata": {
        "id": "ur-ZmDUGUDTz",
        "outputId": "54f79dd6-1bd8-4125-f868-78da66dbeb57"
      },
      "source": [
        "total_aulas = 5\n",
        "TOTAL_AULAS = 10\n",
        "\n",
        "print(total_aulas)\n",
        "print(TOTAL_AULAS)"
      ],
      "execution_count": null,
      "outputs": [
        {
          "output_type": "stream",
          "text": [
            "5\n",
            "10\n"
          ],
          "name": "stdout"
        }
      ]
    },
    {
      "cell_type": "markdown",
      "metadata": {
        "id": "-ECIeYG8UDTz"
      },
      "source": [
        "### 1.2.3 Removendo nomes\n",
        "\n",
        "Variáveis (\"nomes\") podem ser removidas com ```del```"
      ]
    },
    {
      "cell_type": "code",
      "metadata": {
        "id": "35BspNFNUDTz",
        "outputId": "3284e23b-2ad9-4260-8aaf-cbfab961fbbc"
      },
      "source": [
        "x = 100\n",
        "print(x)"
      ],
      "execution_count": null,
      "outputs": [
        {
          "output_type": "stream",
          "text": [
            "100\n"
          ],
          "name": "stdout"
        }
      ]
    },
    {
      "cell_type": "code",
      "metadata": {
        "id": "MNEVWWcjUDTz",
        "outputId": "734947cb-1d03-448a-98f5-d1e1f1247b23"
      },
      "source": [
        "del x\n",
        "print(x)"
      ],
      "execution_count": null,
      "outputs": [
        {
          "output_type": "error",
          "ename": "NameError",
          "evalue": "name 'x' is not defined",
          "traceback": [
            "\u001b[0;31m---------------------------------------------------------------------------\u001b[0m",
            "\u001b[0;31mNameError\u001b[0m                                 Traceback (most recent call last)",
            "\u001b[0;32m<ipython-input-49-8c23cd95a3fd>\u001b[0m in \u001b[0;36m<module>\u001b[0;34m()\u001b[0m\n\u001b[1;32m      1\u001b[0m \u001b[0;32mdel\u001b[0m \u001b[0mx\u001b[0m\u001b[0;34m\u001b[0m\u001b[0;34m\u001b[0m\u001b[0m\n\u001b[0;32m----> 2\u001b[0;31m \u001b[0mprint\u001b[0m\u001b[0;34m(\u001b[0m\u001b[0mx\u001b[0m\u001b[0;34m)\u001b[0m\u001b[0;34m\u001b[0m\u001b[0;34m\u001b[0m\u001b[0m\n\u001b[0m",
            "\u001b[0;31mNameError\u001b[0m: name 'x' is not defined"
          ]
        }
      ]
    },
    {
      "cell_type": "markdown",
      "metadata": {
        "id": "HbaRt2gQUDT0"
      },
      "source": [
        "## 1.3 Palavras-chave\n",
        "Python, como toda linguagem, possui um conjunto de palavras-chave, que são termos que possuem significado \n",
        "especial para o compilador e que não podem utilizados como nomes. Abaixo temos uma lista destes termos:\n",
        "    \n",
        "<img src=\"palavras-reservadas.png\" />"
      ]
    },
    {
      "cell_type": "markdown",
      "metadata": {
        "id": "jZIAzCv4UDT0"
      },
      "source": [
        "## 1.4 Não é necessário usar ponto vírgula no fim de um comando\n",
        "Em boa parte das linguagens de programação as linhas de código devem terminar com um ponto e vírgula (;). No Python isso é opcional. \n",
        "Um caso onde o ponto e vírgula seria necessário é quando temos mais de um comando em uma mesma linha. "
      ]
    },
    {
      "cell_type": "code",
      "metadata": {
        "id": "9APPrLK4UDT0",
        "outputId": "cbf1f1da-5816-4ca6-adf5-ca15f0ebc691"
      },
      "source": [
        "a = 1\n",
        "b = 2\n",
        "c = 3\n",
        "print(\"o valor de a é \", a)\n",
        "print(\"o valor de b é \", b); print(\"o valor de c é \", c)"
      ],
      "execution_count": null,
      "outputs": [
        {
          "output_type": "stream",
          "text": [
            "o valor de a é  1\n",
            "o valor de b é  2\n",
            "o valor de c é  3\n"
          ],
          "name": "stdout"
        }
      ]
    },
    {
      "cell_type": "markdown",
      "metadata": {
        "id": "E8NZud1qUDT0"
      },
      "source": [
        "## 1.5 Indentação faz parte da sintaxe\n",
        "Indentação é uma forma de arrumar o código, fazendo com que algumas linhas fiquem mais à direita que outras, \n",
        "à medida que adicionamos espaços em seu início. Para a maioria das linguagens a indentação não é obrigatória, \n",
        "mas no caso Python isso é diferente.\n",
        "\n",
        "A indentação é uma característica importante no Python, pois além de promover a legibilidade é essencial para \n",
        "o bom funcionamento do código. Em outras palavras, se a indentação não estiver adequada o programa pode se \n",
        "comportar de forma inesperada ou até mesmo não compilar.\n",
        "\n",
        "Por exemplo, no caso de um ```if```, o que determina se um código está dentro da condicional é o fato dele ter sido \n",
        "indentado. No código abaixo o comando ```print``` só será executado se o valor da variável x for \n",
        "maior que 8."
      ]
    },
    {
      "cell_type": "code",
      "metadata": {
        "id": "V5sucOZOUDT1",
        "outputId": "46130c61-7bd6-4090-f925-6a8173a4a32e"
      },
      "source": [
        "x = 10\n",
        "\n",
        "if x > 8:\n",
        "   print(\"x é maior que 8\")"
      ],
      "execution_count": null,
      "outputs": [
        {
          "output_type": "stream",
          "text": [
            "x é maior que 8\n"
          ],
          "name": "stdout"
        }
      ]
    },
    {
      "cell_type": "markdown",
      "metadata": {
        "id": "fzRM70HCUDT1"
      },
      "source": [
        "Agora veja esse novo exemplo no qual o comando ```print``` será executado de qualquer forma por não estar indentado e, por isso, não estar contido no ```if```."
      ]
    },
    {
      "cell_type": "code",
      "metadata": {
        "id": "nRq7u7DtUDT2",
        "outputId": "db427b3a-dc5e-4894-fd67-87c43e1bf90c"
      },
      "source": [
        "x = 10\n",
        "\n",
        "if x > 8:\n",
        "\n",
        "print(\"x é maior que 8\")"
      ],
      "execution_count": null,
      "outputs": [
        {
          "output_type": "error",
          "ename": "IndentationError",
          "evalue": "expected an indented block (<ipython-input-30-9b40f7f95b01>, line 5)",
          "traceback": [
            "\u001b[0;36m  File \u001b[0;32m\"<ipython-input-30-9b40f7f95b01>\"\u001b[0;36m, line \u001b[0;32m5\u001b[0m\n\u001b[0;31m    print(\"x é maior que 8\")\u001b[0m\n\u001b[0m        ^\u001b[0m\n\u001b[0;31mIndentationError\u001b[0m\u001b[0;31m:\u001b[0m expected an indented block\n"
          ]
        }
      ]
    },
    {
      "cell_type": "markdown",
      "metadata": {
        "id": "3oz3lvkEUDT2"
      },
      "source": [
        "Acima, temos dois erros. O primeiro tem a ver com a forma como o código foi escrito, porque se espera que o comando ```print``` seja executado apenas se x for maior que 8, ele deveria estar indentado.\n",
        "\n",
        "Um outro erro está relacionado a estrutura de fluxo de execução ```if```, que será vista em detalhes em um outro momento. Uma vez que o comando ```print``` não está indentado, o mesmo também não está contido no ```if```, deixando-o vazio e isso vai causar um erro de sintaxe."
      ]
    },
    {
      "cell_type": "markdown",
      "metadata": {
        "id": "tlyNS4fIUDT2"
      },
      "source": [
        "## 1.6 Parênteses são opcionais\n",
        "Vale ressaltar que no Python não há a necessidade de fazer o uso de parêntesis para as estruturas fluxo de execução como ```if```, ```for``` e ```while```."
      ]
    },
    {
      "cell_type": "code",
      "metadata": {
        "id": "oh20Osc1UDT2"
      },
      "source": [
        "x = 10\n",
        "if (x > 8):\n",
        "  print(\"x é maior que 8\")"
      ],
      "execution_count": null,
      "outputs": []
    },
    {
      "cell_type": "code",
      "metadata": {
        "id": "OrNmyM_2UDT2"
      },
      "source": [
        "x = 10\n",
        "if x > 8: # nessa linha removemos os parêntesis\n",
        "  print(\"x é maior que 8\")"
      ],
      "execution_count": null,
      "outputs": []
    },
    {
      "cell_type": "markdown",
      "metadata": {
        "id": "KnDwtxtMUDT3"
      },
      "source": [
        "Ambos os códigos estão corretos. Dessa forma, o Python se diferencia da maior parte das linguagens, nas quais a sintaxe exige que os parêntesis sejam usados."
      ]
    },
    {
      "cell_type": "markdown",
      "metadata": {
        "id": "qevvoNIFUDT3"
      },
      "source": [
        "<p id=\"nav-felt\" style=\"width:100%; text-align:right;\"><a href=\"2-tipos-dados_python.ipynb\">Próximo - 2: Tipos de dados &gt;&gt;</a></p>"
      ]
    },
    {
      "cell_type": "code",
      "metadata": {
        "id": "LSYkY6XrUDT3"
      },
      "source": [
        ""
      ],
      "execution_count": null,
      "outputs": []
    }
  ]
}