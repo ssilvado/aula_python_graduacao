{
  "nbformat": 4,
  "nbformat_minor": 0,
  "metadata": {
    "kernelspec": {
      "display_name": "Python 3",
      "language": "python",
      "name": "python3"
    },
    "language_info": {
      "codemirror_mode": {
        "name": "ipython",
        "version": 3
      },
      "file_extension": ".py",
      "mimetype": "text/x-python",
      "name": "python",
      "nbconvert_exporter": "python",
      "pygments_lexer": "ipython3",
      "version": "3.7.2"
    },
    "colab": {
      "name": "4-fluxo-execucao_python.ipynb",
      "provenance": [],
      "collapsed_sections": [],
      "include_colab_link": true
    }
  },
  "cells": [
    {
      "cell_type": "markdown",
      "metadata": {
        "id": "view-in-github",
        "colab_type": "text"
      },
      "source": [
        "<a href=\"https://colab.research.google.com/github/ssilvado/aula_python_graduacao/blob/main/4_fluxo_execucao_python.ipynb\" target=\"_parent\"><img src=\"https://colab.research.google.com/assets/colab-badge.svg\" alt=\"Open In Colab\"/></a>"
      ]
    },
    {
      "cell_type": "markdown",
      "metadata": {
        "id": "6KDOZS1PcphD"
      },
      "source": [
        "# 4. Fluxo de execução\n",
        "\n",
        "Nesta seção aprenderemos a fazer nossos programas tomarem certas decisões dependendo de condições prévias. \n",
        "\n",
        "Chamamos essa capacidade de tomada de decisões em programas de fluxo de execução: dependendo do que acontecer a execução do programa segue um dado fluxo, dependendo ela segue outro."
      ]
    },
    {
      "cell_type": "markdown",
      "metadata": {
        "id": "D0FLuc6LcphH"
      },
      "source": [
        "## 4.1 Operadores de comparação\n",
        "\n",
        "Um assunto diretamente relacionado ao fluxo de execução e repetição são os operadores de comparação. Como o nome sugere, eles são usados para avaliar o valor de duas ou mais expressões/variáveis e compará-las. \n",
        "\n",
        "<img src=\"figures/operacoes.png\" />"
      ]
    },
    {
      "cell_type": "markdown",
      "metadata": {
        "id": "iJN6DIpTcphI"
      },
      "source": [
        "## 4.2 Execução condicional \n",
        "\n",
        "A linguagem Python usa algumas palavras-chave para indicar execução condicional de código: ```if```, ```elif``` (else if), ```else```. \n",
        "\n",
        "Basicamente, os condicionais nos permitem selecionar certos blocos de código que serão ou não executados dependendo de certas condições. "
      ]
    },
    {
      "cell_type": "code",
      "metadata": {
        "id": "gOx5HxtUcphJ"
      },
      "source": [
        "idade = 18\n",
        "if idade < 20:\n",
        "    print('Você é jovem!')"
      ],
      "execution_count": null,
      "outputs": []
    },
    {
      "cell_type": "markdown",
      "metadata": {
        "id": "tLCrAkWLcphK"
      },
      "source": [
        "Como podemos notar, essa estrutura é formada pela palavra reservada ```if```, seguida por uma condição e por dois pontos (```:```). As linhas abaixo dela formam o bloco de instruções que serão executadas se a condição for atendida. Para isso, elas devem ser identadas corretamente, respeitando a especificação do Python. Nesse código, apenas a instrução da terceira linha é executada, e por isso ela está mais avançada. Se fosse necessária a execução de outras linhas no caso da idade ser menor que 20, elas também deveriam estar no mesmo nível de identação"
      ]
    },
    {
      "cell_type": "markdown",
      "metadata": {
        "id": "NZvFKw2acphK"
      },
      "source": [
        "Condicionais também podem ser usados em cadeia (um após o outro), utilizando as palavra reservadas ```else``` e ```elif```"
      ]
    },
    {
      "cell_type": "code",
      "metadata": {
        "id": "1FOaaqhYcphL",
        "outputId": "ad81f2e6-11ae-47af-b6fd-5d4a28c9fbda"
      },
      "source": [
        "idade = int(input('Digite sua idade: '))\n",
        "if idade >= 10 and idade < 20:\n",
        "    print('Você é adolescente')\n",
        "elif idade >= 20 and idade < 30:\n",
        "    print('Você é jovem')\n",
        "elif idade >= 30 and idade <= 100:\n",
        "    print('Você é adulto')\n",
        "else:\n",
        "    print('Valor não encontrado!')"
      ],
      "execution_count": null,
      "outputs": [
        {
          "output_type": "stream",
          "text": [
            "Digite sua idade: 38\n",
            "Você é adulto\n"
          ],
          "name": "stdout"
        }
      ]
    },
    {
      "cell_type": "markdown",
      "metadata": {
        "id": "GzsTP--UcphO"
      },
      "source": [
        "É importante enfatizar isso: em Python, blocos de código são delimitados por sua indentação. E a indentação é parte integrante do programa, sendo essencial para seu correto funcionamento.\n",
        "\n",
        "```python\n",
        "# Má indentação!\n",
        "if sentenca_1:\n",
        "    if sentenca_2:\n",
        "    # A linha abaixo não está indentada corretamente.\n",
        "    print(\"Ambas sentenças são verdadeiras.\")\n",
        "```"
      ]
    },
    {
      "cell_type": "markdown",
      "metadata": {
        "id": "kbfOfhfzcphQ"
      },
      "source": [
        "## 4.3 Laços de Repetição\n",
        "\n",
        "Outra capacidade importantíssima de linguagens de programação é a repetição de comandos até que uma dada condição seja satisfeita. As linguagens de programação implementam isso por meio dos chamados laços de repetição.\n",
        "\n",
        "\n",
        "### 4.3.1 Laços for\n",
        "\n",
        "Existem vários tipos de laços (loops) em Python. O mais comum deles é o for, que é usado com objetos iteráveis tais como listas e intervalos. Os exemplos abaixo mostram o funcionamento básico do ```for```."
      ]
    },
    {
      "cell_type": "code",
      "metadata": {
        "id": "jiBAHMytcphQ",
        "outputId": "61b97d3b-1918-427f-c972-affedbfdd8b9"
      },
      "source": [
        "# Percorrendo uma lista de números.\n",
        "print(\"Números em uma lista: \")\n",
        "for numero in [1, 1, 2, 3, 5, 8, 13]:\n",
        "    print(numero)"
      ],
      "execution_count": null,
      "outputs": [
        {
          "output_type": "stream",
          "text": [
            "Números em uma lista: \n",
            "1\n",
            "1\n",
            "2\n",
            "3\n",
            "5\n",
            "8\n",
            "13\n"
          ],
          "name": "stdout"
        }
      ]
    },
    {
      "cell_type": "code",
      "metadata": {
        "id": "6-v1YwnucphR",
        "outputId": "e5737b40-be03-46a2-fbb6-09b0323a2354"
      },
      "source": [
        "# Percorrendo uma lista de palavras.\n",
        "print(\"Palavras em uma lista:\")\n",
        "for palavra in [\"Ordem\", \"e\", \"Progresso\"]:\n",
        "    print(palavra)"
      ],
      "execution_count": null,
      "outputs": [
        {
          "output_type": "stream",
          "text": [
            "Palavras em uma lista:\n",
            "Ordem\n",
            "e\n",
            "Progresso\n"
          ],
          "name": "stdout"
        }
      ]
    },
    {
      "cell_type": "markdown",
      "metadata": {
        "id": "6KEmOvWvcphR"
      },
      "source": [
        "Um exemplo interessante de uso de laços ```for``` é a busca por um elemento em uma lista:"
      ]
    },
    {
      "cell_type": "code",
      "metadata": {
        "id": "lVG1_KP6cphS",
        "outputId": "29a8470c-1cd1-43f0-a8bf-346d6f54d273"
      },
      "source": [
        "elemento = 10\n",
        "estah_presente = False\n",
        "lista = [1, 2, 7, 10, 15, 20, 50]\n",
        "for item in lista:\n",
        "  if item == elemento:\n",
        "    estah_presente = True\n",
        "\n",
        "if estah_presente:\n",
        "  print(\"Elemento está na lista!\")\n",
        "else:\n",
        "  print(\"Elemento não está na lista!\")"
      ],
      "execution_count": null,
      "outputs": [
        {
          "output_type": "stream",
          "text": [
            "Elemento está na lista!\n"
          ],
          "name": "stdout"
        }
      ]
    },
    {
      "cell_type": "markdown",
      "metadata": {
        "id": "db7Z6JKxcphS"
      },
      "source": [
        "Uma outra forma de pesquisar por um elemento em uma lista em Python é por meio do operador ```in```, como vimos na seção 3.6.3"
      ]
    },
    {
      "cell_type": "code",
      "metadata": {
        "id": "vdn_n007cphT",
        "outputId": "2e87d47e-9e2a-495f-f67a-96b4705ded9a"
      },
      "source": [
        "elemento = 10\n",
        "lista = [1, 2, 7, 10, 15]\n",
        "if elemento in lista:\n",
        "  print(\"Está na lista!\")\n",
        "else:\n",
        "  print(\"Não está na lista!\")"
      ],
      "execution_count": null,
      "outputs": [
        {
          "output_type": "stream",
          "text": [
            "Está na lista!\n"
          ],
          "name": "stdout"
        }
      ]
    },
    {
      "cell_type": "markdown",
      "metadata": {
        "id": "hmXys0cccphT"
      },
      "source": [
        "### 4.3.2 Laços while\n",
        "\n",
        "Além dos laços ```for```, Python conta também com os laços while, que executam enquanto uma dada condição ```for``` verdadeira:"
      ]
    },
    {
      "cell_type": "code",
      "metadata": {
        "id": "WF_2fVZycphT",
        "outputId": "9d26fb1a-e705-40c5-f3c4-1dd631c99f97"
      },
      "source": [
        "i = 1\n",
        "while i < 5:\n",
        "    print(i)\n",
        "    i = i + 1"
      ],
      "execution_count": null,
      "outputs": [
        {
          "output_type": "stream",
          "text": [
            "1\n",
            "2\n",
            "3\n",
            "4\n"
          ],
          "name": "stdout"
        }
      ]
    },
    {
      "cell_type": "markdown",
      "metadata": {
        "id": "GxsfGfeicphU"
      },
      "source": [
        "Um exemplo útil de uso de laços ```while``` é o cálculo do fatorial de um número:"
      ]
    },
    {
      "cell_type": "code",
      "metadata": {
        "id": "WUplZpqRcphU",
        "outputId": "ab95c859-d757-4b47-8c73-bd1504f5f1c8"
      },
      "source": [
        "n = 6\n",
        "fatorial = 1\n",
        "while n > 1:\n",
        "  fatorial *= n # equivalente a fatorial = fatorial * n\n",
        "  n -= 1        # equivalente a n = n - 1\n",
        "print(fatorial)"
      ],
      "execution_count": null,
      "outputs": [
        {
          "output_type": "stream",
          "text": [
            "720\n"
          ],
          "name": "stdout"
        }
      ]
    },
    {
      "cell_type": "markdown",
      "metadata": {
        "id": "BwKfT1uNcphU"
      },
      "source": [
        "### 4.3.3 ```break``` / ```continue```\n",
        "\n",
        "```break``` encerra o laço ```for``` ou ```while```"
      ]
    },
    {
      "cell_type": "code",
      "metadata": {
        "id": "R5mCZJ3vcphV",
        "outputId": "4b8e4313-413b-4db5-99fe-a5e45eeae758"
      },
      "source": [
        "z = 1 + 1j\n",
        "\n",
        "while abs(z) < 100:\n",
        "    if z.imag == 4:        \n",
        "        break\n",
        "    z = z**2 + 1\n",
        "print(z)"
      ],
      "execution_count": null,
      "outputs": [
        {
          "output_type": "stream",
          "text": [
            "(-2+4j)\n"
          ],
          "name": "stdout"
        }
      ]
    },
    {
      "cell_type": "markdown",
      "metadata": {
        "id": "YAYFNPzlcphW"
      },
      "source": [
        "```continue``` vai para a próxima iteração no laço"
      ]
    },
    {
      "cell_type": "code",
      "metadata": {
        "id": "7wSya4JWcphW",
        "outputId": "e1f572c8-956f-4821-e950-68d713c29dc5"
      },
      "source": [
        "a = [1, 0, 2, 4]\n",
        "\n",
        "for element in a:\n",
        "    if element == 0:\n",
        "        continue\n",
        "    print(1. / element)"
      ],
      "execution_count": null,
      "outputs": [
        {
          "output_type": "stream",
          "text": [
            "1.0\n",
            "0.5\n",
            "0.25\n"
          ],
          "name": "stdout"
        }
      ]
    },
    {
      "cell_type": "markdown",
      "metadata": {
        "id": "110mN3Z5cphW"
      },
      "source": [
        "### 4.3.4 Controle do número de enumeração\n",
        "\n",
        "\n",
        "Uma tarefa comum é iterar sobre uma sequência e visualizar também o número do item:\n",
        "\n",
        "Poderia ser utilizado um laço ```while``` com um contador, ou para um ```for```:"
      ]
    },
    {
      "cell_type": "markdown",
      "metadata": {
        "id": "3SQV_8DVcphX"
      },
      "source": [
        "Vejamos agora como percorrer intervalos em Python."
      ]
    },
    {
      "cell_type": "code",
      "metadata": {
        "scrolled": true,
        "id": "sPI0OMMhcphX",
        "outputId": "6127a243-6e51-49b6-90dc-762c9abc9f1f"
      },
      "source": [
        "# Percorrendo um intervalo. Por padrão, intervalos começam em zero.\n",
        "for i in range(3):\n",
        "    print(i)"
      ],
      "execution_count": null,
      "outputs": [
        {
          "output_type": "stream",
          "text": [
            "0\n",
            "1\n",
            "2\n"
          ],
          "name": "stdout"
        }
      ]
    },
    {
      "cell_type": "markdown",
      "metadata": {
        "id": "2JmRP-gScphY"
      },
      "source": [
        "Observação: range(3) não inclui o 3, como mencionamos anteriormente.\n",
        "\n",
        "Nos exemplos acima, ao percorrer os elementos de uma sequência, não usamos o índice do elemento (sua posição na sequência). Entretanto, há situações em que esta informação é útil. Python nos permite acessar tanto os índices dos elementos quanto os elementos propriamente ditos se usarmos a função ```enumerate```."
      ]
    },
    {
      "cell_type": "code",
      "metadata": {
        "scrolled": false,
        "id": "5G7sKnlncphY",
        "outputId": "174cbde7-7476-4397-ff36-58383f3ef54d"
      },
      "source": [
        "for indice, elemento in enumerate(range(-3,3)):\n",
        "    print(indice, elemento)"
      ],
      "execution_count": null,
      "outputs": [
        {
          "output_type": "stream",
          "text": [
            "0 -3\n",
            "1 -2\n",
            "2 -1\n",
            "3 0\n",
            "4 1\n",
            "5 2\n"
          ],
          "name": "stdout"
        }
      ]
    },
    {
      "cell_type": "code",
      "metadata": {
        "id": "Zz-x5hWUcphY",
        "outputId": "335d22b8-e490-4303-d68c-8739d9e90669"
      },
      "source": [
        "palavras = ('legal', 'poderoso', 'legível')\n",
        "for i in range(0, len(palavras)):\n",
        "    print(i, palavras[i])"
      ],
      "execution_count": null,
      "outputs": [
        {
          "output_type": "stream",
          "text": [
            "0 legal\n",
            "1 poderoso\n",
            "2 legível\n"
          ],
          "name": "stdout"
        }
      ]
    },
    {
      "cell_type": "markdown",
      "metadata": {
        "id": "38EhIGK9cphZ"
      },
      "source": [
        "Mas, o Python fornece a palavra chave ```enumerate``` para isso:"
      ]
    },
    {
      "cell_type": "code",
      "metadata": {
        "id": "tdoILSpicphZ",
        "outputId": "6e974012-741a-4a46-d4c3-91b3a0c63d2e"
      },
      "source": [
        "palavras = ('legal', 'poderoso', 'legível')\n",
        "for indice, item in enumerate(palavras):\n",
        "    print(indice, item)"
      ],
      "execution_count": null,
      "outputs": [
        {
          "output_type": "stream",
          "text": [
            "0 legal\n",
            "1 poderoso\n",
            "2 legível\n"
          ],
          "name": "stdout"
        }
      ]
    },
    {
      "cell_type": "markdown",
      "metadata": {
        "id": "hNvWMAzjcphZ"
      },
      "source": [
        "### 4.3.5 Laço sobre um dicionário\n",
        "\n",
        "O método ```items``` retorna uma vista dos pares chave-valor no dicionário."
      ]
    },
    {
      "cell_type": "code",
      "metadata": {
        "id": "PQd3hXorcphZ",
        "outputId": "d248d65c-166b-4e77-fa5f-a62726814094"
      },
      "source": [
        "d = {'a': 1, 'b':1.2, 'c':1j}\n",
        "\n",
        "for chave, valor in d.items():\n",
        "    print('Chave: %s tem o valor: %s' % (chave, valor))"
      ],
      "execution_count": null,
      "outputs": [
        {
          "output_type": "stream",
          "text": [
            "Chave: a tem o valor: 1\n",
            "Chave: b tem o valor: 1.2\n",
            "Chave: c tem o valor: 1j\n"
          ],
          "name": "stdout"
        }
      ]
    },
    {
      "cell_type": "markdown",
      "metadata": {
        "id": "SiTOjrZpcpha"
      },
      "source": [
        "# 4.4 List Comprehension\n",
        "\n",
        "\n",
        "A compreensão de listas fornece uma maneira concisa de criar listas. \n",
        "Aplicações comuns são fazer novas listas onde cada elemento é o resultado de algumas operações aplicadas a cada membro de outra seqüência ou iterável, ou criar uma subsequência daqueles elementos que satisfazem uma determinada condição."
      ]
    },
    {
      "cell_type": "code",
      "metadata": {
        "id": "-sC5VtRvcpha",
        "outputId": "8e48937e-21f8-4112-94d9-b31e5fd5060f"
      },
      "source": [
        "squares = []\n",
        "for x in range(10):\n",
        "    squares.append(x**2)\n",
        "\n",
        "squares\n",
        "[0, 1, 4, 9, 16, 25, 36, 49, 64, 81]"
      ],
      "execution_count": null,
      "outputs": [
        {
          "output_type": "execute_result",
          "data": {
            "text/plain": [
              "[0, 1, 4, 9, 16, 25, 36, 49, 64, 81]"
            ]
          },
          "metadata": {
            "tags": []
          },
          "execution_count": 20
        }
      ]
    },
    {
      "cell_type": "code",
      "metadata": {
        "id": "jws3lLAdcpha",
        "outputId": "2af3feab-a0dc-4f38-dcde-5b89bfe5428c"
      },
      "source": [
        "squares2 = [x**2 for x in range(10)]\n",
        "print(squares2)"
      ],
      "execution_count": null,
      "outputs": [
        {
          "output_type": "stream",
          "text": [
            "[0, 1, 4, 9, 16, 25, 36, 49, 64, 81]\n"
          ],
          "name": "stdout"
        }
      ]
    },
    {
      "cell_type": "code",
      "metadata": {
        "id": "PbLPiM7ocpha",
        "outputId": "1a8da947-f807-4be8-b249-b3af5513052d"
      },
      "source": [
        "[(x, y) for x in [1,2,3] for y in [3,1,4] if x != y]"
      ],
      "execution_count": null,
      "outputs": [
        {
          "output_type": "execute_result",
          "data": {
            "text/plain": [
              "[(1, 3), (1, 4), (2, 3), (2, 1), (2, 4), (3, 1), (3, 4)]"
            ]
          },
          "metadata": {
            "tags": []
          },
          "execution_count": 22
        }
      ]
    },
    {
      "cell_type": "code",
      "metadata": {
        "id": "1wxEyBGacphb",
        "outputId": "35d18f7a-3ac8-4242-90ac-4f9c38ce7c1d"
      },
      "source": [
        "from math import pi\n",
        "[str(round(pi, i)) for i in range(1, 6)]"
      ],
      "execution_count": null,
      "outputs": [
        {
          "output_type": "execute_result",
          "data": {
            "text/plain": [
              "['3.1', '3.14', '3.142', '3.1416', '3.14159']"
            ]
          },
          "metadata": {
            "tags": []
          },
          "execution_count": 23
        }
      ]
    },
    {
      "cell_type": "markdown",
      "metadata": {
        "id": "7pEAOz02cphb"
      },
      "source": [
        "<p id=\"nav-felt\" style=\"possition:relative; width:50%; float:left;\"><a href=\"3-tipos-sequencias_python.ipynb\">&lt;&lt; 3. Tipos de sequências</a></p>\n",
        "<p id=\"nav-right\" style=\"possition:relative; width:45%; float:left; text-align:right;\"><a href=\"5-funcoes_python.ipynb\">Próximo: 5. Funções &gt;&gt;</a></p>"
      ]
    },
    {
      "cell_type": "code",
      "metadata": {
        "id": "8h7P_zsEcphb"
      },
      "source": [
        ""
      ],
      "execution_count": null,
      "outputs": []
    }
  ]
}