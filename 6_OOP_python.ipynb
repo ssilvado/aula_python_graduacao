{
  "nbformat": 4,
  "nbformat_minor": 0,
  "metadata": {
    "colab": {
      "name": "6-OOP_python.ipynb",
      "provenance": [],
      "collapsed_sections": [],
      "authorship_tag": "ABX9TyMANMwmTYjhgW3dV6XztqfE",
      "include_colab_link": true
    },
    "kernelspec": {
      "name": "python3",
      "display_name": "Python 3"
    },
    "language_info": {
      "name": "python"
    }
  },
  "cells": [
    {
      "cell_type": "markdown",
      "metadata": {
        "id": "view-in-github",
        "colab_type": "text"
      },
      "source": [
        "<a href=\"https://colab.research.google.com/github/ssilvado/aula_python_graduacao/blob/main/6_OOP_python.ipynb\" target=\"_parent\"><img src=\"https://colab.research.google.com/assets/colab-badge.svg\" alt=\"Open In Colab\"/></a>"
      ]
    },
    {
      "cell_type": "code",
      "metadata": {
        "id": "ySqebgY-c9eS"
      },
      "source": [
        "# 6. Programação Orientada a Objeto\n",
        "\n",
        "* Programação Orientada a Objetos é um paradigma de programação que utiliza que mapeamento\n",
        "de objetos do mundo real para modelos computacionais.\n",
        "\n",
        "* Paradigma de programação é a forma/metodologia utilizada para\n",
        "pensar/desenvolver sistemas.\n",
        "\n",
        "Principais elementos da Orientação a Objetos: \n",
        "* Classe -> Modelo do objeto do mundo real sendo representado computacionalmente\n",
        "* Atributo -> Características do objeto\n",
        "* Método -> Comportamento do objeto (funções)\n",
        "* Construtor -> Método especial utilizado para criar os objetos\n",
        "* Objeto -> Instância da classe\n",
        "\n",
        "Em Python, se quisermos definir uma variável ```minha_lista``` como um objeto do tipo lista, basta atribuirmos à essa variável um objeto do tipo lista:"
      ],
      "execution_count": null,
      "outputs": []
    },
    {
      "cell_type": "code",
      "metadata": {
        "id": "DLdYBcq_eT0z"
      },
      "source": [
        "minha_lista = [1,2,3]"
      ],
      "execution_count": 1,
      "outputs": []
    },
    {
      "cell_type": "markdown",
      "metadata": {
        "id": "qc7z5LUVeYG5"
      },
      "source": [
        "Como chamamos os métodos de um objeto ```list```?"
      ]
    },
    {
      "cell_type": "code",
      "metadata": {
        "colab": {
          "base_uri": "https://localhost:8080/"
        },
        "id": "yhZShLizegnT",
        "outputId": "fc348672-7471-4f13-e633-e36aaf1b530d"
      },
      "source": [
        "lista.count(2)"
      ],
      "execution_count": 2,
      "outputs": [
        {
          "output_type": "execute_result",
          "data": {
            "text/plain": [
              "1"
            ]
          },
          "metadata": {
            "tags": []
          },
          "execution_count": 2
        }
      ]
    },
    {
      "cell_type": "markdown",
      "metadata": {
        "id": "HFUEACyZej2A"
      },
      "source": [
        "Mas como podemos criar um objeto usando OOP? Já aprendemos como criar uma função. Então vamos explorar objetos em geral:\n",
        "\n",
        "\n",
        "## 6.1 Objetos\n",
        "\n",
        "Em Python, *tudo é um objeto*.\n",
        "\n",
        "Sabemos que podemos usar ```type()``` para verificar o tipo do objeto:"
      ]
    },
    {
      "cell_type": "code",
      "metadata": {
        "colab": {
          "base_uri": "https://localhost:8080/"
        },
        "id": "XCGgt0J-fT9V",
        "outputId": "c8fb8f79-a3e2-4277-81b7-7f9bb3814d9a"
      },
      "source": [
        "print (type(1))\n",
        "print (type([]))\n",
        "print (type(()))\n",
        "print (type({}))"
      ],
      "execution_count": 3,
      "outputs": [
        {
          "output_type": "stream",
          "text": [
            "<class 'int'>\n",
            "<class 'list'>\n",
            "<class 'tuple'>\n",
            "<class 'dict'>\n"
          ],
          "name": "stdout"
        }
      ]
    },
    {
      "cell_type": "markdown",
      "metadata": {
        "id": "PPFNkQz_fXf0"
      },
      "source": [
        "Como tudo é um objeto, podemos criar nosso próprio tipo Objeto, e isto é feito com a palavra-chave ```class```.\n",
        "\n",
        "## 6.3 Classes\n",
        "\n",
        "Segundo a documentação do Python, uma **classe** associa dados (**atributos**) e operações (**métodos**) numa só estrutura. Um **objeto é uma instância** de uma classe. Ou seja, uma representação da classe.\n",
        " \n",
        "> Sintaxe par criarmos uma classe:\n",
        "```python\n",
        "class NomeDaClasse:\n",
        "        pass\n",
        "```\n",
        "\n",
        "* Por convenção, o nome de uma classe começa com letra maiúscula, se o nome for composto, utiliza-se as iniciais de ambas as palavras em maiúsculo, e todas juntas.\n",
        "* Podemos definir atributos e métodos dentro da nossa classe.\n",
        "* Um **atributo** é uma característica de um objeto.\n",
        "* Um **método** representa um comportamento do objeto.\n",
        "* Utilizamos a palavra ```pass``` quando temos um bloco de código que ainda não está implementado.\n",
        "\n",
        "\n",
        "Por exemplo, podemos criar uma classe chamada ```Cachorro```. Um atributo de um cão pode ser sua raça ou seu nome, enquanto um método de um cão pode ser definido por um método ```.latir()``` que retorna um som.\n",
        "\n",
        "## 6.4 Atributos\n",
        "\n",
        "A sintaxe para criar um atributo é:\n",
        "\n",
        "```python\n",
        "    self.atributo = algumacoisa\n",
        "```\n",
        "\n",
        "Existe um método especial chamado ```__init__()``` que é usado para inicializar os atributos de um objeto."
      ]
    },
    {
      "cell_type": "code",
      "metadata": {
        "id": "H0dJqGxMjWeV"
      },
      "source": [
        "class Cachorro(object):              # 1\n",
        "  def __init__(self, raca):          # 2\n",
        "    self.raca = raca                 # 3\n",
        "\n",
        "rex = Cachorro(raca='Huskie')     # 4\n",
        "bingo = Cachorro(raca='Pincher')     # 5"
      ],
      "execution_count": 8,
      "outputs": []
    },
    {
      "cell_type": "markdown",
      "metadata": {
        "id": "xezmsfkcj4nb"
      },
      "source": [
        "* Na linha 1 criamos o objeto Cachorro\n",
        "* Na linha 2, o método especial ```__init__()``` é chamado automaticamente após a criação do objeto.\n",
        "* Na linha 3, temos a definição de um atributo da classe, e começa com a referência do objeto, por convenção chamado ```self```. \n",
        "* Na linha 4, temos ```rex``` que é uma instância da classe ```Cachorro```, com argumento ```raca``` = Huskie.\n",
        "\n",
        "Então temos duas instâncias da classe Cachorro, e podemos o atributo ```raca``` da seguinte forma:"
      ]
    },
    {
      "cell_type": "code",
      "metadata": {
        "colab": {
          "base_uri": "https://localhost:8080/",
          "height": 35
        },
        "id": "n_q0-bTEgXa1",
        "outputId": "85f2b321-3f02-482f-9521-173288d3725c"
      },
      "source": [
        "rex.raca"
      ],
      "execution_count": 9,
      "outputs": [
        {
          "output_type": "execute_result",
          "data": {
            "application/vnd.google.colaboratory.intrinsic+json": {
              "type": "string"
            },
            "text/plain": [
              "'vira-lata'"
            ]
          },
          "metadata": {
            "tags": []
          },
          "execution_count": 9
        }
      ]
    },
    {
      "cell_type": "code",
      "metadata": {
        "colab": {
          "base_uri": "https://localhost:8080/",
          "height": 35
        },
        "id": "AuQRTvXCmTBS",
        "outputId": "27d7b8b8-3f9e-4af3-e084-97a0381edcab"
      },
      "source": [
        "bingo.raca"
      ],
      "execution_count": 10,
      "outputs": [
        {
          "output_type": "execute_result",
          "data": {
            "application/vnd.google.colaboratory.intrinsic+json": {
              "type": "string"
            },
            "text/plain": [
              "'pincher'"
            ]
          },
          "metadata": {
            "tags": []
          },
          "execution_count": 10
        }
      ]
    },
    {
      "cell_type": "markdown",
      "metadata": {
        "id": "Glc0phLonE_p"
      },
      "source": [
        "Note que não usamos ```()``` após ```raca``` porque este é um atributo e não toma nenhum argumento.\n",
        "\n",
        "Em Python, dividimos os atributos em 3 grupos:\n",
        "* Atributos de Instância: São atributos declarados dentro do método construtor. Todas as instâncias/objetos da classe terão estes atributos.\n",
        "* Atributos de Classe: são atributos declarados diretamente na classe, ou seja, fora do construtor. Geralmente já inicializamos um valor, e este valor é compartilhado entre todas as instâncias da classe. Ou seja, ao invés de cada instância da classe ter seus próprios valores como é o caso dos atributos de instância, com os atributos de classe todas as instâncias terão o mesmo valor para este atributo.\n",
        "* Atributos Dinâmicos: são atributos de instância que podem ser criados em tempo de execução, e será exclusivo da instância que o criou.\n",
        "\n",
        "No nosso exemplo da classe Cachorro, o atributo ```raca``` é um atributo de instância. \n",
        "\n",
        "Também podemos criar o atributo ```especie``` para a classe ```Cachorro```. Sabemos que além da raça, nome e outro atributos, os cães são todos mamíferos, então:"
      ]
    },
    {
      "cell_type": "code",
      "metadata": {
        "id": "sL6-_fhcl955"
      },
      "source": [
        "class Cachorro(object):\n",
        "    \n",
        "    # Class Object Attribute\n",
        "    especie = 'mamífero'\n",
        "    \n",
        "    def __init__(self,raca,nome):\n",
        "        self.raca = raca\n",
        "        self.nome = nome"
      ],
      "execution_count": 5,
      "outputs": []
    },
    {
      "cell_type": "code",
      "metadata": {
        "id": "Q5ha_WV_vX5P"
      },
      "source": [
        "rex = Cachorro('vira-lata','Rex')"
      ],
      "execution_count": 6,
      "outputs": []
    },
    {
      "cell_type": "code",
      "metadata": {
        "colab": {
          "base_uri": "https://localhost:8080/",
          "height": 35
        },
        "id": "eFTlEpcDvznv",
        "outputId": "36e925eb-7f3a-468f-e6b2-48bb35c81b72"
      },
      "source": [
        "rex.nome"
      ],
      "execution_count": 7,
      "outputs": [
        {
          "output_type": "execute_result",
          "data": {
            "application/vnd.google.colaboratory.intrinsic+json": {
              "type": "string"
            },
            "text/plain": [
              "'Rex'"
            ]
          },
          "metadata": {
            "tags": []
          },
          "execution_count": 7
        }
      ]
    },
    {
      "cell_type": "markdown",
      "metadata": {
        "id": "RrsBcojcv5CD"
      },
      "source": [
        "O atributo ```especie``` é um atributo de classe. Ele é definido fora de qualquer método e por convenção, declarado antes do método ```__init__()```."
      ]
    },
    {
      "cell_type": "code",
      "metadata": {
        "colab": {
          "base_uri": "https://localhost:8080/",
          "height": 35
        },
        "id": "PZ9y6Gdov0iE",
        "outputId": "76d74241-3200-47ec-8f8a-8b2d31bf8b41"
      },
      "source": [
        "rex.especie"
      ],
      "execution_count": 8,
      "outputs": [
        {
          "output_type": "execute_result",
          "data": {
            "application/vnd.google.colaboratory.intrinsic+json": {
              "type": "string"
            },
            "text/plain": [
              "'mamífero'"
            ]
          },
          "metadata": {
            "tags": []
          },
          "execution_count": 8
        }
      ]
    },
    {
      "cell_type": "markdown",
      "metadata": {
        "id": "4o8c1oQ8yZwk"
      },
      "source": [
        "## 6.5 Métodos\n",
        "\n",
        "Métodos são funções definidas dentro do corpo da classe. Elas representam os comportamentos do objeto, ou seja, as ações\n",
        "que este objeto pode realizar no seu sistema.\n",
        "\n",
        "> Sintaxe:\n",
        "```python\n",
        "def metodo(self, args):\n",
        "    pass\n",
        "````\n",
        "\n",
        "Vamos criar uma classe ```Circulo```:\n"
      ]
    },
    {
      "cell_type": "code",
      "metadata": {
        "colab": {
          "base_uri": "https://localhost:8080/"
        },
        "id": "AbT6mHVoy_pE",
        "outputId": "71dc4183-f3c4-43a2-d614-fefd6fd6577a"
      },
      "source": [
        "class Circulo(object):\n",
        "    pi = 3.14\n",
        "\n",
        "    # Circle get instantiated with a radius (default is 1)\n",
        "    def __init__(self, raio=1):\n",
        "        self.raio = raio \n",
        "\n",
        "    # Método Area calcula a área.\n",
        "    def area(self):\n",
        "        return self.raio * self.raio * Circulo.pi\n",
        "\n",
        "    # Método para redefinir o raio\n",
        "    def setRaio(self, raio):\n",
        "        self.raio = raio\n",
        "\n",
        "    # Método para receber o raio\n",
        "    def getRaio(self):\n",
        "        return self.raio\n",
        "\n",
        "\n",
        "c = Circulo()\n",
        "\n",
        "c.setRaio(2)\n",
        "print ('Raio = ',c.getRaio())\n",
        "print ('A área é = ',c.area())"
      ],
      "execution_count": 11,
      "outputs": [
        {
          "output_type": "stream",
          "text": [
            "Raio =  2\n",
            "A área é =  12.56\n"
          ],
          "name": "stdout"
        }
      ]
    },
    {
      "cell_type": "markdown",
      "metadata": {
        "id": "yLtSPfT6zAvj"
      },
      "source": [
        "Em Python, dividimos os métodos, em 2 grupos: \n",
        "* Métodos de instância\n",
        "* Métodos de Classe.\n",
        "\n",
        "### 6.5.1 Método de Instância\n",
        "\n",
        "Um método de instância requer uma instância para chamá-lo\n",
        "\n",
        "O método ```__init__``` (dunder innit) é um método especial chamado de construtor e\n",
        "sua função é construir o objeto a partir da classe.\n",
        "\n",
        "* Todo elemento em Python que inicia e finaliza com duplo underline é chamado de dunder (Double Underline)\n",
        "* Os métodos/funções dunder em Python são chamados de métodos mágicos.\n",
        "* Métodos são escritos em letras minúsculas. \n",
        "  * Se o nome for composto, o nome terá as palavras separadas por underline.\n",
        "\n",
        "\n",
        "### 6.5.2 Método de Classe\n",
        "\n",
        "Um método de classe é aquele que pertence a classe como um todos. Não requer uma instâncis. Em vez disso, a classe será enviada automaticamente como o primeiro argumento.\n"
      ]
    },
    {
      "cell_type": "markdown",
      "metadata": {
        "id": "DW8ciWIl0v1s"
      },
      "source": [
        "## 6.6 Herança\n",
        "\n",
        "Herança é uma forma de criar novas classes usando classes já definidas. A nova classe é chamada de classe derivada. A classe que usamos para criar a nova, chamamos de classe base. \n",
        "\n",
        "Um dos benefícios da herança é a reutilzação do código e redução da complexidade do programa.\n",
        "\n",
        "As classes derivadas sobrescrevem ou extendem a funcionalidade da classe base.\n",
        "\n",
        "Vamos voltar ao nosso exemploe da classe ```Cachorro```:"
      ]
    },
    {
      "cell_type": "code",
      "metadata": {
        "id": "nxw_Jb9_1oh3"
      },
      "source": [
        "class Animal(object):\n",
        "    def __init__(self):\n",
        "        print (\"Animal criado!\")\n",
        "\n",
        "    def quemSouEu(self):\n",
        "        print (\"Animal\")\n",
        "\n",
        "    def comer(self):\n",
        "        print (\"Comendo\")\n",
        "\n",
        "\n",
        "class Cachorro(Animal):\n",
        "    def __init__(self):\n",
        "        Animal.__init__(self)\n",
        "        print (\"Cachorro criado!\")\n",
        "\n",
        "    def quemSouEu(self):\n",
        "        print (\"Cachorro\")\n",
        "\n",
        "    def latir(self):\n",
        "        print (\"Au au!\")"
      ],
      "execution_count": 17,
      "outputs": []
    },
    {
      "cell_type": "code",
      "metadata": {
        "colab": {
          "base_uri": "https://localhost:8080/"
        },
        "id": "4JAvkJ8kwUpU",
        "outputId": "20610edd-3e62-46b5-b772-3e956d63c728"
      },
      "source": [
        "c = Cachorro()"
      ],
      "execution_count": 18,
      "outputs": [
        {
          "output_type": "stream",
          "text": [
            "Animal criado!\n",
            "Cachorro criado!\n"
          ],
          "name": "stdout"
        }
      ]
    },
    {
      "cell_type": "code",
      "metadata": {
        "colab": {
          "base_uri": "https://localhost:8080/"
        },
        "id": "XmDyvmR8ySOe",
        "outputId": "f2f27eb0-1048-48a8-e403-72e4b9b37660"
      },
      "source": [
        "c.quemSouEu()"
      ],
      "execution_count": 19,
      "outputs": [
        {
          "output_type": "stream",
          "text": [
            "Cachorro\n"
          ],
          "name": "stdout"
        }
      ]
    },
    {
      "cell_type": "code",
      "metadata": {
        "colab": {
          "base_uri": "https://localhost:8080/"
        },
        "id": "c2dmX5Sn18_Q",
        "outputId": "40087644-9332-4f11-8b43-7468a7185d83"
      },
      "source": [
        "c.comer()"
      ],
      "execution_count": 20,
      "outputs": [
        {
          "output_type": "stream",
          "text": [
            "Comendo\n"
          ],
          "name": "stdout"
        }
      ]
    },
    {
      "cell_type": "code",
      "metadata": {
        "colab": {
          "base_uri": "https://localhost:8080/"
        },
        "id": "KlDTo8_J2A0V",
        "outputId": "17849db9-46e6-4ea1-ca19-13938ba11cd9"
      },
      "source": [
        "c.latir()"
      ],
      "execution_count": 21,
      "outputs": [
        {
          "output_type": "stream",
          "text": [
            "Au au!\n"
          ],
          "name": "stdout"
        }
      ]
    },
    {
      "cell_type": "markdown",
      "metadata": {
        "id": "Nn8hYlcl2WYb"
      },
      "source": [
        "Neste exemplo, temos duas classes: Animal e Cachorro. A classe Aninal é a classe base, e a classe Cachorro, a classe derivada.\n",
        "\n",
        "A classe derivada herda as funcionalidades da classe base. Como vemos no método ```comer()```.\n",
        "\n",
        "A classe derivada modifica o comportamente existente da classe base, como no método ```quemSouEu()```.\n",
        "\n",
        "A classe derivada extende a funcionalidade da classe base, quando definimos um novo método, ```latir()```.\n",
        "\n",
        "## 6.7 Métodos especiais\n",
        "\n",
        "Finalmente, vamos examinar os métodos especiais. As classes em Python podem implementar certas operações com nomes de métodos especiais. Na verdade, esses métodos não são chamados diretamente, mas pela sintaxe da linguagem específica do Python. \n",
        "\n",
        "Por exemplo, vamos criar uma classe Livro:\n",
        "\n",
        "\n"
      ]
    },
    {
      "cell_type": "code",
      "metadata": {
        "id": "ueMQoz1k8IqM"
      },
      "source": [
        "class Livro(object):\n",
        "    def __init__(self, titulo, autor, paginas):\n",
        "        print (\"Um livro foi criado!\")\n",
        "        self.titulo = titulo\n",
        "        self.autor = autor\n",
        "        self.paginas = paginas\n",
        "\n",
        "    def __str__(self):\n",
        "        return \"Título:%s , autor:%s, páginas:%s \" %(self.titulo, self.autor, self.paginas)\n",
        "\n",
        "    def __len__(self):\n",
        "        return self.paginas\n",
        "\n",
        "    def __del__(self):\n",
        "        print (\"Um livro foi destruído!\")"
      ],
      "execution_count": 23,
      "outputs": []
    },
    {
      "cell_type": "code",
      "metadata": {
        "colab": {
          "base_uri": "https://localhost:8080/"
        },
        "id": "r0uLLxM78iv1",
        "outputId": "c9016753-4869-4a4d-d8bd-4a4f005c0eb5"
      },
      "source": [
        "livro = Livro(\"Métodos Estatísticos em Física Experimental\", \"Vitor Oguri\", 200)\n",
        "\n",
        "print (livro)\n",
        "print (len(livro))\n",
        "del livro"
      ],
      "execution_count": 24,
      "outputs": [
        {
          "output_type": "stream",
          "text": [
            "Um livro foi criado!\n",
            "Título:Métodos Estatísticos em Física Experimental , autor:Vitor Oguri, páginas:200 \n",
            "200\n",
            "Um livro foi destruído!\n"
          ],
          "name": "stdout"
        }
      ]
    },
    {
      "cell_type": "markdown",
      "metadata": {
        "id": "OV9tm6iX9Fiy"
      },
      "source": [
        "Os métodos especiais ```__init__()```, ```__str__()```, ```__len__()``` and the ```__del__()``` são definidos pelo uso do duplo underline, o que nos permite usar funções específicas do Python nos objetos criados na nossa classe.\n"
      ]
    }
  ]
}