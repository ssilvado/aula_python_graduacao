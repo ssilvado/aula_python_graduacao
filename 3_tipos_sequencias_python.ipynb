{
  "nbformat": 4,
  "nbformat_minor": 0,
  "metadata": {
    "interpreter": {
      "hash": "335436fdd3b76d4f3727a636fd436c7d3c5aef570f332174c0978c1012c03da9"
    },
    "kernelspec": {
      "display_name": "Python 3",
      "language": "python",
      "name": "python3"
    },
    "language_info": {
      "codemirror_mode": {
        "name": "ipython",
        "version": 3
      },
      "file_extension": ".py",
      "mimetype": "text/x-python",
      "name": "python",
      "nbconvert_exporter": "python",
      "pygments_lexer": "ipython3",
      "version": "3.7.2"
    },
    "colab": {
      "name": "3-tipos-sequencias_python.ipynb",
      "provenance": [],
      "collapsed_sections": [],
      "include_colab_link": true
    }
  },
  "cells": [
    {
      "cell_type": "markdown",
      "metadata": {
        "id": "view-in-github",
        "colab_type": "text"
      },
      "source": [
        "<a href=\"https://colab.research.google.com/github/ssilvado/aula_python_graduacao/blob/main/3_tipos_sequencias_python.ipynb\" target=\"_parent\"><img src=\"https://colab.research.google.com/assets/colab-badge.svg\" alt=\"Open In Colab\"/></a>"
      ]
    },
    {
      "cell_type": "markdown",
      "metadata": {
        "id": "7wSJviKuX5tE"
      },
      "source": [
        "# 3. Sequências em Python\n",
        "\n",
        "As sequências no Python, que são recursos para agrupar dados. Elas nos permitem armazenar \n",
        "múltiplos itens dentro de uma única unidade, que funciona como um container.\n",
        "\n",
        "* <font color=red> Lista </font>\n",
        "   * Mutável, uma sequência ordenada de tipos mistos\n",
        "   \n",
        "\n",
        "* <font color=red> Strings </font>\n",
        "   * Imutável\n",
        "   * conceitualmente muito parecida com uma Tupla\n",
        "   \n",
        "\n",
        "* <font color=red> Tupla </font>  \n",
        "   * Uma sequência simples e imutável de ítens.\n",
        "   * Ítens podem ser de tipos mistos, incluindo sequências de tipos \n",
        "   \n",
        "   \n",
        "* Todos os três tipos de sequência compartilham bastante da mesma sintaxe e funcionalidade\n",
        "\n",
        "\n",
        "* Diferenças mais importantes:\n",
        "   * tuplas e strings são imutáveis\n",
        "   * listas são mutáveis\n",
        "\n",
        "\n",
        "* Os exemplos que mostraremos podem ser aplicados a todos os tipos de sequência\n",
        "\n"
      ]
    },
    {
      "cell_type": "markdown",
      "metadata": {
        "id": "23KmqdHHX5tH"
      },
      "source": [
        "## 3.1 Tipos de Sequências: Definições\n",
        "\n",
        "\n",
        "* Listas são definidas usando colchete (e vírgulas)."
      ]
    },
    {
      "cell_type": "code",
      "metadata": {
        "id": "WOrwCPilX5tJ"
      },
      "source": [
        "lista = ['abc', 34, 3.1415, 23]"
      ],
      "execution_count": null,
      "outputs": []
    },
    {
      "cell_type": "markdown",
      "metadata": {
        "id": "6nnH_V80X5tM"
      },
      "source": [
        "* Tuplas são definidas usando parênteses (e vírgulas)."
      ]
    },
    {
      "cell_type": "code",
      "metadata": {
        "id": "FN64VSk-X5tN"
      },
      "source": [
        "tupla = (3, 'abc', 4.56, (2, 23), 'k')"
      ],
      "execution_count": null,
      "outputs": []
    },
    {
      "cell_type": "markdown",
      "metadata": {
        "id": "wp_lbeKdX5tN"
      },
      "source": [
        "* Strings são definidas usando aspas"
      ]
    },
    {
      "cell_type": "code",
      "metadata": {
        "id": "yDFjZT_UX5tO"
      },
      "source": [
        "st = 'Hello'\n",
        "st = \"Hello\"\n",
        "st = \"\"\"Hello\"\"\""
      ],
      "execution_count": null,
      "outputs": []
    },
    {
      "cell_type": "markdown",
      "metadata": {
        "id": "f0znsF3sX5tP"
      },
      "source": [
        "## 3.2 Tipos de Sequências: acessando os elementos\n",
        "\n",
        "\n",
        "* Os elementos individuais de uma **tupla**, **lista** ou **string** podem ser acessados usando uma notação de colchete.\n",
        "* Os tipos de sequências são todos baseados no 0 (zero), os índices são contados a partir do 0.\n",
        "\n",
        "Por exemplo: \n",
        "```\n",
        "+---+---+---+---+---+---+\n",
        "| p | y | t | h | o | n |\n",
        "+---+---+---+---+---+---+\n",
        "  0   1   2   3   4   5\n",
        "````\n"
      ]
    },
    {
      "cell_type": "code",
      "metadata": {
        "colab": {
          "base_uri": "https://localhost:8080/"
        },
        "id": "lWak3GFXX5tQ",
        "outputId": "d399fcb9-496d-4973-e15b-ec72783988f3"
      },
      "source": [
        "tupla = (3, 'abc', 4.56, (2, 23), 'k')\n",
        "print (tupla[1])"
      ],
      "execution_count": null,
      "outputs": [
        {
          "output_type": "stream",
          "text": [
            "abc\n"
          ],
          "name": "stdout"
        }
      ]
    },
    {
      "cell_type": "code",
      "metadata": {
        "colab": {
          "base_uri": "https://localhost:8080/"
        },
        "id": "p2ILB98kX5tR",
        "outputId": "35393e2e-1595-4b46-9dd9-f08649e936ca"
      },
      "source": [
        "lista = ['abc', 34, 3.1415, 23]\n",
        "print (lista[1])"
      ],
      "execution_count": null,
      "outputs": [
        {
          "output_type": "stream",
          "text": [
            "34\n"
          ],
          "name": "stdout"
        }
      ]
    },
    {
      "cell_type": "code",
      "metadata": {
        "colab": {
          "base_uri": "https://localhost:8080/"
        },
        "id": "y4NGZsktX5tS",
        "outputId": "d109712b-0ab7-4b23-f2cd-2f9f8c466d94"
      },
      "source": [
        "st = 'Hello'\n",
        "print (st[1])"
      ],
      "execution_count": null,
      "outputs": [
        {
          "output_type": "stream",
          "text": [
            "e\n"
          ],
          "name": "stdout"
        }
      ]
    },
    {
      "cell_type": "markdown",
      "metadata": {
        "id": "hIgm6SJ_X5tS"
      },
      "source": [
        "## 3.3 Tipos de Sequências: índices negativos\n",
        "\n",
        "* índice positivo: contar da esquerda para a direita, começando do zero\n",
        "* índice negativo: contar da direita para a esquerda, começando do -1."
      ]
    },
    {
      "cell_type": "code",
      "metadata": {
        "colab": {
          "base_uri": "https://localhost:8080/"
        },
        "id": "aJFf13ZVX5tT",
        "outputId": "25f2348f-eca7-4bf4-eb40-50b351105066"
      },
      "source": [
        "tupla = (3, 'abc', 4.56, (2, 23), 'k')\n",
        "print (tupla[1])"
      ],
      "execution_count": null,
      "outputs": [
        {
          "output_type": "stream",
          "text": [
            "abc\n"
          ],
          "name": "stdout"
        }
      ]
    },
    {
      "cell_type": "code",
      "metadata": {
        "colab": {
          "base_uri": "https://localhost:8080/"
        },
        "id": "DoAsfW3lX5tT",
        "outputId": "de3f8c66-5b45-48e4-de7b-a608dfc5e598"
      },
      "source": [
        "print (tupla[-1])"
      ],
      "execution_count": null,
      "outputs": [
        {
          "output_type": "stream",
          "text": [
            "k\n"
          ],
          "name": "stdout"
        }
      ]
    },
    {
      "cell_type": "markdown",
      "metadata": {
        "id": "BLhEpy8KX5tU"
      },
      "source": [
        "## 3.4 Tipos de Sequências: fatiamento (\"slicing\")\n",
        "\n",
        "\n",
        "* Você pode retornar uma cópia da sequência (lista, tupla, string, ...) com um sub-conjunto dos elementos originais, usando uma notação de cólon (dois pontos).\n",
        "\n",
        "Note que ```tupla[inicio:fim]``` contém os elementos com índices ```i``` de forma que inicio <= i <= fim (i varia do inicio ao fim-1). Além disso, ```tupla[inicio:fim]``` contém (fim-inicio) elementos.\n",
        "\n",
        "> Sintaxe de corte:\n",
        "```python\n",
        "tupla[inicio:fim:incremento]\n",
        "``` \n",
        ">(o parâmetro incremento é opcional)"
      ]
    },
    {
      "cell_type": "code",
      "metadata": {
        "colab": {
          "base_uri": "https://localhost:8080/"
        },
        "id": "TE1_-R0OX5tU",
        "outputId": "fd646b0d-301a-4396-aed9-9c3dfc5989bc"
      },
      "source": [
        "tupla = (3, 'abc', 4.56, (2, 23), 'k')\n",
        "print (tupla[1:4])"
      ],
      "execution_count": null,
      "outputs": [
        {
          "output_type": "stream",
          "text": [
            "('abc', 4.56, (2, 23))\n"
          ],
          "name": "stdout"
        }
      ]
    },
    {
      "cell_type": "code",
      "metadata": {
        "colab": {
          "base_uri": "https://localhost:8080/"
        },
        "id": "9tSU_iHYX5tU",
        "outputId": "ae44abf7-37b1-47e8-cbba-8f4e52e33357"
      },
      "source": [
        "print (tupla[1:-1])"
      ],
      "execution_count": null,
      "outputs": [
        {
          "output_type": "stream",
          "text": [
            "('abc', 4.56, (2, 23))\n"
          ],
          "name": "stdout"
        }
      ]
    },
    {
      "cell_type": "markdown",
      "metadata": {
        "id": "N4lljYHCX5tV"
      },
      "source": [
        "## 3.5 Tuplas Vs. Listas\n",
        "\n",
        "* **Listas** são mais lentas, porém mais poderosas do que as **tuplas**\n",
        "   * As **listas** podem ser modificadas e têm várias operações úteis que podemos fazer com elas (```reverse```, ```sort```, ```count```, ```remove```, ```index```, ```insert```, ...)\n",
        "   * As **tuplas** são imutáveis e têm menos funcionalidades.\n",
        "   \n",
        "   \n",
        "* Podemos converter listas e tuplas com as funções ```_list()_``` e ```_tuple()_```"
      ]
    },
    {
      "cell_type": "code",
      "metadata": {
        "colab": {
          "base_uri": "https://localhost:8080/"
        },
        "id": "PVWw1RrwX5tV",
        "outputId": "b8271e13-64af-4890-8bb1-e27d5f2b2251"
      },
      "source": [
        "list(tupla)"
      ],
      "execution_count": null,
      "outputs": [
        {
          "output_type": "execute_result",
          "data": {
            "text/plain": [
              "[3, 'abc', 4.56, (2, 23), 'k']"
            ]
          },
          "metadata": {
            "tags": []
          },
          "execution_count": 161
        }
      ]
    },
    {
      "cell_type": "markdown",
      "metadata": {
        "id": "9Y4fs3x4X5tV"
      },
      "source": [
        "## 3.6 Tipos de Sequências: Operadores\n",
        "\n",
        "A linguagem Python dispõe de vários operadores para auxiliar na manipulação de listas. \n",
        "\n",
        "\n",
        "### 3.6.1  Alterar sequências\n",
        "\n",
        "Podemos alterar uma sequência, usando o operador de acesso aos seus elementos a partir dos índices e alteramos o valor dele."
      ]
    },
    {
      "cell_type": "code",
      "metadata": {
        "colab": {
          "base_uri": "https://localhost:8080/"
        },
        "id": "4FwYinBcX5tW",
        "outputId": "e6f4a1b3-79dc-4211-f259-a5731d8d630b"
      },
      "source": [
        "lista = ['vermelho', 'azul', 'verde', 'preto', 'branco']\n",
        "lista[1] = 'cinza'\n",
        "lista"
      ],
      "execution_count": null,
      "outputs": [
        {
          "output_type": "execute_result",
          "data": {
            "text/plain": [
              "['vermelho', 'cinza', 'verde', 'preto', 'branco']"
            ]
          },
          "metadata": {
            "tags": []
          },
          "execution_count": 162
        }
      ]
    },
    {
      "cell_type": "markdown",
      "metadata": {
        "id": "M1EH_O0bX5tW"
      },
      "source": [
        "Também podemos remover um item usando o operador de acesso"
      ]
    },
    {
      "cell_type": "code",
      "metadata": {
        "colab": {
          "base_uri": "https://localhost:8080/"
        },
        "id": "I7q8GEYBX5tW",
        "outputId": "b3a90a3b-9bf9-4d0b-9a8d-80312d96fbff"
      },
      "source": [
        "lista = lista[:-2] #remove os dois últimos\n",
        "lista"
      ],
      "execution_count": null,
      "outputs": [
        {
          "output_type": "execute_result",
          "data": {
            "text/plain": [
              "['vermelho', 'cinza', 'verde']"
            ]
          },
          "metadata": {
            "tags": []
          },
          "execution_count": 163
        }
      ]
    },
    {
      "cell_type": "markdown",
      "metadata": {
        "id": "CcVnBFKhZaYI"
      },
      "source": [
        "e també inverter a posição dos itens:"
      ]
    },
    {
      "cell_type": "code",
      "metadata": {
        "colab": {
          "base_uri": "https://localhost:8080/"
        },
        "id": "3uT0qCYVX5tX",
        "outputId": "22037bf2-dcc6-4e57-d906-0bb1e85e81f0"
      },
      "source": [
        "outra_lista = lista[::-1] \n",
        "outra_lista"
      ],
      "execution_count": null,
      "outputs": [
        {
          "output_type": "execute_result",
          "data": {
            "text/plain": [
              "['verde', 'cinza', 'vermelho']"
            ]
          },
          "metadata": {
            "tags": []
          },
          "execution_count": 164
        }
      ]
    },
    {
      "cell_type": "markdown",
      "metadata": {
        "id": "cZQ04fy5X5tX"
      },
      "source": [
        "### 3.6.2 Concatenar e repetir listas\n",
        "\n",
        "Também é possível concatenar listas por meio do operador de adição + e multiplicá-las por um inteiro, o que gerará várias cópias dos seus itens."
      ]
    },
    {
      "cell_type": "code",
      "metadata": {
        "colab": {
          "base_uri": "https://localhost:8080/"
        },
        "id": "g6D7R-e-X5tX",
        "outputId": "a7721d12-3eb7-40fa-ce1a-140b3de5edbf"
      },
      "source": [
        "outra_lista = ['maçã', 'melancia', 'limão', 'abacate']\n",
        "outra_lista + lista"
      ],
      "execution_count": null,
      "outputs": [
        {
          "output_type": "execute_result",
          "data": {
            "text/plain": [
              "['maçã', 'melancia', 'limão', 'abacate', 'vermelho', 'cinza', 'verde']"
            ]
          },
          "metadata": {
            "tags": []
          },
          "execution_count": 165
        }
      ]
    },
    {
      "cell_type": "code",
      "metadata": {
        "colab": {
          "base_uri": "https://localhost:8080/"
        },
        "id": "3sJO3dZeX5tY",
        "outputId": "9f646263-d406-427f-c71d-b62717aa70a6"
      },
      "source": [
        "outra_lista * 2"
      ],
      "execution_count": null,
      "outputs": [
        {
          "output_type": "execute_result",
          "data": {
            "text/plain": [
              "['maçã',\n",
              " 'melancia',\n",
              " 'limão',\n",
              " 'abacate',\n",
              " 'maçã',\n",
              " 'melancia',\n",
              " 'limão',\n",
              " 'abacate']"
            ]
          },
          "metadata": {
            "tags": []
          },
          "execution_count": 166
        }
      ]
    },
    {
      "cell_type": "markdown",
      "metadata": {
        "id": "DEJ-1Zx9X5tY"
      },
      "source": [
        "### 3.6.3 Verificando a existência de um elemento em uma sequência\n",
        "\n",
        "Em alguns casos é preciso verificar se um determinado valor está contido em uma sequência. Para isso, em Python utilizamos o operador ```in```, \n",
        "que indicará ```True``` se objeto pertencer ao conjunto, e ```False``` caso contrário. "
      ]
    },
    {
      "cell_type": "code",
      "metadata": {
        "colab": {
          "base_uri": "https://localhost:8080/"
        },
        "id": "4Cew7owSX5tY",
        "outputId": "bea2e581-6fb3-4fa5-f3e7-0053cb69ae99"
      },
      "source": [
        "'branco' in outra_lista"
      ],
      "execution_count": null,
      "outputs": [
        {
          "output_type": "execute_result",
          "data": {
            "text/plain": [
              "False"
            ]
          },
          "metadata": {
            "tags": []
          },
          "execution_count": 167
        }
      ]
    },
    {
      "cell_type": "code",
      "metadata": {
        "colab": {
          "base_uri": "https://localhost:8080/"
        },
        "id": "KoJ2EzN_X5tY",
        "outputId": "1b0b5093-6f8b-4719-eda3-d21731daa7bc"
      },
      "source": [
        "'batata' in outra_lista"
      ],
      "execution_count": null,
      "outputs": [
        {
          "output_type": "execute_result",
          "data": {
            "text/plain": [
              "False"
            ]
          },
          "metadata": {
            "tags": []
          },
          "execution_count": 168
        }
      ]
    },
    {
      "cell_type": "markdown",
      "metadata": {
        "id": "VFvzn_WZX5tZ"
      },
      "source": [
        "## 3.7 Tipos de Sequências: Métodos\n",
        "\n",
        "Os operadores e funções que recebem uma sequência como argumento, retornam um resultado, mas não efetuam alterações na sua estrutura. \n",
        "\n",
        "Os métodos pertencentes as sequências, nos permitem incluir ou remover elementos, bem como classificar as sequência.\n",
        "\n",
        "\n",
        "### 3.7.1 ```append()```\n",
        "\n",
        "O primeiro método a ser analisado é o ```append()```, que tem por objetivo adicionar um novo elemento no final da sequência, conforme mostra o código abaixo:"
      ]
    },
    {
      "cell_type": "code",
      "metadata": {
        "colab": {
          "base_uri": "https://localhost:8080/"
        },
        "id": "BdZbv_eAX5tZ",
        "outputId": "38c72cf6-7aa4-4851-c09a-878b22b4653d"
      },
      "source": [
        "lista.append('rosa')\n",
        "lista"
      ],
      "execution_count": null,
      "outputs": [
        {
          "output_type": "execute_result",
          "data": {
            "text/plain": [
              "['vermelho', 'cinza', 'verde', 'rosa']"
            ]
          },
          "metadata": {
            "tags": []
          },
          "execution_count": 169
        }
      ]
    },
    {
      "cell_type": "markdown",
      "metadata": {
        "id": "tZno_fw7X5tZ"
      },
      "source": [
        "### 3.7.2 ```insert()```\n",
        "\n",
        "Outra forma de adicionarmos elementos em uma sequência, é através do método ```insert()```. \n",
        "\n",
        "Ele usa dois parâmetros: \n",
        "* o primeiro para indicar a posição da sequência em que o elemento será inserido\n",
        "* o segundo para informar o elemento a ser adicionado na sequência."
      ]
    },
    {
      "cell_type": "code",
      "metadata": {
        "colab": {
          "base_uri": "https://localhost:8080/"
        },
        "id": "G0H72UP_X5tZ",
        "outputId": "a2ffdab6-23e4-4a50-c407-8be7fd16a4ee"
      },
      "source": [
        "lista.insert(2, 'marrom')\n",
        "lista"
      ],
      "execution_count": null,
      "outputs": [
        {
          "output_type": "execute_result",
          "data": {
            "text/plain": [
              "['vermelho', 'cinza', 'marrom', 'verde', 'rosa']"
            ]
          },
          "metadata": {
            "tags": []
          },
          "execution_count": 170
        }
      ]
    },
    {
      "cell_type": "markdown",
      "metadata": {
        "id": "FvmKIlXrX5ta"
      },
      "source": [
        "### 3.7.3 ```pop()```\n",
        "\n",
        "Remove o último item da sequência e o retorna como resultado da operação. Também podemos escolher o índice do elemento que queremos remover."
      ]
    },
    {
      "cell_type": "code",
      "metadata": {
        "colab": {
          "base_uri": "https://localhost:8080/"
        },
        "id": "gi_TVsDNX5ta",
        "outputId": "0c07be3b-fee4-4a3e-aba5-3b82384ea0c0"
      },
      "source": [
        "lista.pop() # remove o último item\n",
        "lista"
      ],
      "execution_count": null,
      "outputs": [
        {
          "output_type": "execute_result",
          "data": {
            "text/plain": [
              "['vermelho', 'cinza', 'marrom', 'verde']"
            ]
          },
          "metadata": {
            "tags": []
          },
          "execution_count": 171
        }
      ]
    },
    {
      "cell_type": "markdown",
      "metadata": {
        "id": "p6x6Uic1X5ta"
      },
      "source": [
        "### 3.7.4 ```remove()```\n",
        "\n",
        "O método ```remove()``` remove a primeira ocorrência do elemento passado como parâmetro."
      ]
    },
    {
      "cell_type": "code",
      "metadata": {
        "colab": {
          "base_uri": "https://localhost:8080/"
        },
        "id": "FVV62ssZX5ta",
        "outputId": "5fc10d22-3504-42f6-e183-5844405227be"
      },
      "source": [
        "lista.remove('cinza')\n",
        "lista"
      ],
      "execution_count": null,
      "outputs": [
        {
          "output_type": "execute_result",
          "data": {
            "text/plain": [
              "['vermelho', 'marrom', 'verde']"
            ]
          },
          "metadata": {
            "tags": []
          },
          "execution_count": 172
        }
      ]
    },
    {
      "cell_type": "markdown",
      "metadata": {
        "id": "wZG68gxcX5tb"
      },
      "source": [
        "### 3.7.5 ```extend()```\n",
        "\n",
        "Este método expande a sequência acrescentando no final."
      ]
    },
    {
      "cell_type": "code",
      "metadata": {
        "colab": {
          "base_uri": "https://localhost:8080/"
        },
        "id": "wEP3B-yjX5tb",
        "outputId": "461d69cd-270a-41c0-fbfb-ffa4498230d1"
      },
      "source": [
        "lista.extend(['rosa', 'roxo'])\n",
        "lista"
      ],
      "execution_count": null,
      "outputs": [
        {
          "output_type": "execute_result",
          "data": {
            "text/plain": [
              "['vermelho', 'marrom', 'verde', 'rosa', 'roxo']"
            ]
          },
          "metadata": {
            "tags": []
          },
          "execution_count": 173
        }
      ]
    },
    {
      "cell_type": "markdown",
      "metadata": {
        "id": "UKvDP0cVX5tb"
      },
      "source": [
        "### 3.7.6 ```reverse()```\n",
        "\n",
        "Inverte a posição dos elementos"
      ]
    },
    {
      "cell_type": "code",
      "metadata": {
        "colab": {
          "base_uri": "https://localhost:8080/"
        },
        "id": "_CIMBKq5X5tb",
        "outputId": "e2e5ca18-077d-4948-e8e6-4c41564ed4cf"
      },
      "source": [
        "outra_lista.reverse()\n",
        "outra_lista"
      ],
      "execution_count": null,
      "outputs": [
        {
          "output_type": "execute_result",
          "data": {
            "text/plain": [
              "['abacate', 'limão', 'melancia', 'maçã']"
            ]
          },
          "metadata": {
            "tags": []
          },
          "execution_count": 174
        }
      ]
    },
    {
      "cell_type": "markdown",
      "metadata": {
        "id": "tSBxZ1P0X5tc"
      },
      "source": [
        "### 3.7.7 ```sort()```\n",
        "\n",
        "O método ```sort``` ordena a sequência"
      ]
    },
    {
      "cell_type": "code",
      "metadata": {
        "colab": {
          "base_uri": "https://localhost:8080/"
        },
        "id": "-DY4ClyLX5td",
        "outputId": "ccb93399-b976-48b6-b8f3-3c4a49f98dc2"
      },
      "source": [
        "outra_lista.sort() # modifica o objeto\n",
        "outra_lista"
      ],
      "execution_count": null,
      "outputs": [
        {
          "output_type": "execute_result",
          "data": {
            "text/plain": [
              "['abacate', 'limão', 'maçã', 'melancia']"
            ]
          },
          "metadata": {
            "tags": []
          },
          "execution_count": 175
        }
      ]
    },
    {
      "cell_type": "markdown",
      "metadata": {
        "id": "sBq8S1_nX5td"
      },
      "source": [
        "### 3.7.8 ```count()```\n",
        "\n",
        "Retorna o número de ocorrências de determinado objeto, passado como parâmetro, em uma sequência."
      ]
    },
    {
      "cell_type": "code",
      "metadata": {
        "colab": {
          "base_uri": "https://localhost:8080/"
        },
        "id": "tNS4SIvPX5td",
        "outputId": "5885f0e3-c38f-4ce7-9c55-d9bd0446dd87"
      },
      "source": [
        "outra_lista.count('branco')"
      ],
      "execution_count": null,
      "outputs": [
        {
          "output_type": "execute_result",
          "data": {
            "text/plain": [
              "0"
            ]
          },
          "metadata": {
            "tags": []
          },
          "execution_count": 176
        }
      ]
    },
    {
      "cell_type": "markdown",
      "metadata": {
        "id": "W-dXQMQhX5td"
      },
      "source": [
        "## 3.8 Tipos de Sequências: Funções\n",
        "\n",
        "\n",
        "O Python conta com funções úteis quando se trabalha com sequências. Vejamos algumas delas:\n",
        "\n",
        "## 3.8.1 ```min()``` e ```max()```\n",
        "\n",
        "A função ```min()``` retorna o menor valor de uma sequência, e ```max()``` o maior valor. Caso a sequência contenha ```strings```, as funçõs trabalham com comparações alfabéticas."
      ]
    },
    {
      "cell_type": "code",
      "metadata": {
        "colab": {
          "base_uri": "https://localhost:8080/"
        },
        "id": "eXZi3eBdX5te",
        "outputId": "64de38ff-1dc1-4728-e912-a248b6e9c869"
      },
      "source": [
        "numeros = [15, 5, 0, 20, 10]\n",
        "nomes = ['Caio', 'Alex', 'Renata', 'Patrícia', 'Bruno']\n",
        "\n",
        "print(min(numeros))\n",
        "print(max(numeros))\n",
        "print(min(nomes))\n",
        "print(max(nomes))"
      ],
      "execution_count": null,
      "outputs": [
        {
          "output_type": "stream",
          "text": [
            "0\n",
            "20\n",
            "Alex\n",
            "Renata\n"
          ],
          "name": "stdout"
        }
      ]
    },
    {
      "cell_type": "markdown",
      "metadata": {
        "id": "A62pnBrLX5tf"
      },
      "source": [
        "## 3.8.2 ```sum()```\n",
        "\n",
        "Retorna a soma de todos os elementos da sequência. "
      ]
    },
    {
      "cell_type": "code",
      "metadata": {
        "colab": {
          "base_uri": "https://localhost:8080/"
        },
        "id": "jcGqYki_X5tf",
        "outputId": "7443ad80-cb9f-4edd-f047-f849acf22fc5"
      },
      "source": [
        "print(sum(numeros))"
      ],
      "execution_count": null,
      "outputs": [
        {
          "output_type": "stream",
          "text": [
            "50\n"
          ],
          "name": "stdout"
        }
      ]
    },
    {
      "cell_type": "markdown",
      "metadata": {
        "id": "l-JbISRYfmNN"
      },
      "source": [
        "Essa função não trabalha com ```strings```, pois não é tipo suportado por ela.\n",
        "\n",
        "```python\n",
        "print(sum(nomes))\n",
        "```\n",
        "\n",
        "```python\n",
        "---------------------------------------------------------------------------\n",
        "TypeError                                 Traceback (most recent call last)\n",
        "<ipython-input-107-401149b906ef> in <module>()\n",
        "----> 1 print(sum(nomes))\n",
        "\n",
        "TypeError: unsupported operand type(s) for +: 'int' and 'str'\n",
        "```\n"
      ]
    },
    {
      "cell_type": "markdown",
      "metadata": {
        "id": "qhdDOMcvX5tf"
      },
      "source": [
        "## 3.8.3 ```len()```\n",
        "\n",
        "A função ```len()``` é bastante usada em Python para retornar o tamanho de um objeto. \n",
        "Quando usada com sequências, retorna o total de elementos que a coleção possui."
      ]
    },
    {
      "cell_type": "code",
      "metadata": {
        "colab": {
          "base_uri": "https://localhost:8080/"
        },
        "id": "KxwfhXVrX5tg",
        "outputId": "fd20e4a7-061a-41c5-b555-19a68bf5deeb"
      },
      "source": [
        "paises = ['Argentina', 'Brasil', 'Colômbia', 'Uruguai']\n",
        "\n",
        "print(len(paises))"
      ],
      "execution_count": null,
      "outputs": [
        {
          "output_type": "stream",
          "text": [
            "4\n"
          ],
          "name": "stdout"
        }
      ]
    },
    {
      "cell_type": "markdown",
      "metadata": {
        "id": "KXo6Lg_zX5tg"
      },
      "source": [
        "Essa função é de grande utilidade, pois pode ser usada em diversas situações, como nas estruturas condicionais e em laços de repetição por exemplo."
      ]
    },
    {
      "cell_type": "markdown",
      "metadata": {
        "id": "zRgiDBnLX5tg"
      },
      "source": [
        "## 3.8.4 ```type()```\n",
        "\n",
        "Com a função ```type()``` podemos obter o tipo do objeto passado no parâmetro."
      ]
    },
    {
      "cell_type": "code",
      "metadata": {
        "colab": {
          "base_uri": "https://localhost:8080/"
        },
        "id": "vaLpgicrX5tg",
        "outputId": "a6ae8cb4-0264-4d5f-c8df-5e1af4ccbd45"
      },
      "source": [
        "professores = ['Carla', 'Daniel', 'Ingrid', 'Roberto']\n",
        "estacoes = ('Primavera', 'Verão', 'Outono', 'Inverno')\n",
        "cliente = {\n",
        "    'Nome': 'Fábio Garcia',\n",
        "    'email' : 'fabio_garcia_9@outlook.com'\n",
        "}\n",
        "\n",
        "print(type(professores)) # list\n",
        "print(type(estacoes)) # tuple\n",
        "print(type(cliente)) # dict"
      ],
      "execution_count": null,
      "outputs": [
        {
          "output_type": "stream",
          "text": [
            "<class 'list'>\n",
            "<class 'tuple'>\n",
            "<class 'dict'>\n"
          ],
          "name": "stdout"
        }
      ]
    },
    {
      "cell_type": "markdown",
      "metadata": {
        "id": "dI1l5Q1QX5tg"
      },
      "source": [
        "## 3.9 Métodos de strings comuns\n",
        "\n",
        "### Checagem\n",
        "\n",
        "* ```endswith```, ```startswith```"
      ]
    },
    {
      "cell_type": "code",
      "metadata": {
        "colab": {
          "base_uri": "https://localhost:8080/"
        },
        "id": "r6TgCkp8X5th",
        "outputId": "cf575e90-9b36-4c90-a6ca-a1a71c97b4dd"
      },
      "source": [
        "'hello world'.startswith('he')"
      ],
      "execution_count": null,
      "outputs": [
        {
          "output_type": "execute_result",
          "data": {
            "text/plain": [
              "True"
            ]
          },
          "metadata": {
            "tags": []
          },
          "execution_count": 181
        }
      ]
    },
    {
      "cell_type": "markdown",
      "metadata": {
        "id": "L41vFnAlX5th"
      },
      "source": [
        "* ```isalnum```, ```isalpha```, ```isdigit```, ```islower```, ```isupper```, ```isspace```"
      ]
    },
    {
      "cell_type": "code",
      "metadata": {
        "colab": {
          "base_uri": "https://localhost:8080/"
        },
        "id": "r06UDl23X5th",
        "outputId": "5e7e538d-eedb-4764-bbb6-7e777472ccfc"
      },
      "source": [
        "'123'.isdigit()"
      ],
      "execution_count": null,
      "outputs": [
        {
          "output_type": "execute_result",
          "data": {
            "text/plain": [
              "True"
            ]
          },
          "metadata": {
            "tags": []
          },
          "execution_count": 182
        }
      ]
    },
    {
      "cell_type": "code",
      "metadata": {
        "colab": {
          "base_uri": "https://localhost:8080/"
        },
        "id": "cRh__g9OX5th",
        "outputId": "09ac082d-bcfa-46ce-b81c-37afa56ea2db"
      },
      "source": [
        "'Hello World'.islower()"
      ],
      "execution_count": null,
      "outputs": [
        {
          "output_type": "execute_result",
          "data": {
            "text/plain": [
              "False"
            ]
          },
          "metadata": {
            "tags": []
          },
          "execution_count": 183
        }
      ]
    },
    {
      "cell_type": "markdown",
      "metadata": {
        "id": "Yl-7e5rwX5ti"
      },
      "source": [
        "### Pesquisas\n",
        "\n",
        "* ```count```"
      ]
    },
    {
      "cell_type": "code",
      "metadata": {
        "colab": {
          "base_uri": "https://localhost:8080/"
        },
        "id": "4MttTxpuX5ti",
        "outputId": "686d8897-30e6-4b20-ded1-18344f33bbb3"
      },
      "source": [
        "'hello world'.count('l')"
      ],
      "execution_count": null,
      "outputs": [
        {
          "output_type": "execute_result",
          "data": {
            "text/plain": [
              "3"
            ]
          },
          "metadata": {
            "tags": []
          },
          "execution_count": 184
        }
      ]
    },
    {
      "cell_type": "markdown",
      "metadata": {
        "id": "wj-GjvjLX5ti"
      },
      "source": [
        "* ```find```"
      ]
    },
    {
      "cell_type": "code",
      "metadata": {
        "colab": {
          "base_uri": "https://localhost:8080/"
        },
        "id": "YH9F1a2WX5ti",
        "outputId": "6608b446-c9e4-49a4-9cc5-4487f0f7c301"
      },
      "source": [
        "'hello world'.find('l')"
      ],
      "execution_count": null,
      "outputs": [
        {
          "output_type": "execute_result",
          "data": {
            "text/plain": [
              "2"
            ]
          },
          "metadata": {
            "tags": []
          },
          "execution_count": 185
        }
      ]
    },
    {
      "cell_type": "code",
      "metadata": {
        "colab": {
          "base_uri": "https://localhost:8080/"
        },
        "id": "CdEdvvOKX5ti",
        "outputId": "887a3fd1-6906-44d7-dc58-9c139ceaa9e2"
      },
      "source": [
        "'hello world'.find('t')"
      ],
      "execution_count": null,
      "outputs": [
        {
          "output_type": "execute_result",
          "data": {
            "text/plain": [
              "-1"
            ]
          },
          "metadata": {
            "tags": []
          },
          "execution_count": 186
        }
      ]
    },
    {
      "cell_type": "markdown",
      "metadata": {
        "id": "hZssl3gMX5ti"
      },
      "source": [
        "### Manipulações\n",
        "\n",
        "Esteja atento, porque ```str``` é um tipo imutável. Todos os métodos abaixo retornam uma nova ```string```."
      ]
    },
    {
      "cell_type": "markdown",
      "metadata": {
        "id": "pe-CfL2ZX5tj"
      },
      "source": [
        "* ```lower```, ```upper``` , ```title``` , ```capitalize``` , ```swapcase```"
      ]
    },
    {
      "cell_type": "code",
      "metadata": {
        "colab": {
          "base_uri": "https://localhost:8080/",
          "height": 35
        },
        "id": "0sVdDp21X5tj",
        "outputId": "e7c5c54d-a621-405f-f7cb-e45abf5bcbce"
      },
      "source": [
        "'hello world'.title()"
      ],
      "execution_count": null,
      "outputs": [
        {
          "output_type": "execute_result",
          "data": {
            "application/vnd.google.colaboratory.intrinsic+json": {
              "type": "string"
            },
            "text/plain": [
              "'Hello World'"
            ]
          },
          "metadata": {
            "tags": []
          },
          "execution_count": 187
        }
      ]
    },
    {
      "cell_type": "code",
      "metadata": {
        "colab": {
          "base_uri": "https://localhost:8080/",
          "height": 35
        },
        "id": "j-gnZaljX5tj",
        "outputId": "f2826373-898e-48d6-998e-992911e24526"
      },
      "source": [
        "'hello world'.capitalize()"
      ],
      "execution_count": null,
      "outputs": [
        {
          "output_type": "execute_result",
          "data": {
            "application/vnd.google.colaboratory.intrinsic+json": {
              "type": "string"
            },
            "text/plain": [
              "'Hello world'"
            ]
          },
          "metadata": {
            "tags": []
          },
          "execution_count": 188
        }
      ]
    },
    {
      "cell_type": "markdown",
      "metadata": {
        "id": "ay8EeNJzX5tj"
      },
      "source": [
        "* ```replace```"
      ]
    },
    {
      "cell_type": "code",
      "metadata": {
        "colab": {
          "base_uri": "https://localhost:8080/",
          "height": 35
        },
        "id": "Gi2Ug2a_X5tj",
        "outputId": "87a38461-e30d-4a42-f8ff-113e24c788cd"
      },
      "source": [
        "'hello world'.replace('world', 'john')"
      ],
      "execution_count": null,
      "outputs": [
        {
          "output_type": "execute_result",
          "data": {
            "application/vnd.google.colaboratory.intrinsic+json": {
              "type": "string"
            },
            "text/plain": [
              "'hello john'"
            ]
          },
          "metadata": {
            "tags": []
          },
          "execution_count": 189
        }
      ]
    },
    {
      "cell_type": "markdown",
      "metadata": {
        "id": "7IoFkCFXX5tj"
      },
      "source": [
        "* ```strip```, ```rstrip```, ```lstrip``` - remove espaços e nova linha no fim da ```string```:"
      ]
    },
    {
      "cell_type": "code",
      "metadata": {
        "colab": {
          "base_uri": "https://localhost:8080/",
          "height": 35
        },
        "id": "wu5Zc-X5X5tk",
        "outputId": "5d924aba-1f9e-4444-d9c2-30cfe3f207c2"
      },
      "source": [
        "'     hello!    \\n'.strip()"
      ],
      "execution_count": null,
      "outputs": [
        {
          "output_type": "execute_result",
          "data": {
            "application/vnd.google.colaboratory.intrinsic+json": {
              "type": "string"
            },
            "text/plain": [
              "'hello!'"
            ]
          },
          "metadata": {
            "tags": []
          },
          "execution_count": 190
        }
      ]
    },
    {
      "cell_type": "markdown",
      "metadata": {
        "id": "Ff4ww981X5tk"
      },
      "source": [
        "## Substituição na string"
      ]
    },
    {
      "cell_type": "code",
      "metadata": {
        "colab": {
          "base_uri": "https://localhost:8080/",
          "height": 35
        },
        "id": "YQ_2Ip6OX5tk",
        "outputId": "76633d12-b880-4f64-e72a-e4e68423a641"
      },
      "source": [
        "'Um inteiro: %i; um float: %f; outra string: %s' % (1, 0.1, 'string')\n",
        "i = 102\n",
        "filename = 'processing_of_dataset_%d.txt' % i\n",
        "filename"
      ],
      "execution_count": null,
      "outputs": [
        {
          "output_type": "execute_result",
          "data": {
            "application/vnd.google.colaboratory.intrinsic+json": {
              "type": "string"
            },
            "text/plain": [
              "'processing_of_dataset_102.txt'"
            ]
          },
          "metadata": {
            "tags": []
          },
          "execution_count": 191
        }
      ]
    },
    {
      "cell_type": "markdown",
      "metadata": {
        "id": "SKQYpKXQX5tk"
      },
      "source": [
        "## 3.8 Mais um tipo de dados: dicionários\n",
        "\n",
        "* Dicionários são containers que armazenam um **mapeamento** entre um conjunto de ```_chaves_``` (keys) e um conjunto de ```_valores_```\n",
        "   * Chaves podem ser qualquer tipo **imutável**.\n",
        "   * Valores podem ser qualquer tipo.\n",
        "   * Um único dicionário pode guardar valores de tipos diferentes.\n",
        "   \n",
        "   \n",
        "* O usuário pode modificar, ver, procurar e deletar o par chave-valor no dicionário."
      ]
    },
    {
      "cell_type": "markdown",
      "metadata": {
        "id": "CkSBPWhsX5tk"
      },
      "source": [
        "### 3.8.1 Exemplos de dicionários\n"
      ]
    },
    {
      "cell_type": "code",
      "metadata": {
        "colab": {
          "base_uri": "https://localhost:8080/",
          "height": 35
        },
        "id": "q4J9ukp4X5tk",
        "outputId": "442415a8-5c8d-482f-c5d1-37b2aa36fa52"
      },
      "source": [
        "dicio = {'user': 'bozo', 'pwd': 1234}          # criação de um dicionário\n",
        "dicio['user']"
      ],
      "execution_count": null,
      "outputs": [
        {
          "output_type": "execute_result",
          "data": {
            "application/vnd.google.colaboratory.intrinsic+json": {
              "type": "string"
            },
            "text/plain": [
              "'bozo'"
            ]
          },
          "metadata": {
            "tags": []
          },
          "execution_count": 192
        }
      ]
    },
    {
      "cell_type": "code",
      "metadata": {
        "colab": {
          "base_uri": "https://localhost:8080/"
        },
        "id": "ZkIxY6R2X5tl",
        "outputId": "7e217adc-433b-4263-be07-3b08c4f7880b"
      },
      "source": [
        "dicio['pwd']"
      ],
      "execution_count": null,
      "outputs": [
        {
          "output_type": "execute_result",
          "data": {
            "text/plain": [
              "1234"
            ]
          },
          "metadata": {
            "tags": []
          },
          "execution_count": 193
        }
      ]
    },
    {
      "cell_type": "markdown",
      "metadata": {
        "id": "f1U0RiJkgLIy"
      },
      "source": [
        "Acessando elementos que não estão no dicionário \n",
        "\n",
        "```python\n",
        "dicio['bozo']\n",
        "```\n",
        "\n",
        "```python\n",
        "---------------------------------------------------------------------------\n",
        "KeyError                                  Traceback (most recent call last)\n",
        "<ipython-input-194-9ccf1a9ebe8a> in <module>()\n",
        "----> 1 dicio['bozo']\n",
        "\n",
        "KeyError: 'bozo'\n",
        "```"
      ]
    },
    {
      "cell_type": "code",
      "metadata": {
        "colab": {
          "base_uri": "https://localhost:8080/"
        },
        "id": "iSkrd3sVX5tl",
        "outputId": "152438b9-6d2c-467e-ab53-207d2dff0831"
      },
      "source": [
        "print (dicio)"
      ],
      "execution_count": null,
      "outputs": [
        {
          "output_type": "stream",
          "text": [
            "{'user': 'bozo', 'pwd': 1234}\n"
          ],
          "name": "stdout"
        }
      ]
    },
    {
      "cell_type": "code",
      "metadata": {
        "colab": {
          "base_uri": "https://localhost:8080/"
        },
        "id": "oiFkmQztX5tl",
        "outputId": "51b9c715-d8b8-4d9b-df13-e989b11a9168"
      },
      "source": [
        "dicio['user'] = 'clown'\n",
        "dicio"
      ],
      "execution_count": null,
      "outputs": [
        {
          "output_type": "execute_result",
          "data": {
            "text/plain": [
              "{'pwd': 1234, 'user': 'clown'}"
            ]
          },
          "metadata": {
            "tags": []
          },
          "execution_count": 197
        }
      ]
    },
    {
      "cell_type": "code",
      "metadata": {
        "colab": {
          "base_uri": "https://localhost:8080/"
        },
        "id": "0ZGl4IGKX5tl",
        "outputId": "ce66e2f3-7246-4da9-f591-5a5de2a8c18c"
      },
      "source": [
        "dicio['id'] = 45\n",
        "dicio"
      ],
      "execution_count": null,
      "outputs": [
        {
          "output_type": "execute_result",
          "data": {
            "text/plain": [
              "{'id': 45, 'pwd': 1234, 'user': 'clown'}"
            ]
          },
          "metadata": {
            "tags": []
          },
          "execution_count": 198
        }
      ]
    },
    {
      "cell_type": "code",
      "metadata": {
        "colab": {
          "base_uri": "https://localhost:8080/"
        },
        "id": "puXFwKXEX5tm",
        "outputId": "9ab72732-70c1-4072-c4b3-c54a96cd1800"
      },
      "source": [
        "dicio.clear()               # remover todos os ítens do dicionário\n",
        "dicio"
      ],
      "execution_count": null,
      "outputs": [
        {
          "output_type": "execute_result",
          "data": {
            "text/plain": [
              "{}"
            ]
          },
          "metadata": {
            "tags": []
          },
          "execution_count": 199
        }
      ]
    },
    {
      "cell_type": "code",
      "metadata": {
        "colab": {
          "base_uri": "https://localhost:8080/"
        },
        "id": "tnTDT-2uX5tm",
        "outputId": "60fd41f6-4269-4865-a735-86cdd57cd27a"
      },
      "source": [
        "dicio = {'user': {'bozo': 0}, 'p': 1234, 'i': 34}\n",
        "dicio.keys() "
      ],
      "execution_count": null,
      "outputs": [
        {
          "output_type": "execute_result",
          "data": {
            "text/plain": [
              "dict_keys(['user', 'p', 'i'])"
            ]
          },
          "metadata": {
            "tags": []
          },
          "execution_count": 200
        }
      ]
    },
    {
      "cell_type": "code",
      "metadata": {
        "colab": {
          "base_uri": "https://localhost:8080/"
        },
        "id": "9Ra9BaakX5tm",
        "outputId": "880107ee-510c-4bce-f64d-b70b8403c5ce"
      },
      "source": [
        "dicio.values() "
      ],
      "execution_count": null,
      "outputs": [
        {
          "output_type": "execute_result",
          "data": {
            "text/plain": [
              "dict_values([{'bozo': 0}, 1234, 34])"
            ]
          },
          "metadata": {
            "tags": []
          },
          "execution_count": 201
        }
      ]
    },
    {
      "cell_type": "code",
      "metadata": {
        "colab": {
          "base_uri": "https://localhost:8080/"
        },
        "id": "t1QrxVaoX5tm",
        "outputId": "ee6a893f-b336-41f1-d90d-7a54154064fe"
      },
      "source": [
        "dicio.items()"
      ],
      "execution_count": null,
      "outputs": [
        {
          "output_type": "execute_result",
          "data": {
            "text/plain": [
              "dict_items([('user', {'bozo': 0}), ('p', 1234), ('i', 34)])"
            ]
          },
          "metadata": {
            "tags": []
          },
          "execution_count": 202
        }
      ]
    },
    {
      "cell_type": "markdown",
      "metadata": {
        "id": "ccMBKNowX5tn"
      },
      "source": [
        "## 3.9 Operador de Atribuição\n",
        "\n",
        "\n",
        "A biblioteca de referência do Python diz o seguinte:\n",
        "\n",
        "> Instruções de atribuição são utilizadas para ligar (religar) nomes a valores e para modificar os atributos ou elementos de objetos mutáveis"
      ]
    },
    {
      "cell_type": "markdown",
      "metadata": {
        "id": "86ni5BgeX5tn"
      },
      "source": [
        "Basicamente, isso funciona da seguinte maneira (atribuição simples):\n",
        "\n",
        "* Uma expressão no lado direito é avaliada, o objeto correspondente é criado ou obtido;\n",
        "* Um nome, no lado esquerdo é atribuído, ou ligado, para o objeto do lado direito.\n",
        "\n",
        "Observação:\n",
        "\n",
        "Um simples objeto pode ter diversos nomes conectados a ele, execute os códigos abaixo e preste atenção no resultado:"
      ]
    },
    {
      "cell_type": "code",
      "metadata": {
        "colab": {
          "base_uri": "https://localhost:8080/"
        },
        "id": "fdI3OciIX5tn",
        "outputId": "059248c9-ca28-4789-91ed-82447306d62c"
      },
      "source": [
        "a = [1, 2, 3]\n",
        "b = a\n",
        "a\n",
        "b\n",
        "a is b\n",
        "b[1] = 'oi!'\n",
        "a"
      ],
      "execution_count": null,
      "outputs": [
        {
          "output_type": "execute_result",
          "data": {
            "text/plain": [
              "[1, 'oi!', 3]"
            ]
          },
          "metadata": {
            "tags": []
          },
          "execution_count": 203
        }
      ]
    },
    {
      "cell_type": "markdown",
      "metadata": {
        "id": "VWXeWhQNX5tn"
      },
      "source": [
        "Notem que para mudar uma lista na lista, utilize o índice ou o corte:"
      ]
    },
    {
      "cell_type": "code",
      "metadata": {
        "colab": {
          "base_uri": "https://localhost:8080/"
        },
        "id": "Xfxg8PA3X5tn",
        "outputId": "d82072cd-e741-46e5-9b87-f56cbe14e90e"
      },
      "source": [
        "a = [1, 2, 3]\n",
        "print(a)\n",
        "a = ['a', 'b', 'c'] # Cria outro objeto\n",
        "print(a)\n",
        "print(id(a))\n",
        "a[:] = [1, 2, 3] # Modifica o objeto\n",
        "print(a)\n",
        "print(id(a))"
      ],
      "execution_count": null,
      "outputs": [
        {
          "output_type": "stream",
          "text": [
            "[1, 2, 3]\n",
            "['a', 'b', 'c']\n",
            "140544294132784\n",
            "[1, 2, 3]\n",
            "140544294132784\n"
          ],
          "name": "stdout"
        }
      ]
    },
    {
      "cell_type": "markdown",
      "metadata": {
        "id": "Fo6VT7B1X5to"
      },
      "source": [
        "Observe que mesmo sendo diferentes o primeiro a do segundo, eles possuem a mesma identificação.\n",
        "\n",
        "O conceito chave aqui é mutável x imutável:\n",
        "\n",
        "* Objetos mutáveis podem ser modificados;\n",
        "* Objetos imutáveis não podem mais ser modificados após serem criados."
      ]
    },
    {
      "cell_type": "markdown",
      "metadata": {
        "id": "X9Uh0wRXX5to"
      },
      "source": [
        "<p id=\"nav-felt\" style=\"possition:relative; width:50%; float:left;\"><a href=\"2-tipos-dados_python.ipynb\">&lt;&lt; Anterior: 2. Tipos de dados</a></p>\n",
        "<p id=\"nav-right\" style=\"possition:relative; width:45%; float:left; text-align:right;\"><a href=\"4-fluxo-execucao_python.ipynb\">Próximo: 4. Fluxo de execução  &gt;&gt;</a></p>"
      ]
    },
    {
      "cell_type": "code",
      "metadata": {
        "id": "CXgXWow-X5to"
      },
      "source": [
        ""
      ],
      "execution_count": null,
      "outputs": []
    }
  ]
}