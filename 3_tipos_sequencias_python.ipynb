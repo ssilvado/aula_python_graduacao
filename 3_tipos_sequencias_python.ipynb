{
  "nbformat": 4,
  "nbformat_minor": 0,
  "metadata": {
    "interpreter": {
      "hash": "335436fdd3b76d4f3727a636fd436c7d3c5aef570f332174c0978c1012c03da9"
    },
    "kernelspec": {
      "display_name": "Python 3",
      "language": "python",
      "name": "python3"
    },
    "language_info": {
      "codemirror_mode": {
        "name": "ipython",
        "version": 3
      },
      "file_extension": ".py",
      "mimetype": "text/x-python",
      "name": "python",
      "nbconvert_exporter": "python",
      "pygments_lexer": "ipython3",
      "version": "3.7.2"
    },
    "colab": {
      "name": "3-tipos-sequencias_python.ipynb",
      "provenance": [],
      "include_colab_link": true
    }
  },
  "cells": [
    {
      "cell_type": "markdown",
      "metadata": {
        "id": "view-in-github",
        "colab_type": "text"
      },
      "source": [
        "<a href=\"https://colab.research.google.com/github/ssilvado/aula_python_graduacao/blob/main/3_tipos_sequencias_python.ipynb\" target=\"_parent\"><img src=\"https://colab.research.google.com/assets/colab-badge.svg\" alt=\"Open In Colab\"/></a>"
      ]
    },
    {
      "cell_type": "markdown",
      "metadata": {
        "id": "7czNcwmOUeoo"
      },
      "source": [
        "# 3. Sequências em Python\n",
        "\n",
        "As sequências no Python, que são recursos para agrupar dados. Elas nos permitem armazenar \n",
        "múltiplos itens dentro de uma única unidade, que funciona como um container.\n",
        "\n",
        "* <font color=red> Lista </font>\n",
        "   * Mutável, uma sequência ordenada de tipos mistos\n",
        "   \n",
        "\n",
        "* <font color=red> Strings </font>\n",
        "   * Imutável\n",
        "   * conceitualmente muito parecida com uma Tupla\n",
        "   \n",
        "\n",
        "* <font color=red> Tupla </font>  \n",
        "   * Uma sequência simples e imutável de ítens.\n",
        "   * Ítens podem ser de tipos mistos, incluindo sequências de tipos \n",
        "   \n",
        "   \n",
        "* Todos os três tipos de sequência compartilham bastante da mesma sintaxe e funcionalidade\n",
        "\n",
        "\n",
        "* Diferenças mais importantes:\n",
        "   * tuplas e strings são imutáveis\n",
        "   * listas são mutáveis\n",
        "\n",
        "\n",
        "* Os exemplos que mostraremos podem ser aplicados a todos os tipos de sequência\n",
        "\n"
      ]
    },
    {
      "cell_type": "markdown",
      "metadata": {
        "id": "VM3z32E5Ueos"
      },
      "source": [
        "## 3.1 Tipos de Sequências: Definições\n",
        "\n",
        "\n",
        "* Listas são definidas usando colchete (e vírgulas)."
      ]
    },
    {
      "cell_type": "code",
      "metadata": {
        "id": "UdbmVcQIUeot",
        "outputId": "4b664e50-315a-4c69-8e44-32d45631450e"
      },
      "source": [
        "lista = ['abc', 34, 3.1415, 23]"
      ],
      "execution_count": null,
      "outputs": [
        {
          "output_type": "execute_result",
          "data": {
            "text/plain": [
              "list"
            ]
          },
          "metadata": {
            "tags": []
          },
          "execution_count": 19
        }
      ]
    },
    {
      "cell_type": "markdown",
      "metadata": {
        "id": "vZy2FpM5Ueov"
      },
      "source": [
        "* Tuplas são definidas usando parênteses (e vírgulas)."
      ]
    },
    {
      "cell_type": "code",
      "metadata": {
        "id": "Rtrw-1MJUeow"
      },
      "source": [
        "tupla = (3, 'abc', 4.56, (2, 23), 'k')"
      ],
      "execution_count": null,
      "outputs": []
    },
    {
      "cell_type": "markdown",
      "metadata": {
        "id": "CDohAG7LUeow"
      },
      "source": [
        "* Strings são definidas usando aspas"
      ]
    },
    {
      "cell_type": "code",
      "metadata": {
        "id": "B8DBXNFRUeox"
      },
      "source": [
        "st = 'Hello'\n",
        "st = \"Hello\"\n",
        "st = \"\"\"Hello\"\"\""
      ],
      "execution_count": null,
      "outputs": []
    },
    {
      "cell_type": "markdown",
      "metadata": {
        "id": "cMRsz8BiUeoy"
      },
      "source": [
        "## 3.2 Tipos de Sequências: acessando membros\n",
        "\n",
        "\n",
        "* Membros individuais de uma **tupla**, **lista** ou **string** podem ser acessados usando uma notação de colchete.\n",
        "* Os tipos de sequências são todos baseados no 0 (zero), os índices são contados a partir do 0."
      ]
    },
    {
      "cell_type": "code",
      "metadata": {
        "id": "F-DlLHcMUeoz",
        "outputId": "7067d135-672c-48a9-b126-8673625beac6"
      },
      "source": [
        "tupla = (3, 'abc', 4.56, (2, 23), 'k')\n",
        "print (tupla[1])"
      ],
      "execution_count": null,
      "outputs": [
        {
          "output_type": "execute_result",
          "data": {
            "text/plain": [
              "5.7"
            ]
          },
          "metadata": {
            "tags": []
          },
          "execution_count": 17
        }
      ]
    },
    {
      "cell_type": "code",
      "metadata": {
        "id": "FyxIdkHLUeo0"
      },
      "source": [
        "lista = ['abc', 34, 3.1415, 23]\n",
        "print (lista[1])"
      ],
      "execution_count": null,
      "outputs": []
    },
    {
      "cell_type": "code",
      "metadata": {
        "id": "VxKQSUA2Ueo0"
      },
      "source": [
        "st = 'Hello'\n",
        "print (st[1])"
      ],
      "execution_count": null,
      "outputs": []
    },
    {
      "cell_type": "markdown",
      "metadata": {
        "id": "tg1tLJlyUeo1"
      },
      "source": [
        "## 3.3 Tipos de Sequências: índices negativos\n",
        "\n",
        "* índice positivo: contar da esquerda para a direita, começando do zero\n",
        "* índice negativo: contar da direita para a esquerda, começando do -1."
      ]
    },
    {
      "cell_type": "code",
      "metadata": {
        "id": "8Vll7lABUeo1"
      },
      "source": [
        "tupla = (3, 'abc', 4.56, (2, 23), 'k')\n",
        "print (tupla[1])"
      ],
      "execution_count": null,
      "outputs": []
    },
    {
      "cell_type": "code",
      "metadata": {
        "id": "b5AdbcIPUeo2"
      },
      "source": [
        "print (tupla[-1])"
      ],
      "execution_count": null,
      "outputs": []
    },
    {
      "cell_type": "markdown",
      "metadata": {
        "id": "HOHoCop0Ueo2"
      },
      "source": [
        "## 3.4 Tipos de Sequências: fatiamento (\"slicing\")\n",
        "\n",
        "\n",
        "* Você pode retornar uma cópia do container (lista, tupla, string, ...) com um sub-conjunto dos membros originais, usando uma notação de cólon (dois pontos).\n",
        "\n",
        "Note que tupla[inicio:fim] contém os elementos com índices i de forma que inicio <= i <= fim (i varia do inicio ao fim-1). Além disso, tupla[inicio:fim] contém (fim-inicio) elementos.\n",
        "\n",
        "> Sintaxe de corte:\n",
        "> tupla[inicio:fim:incremento] (o parâmetro incremento é opcional)"
      ]
    },
    {
      "cell_type": "code",
      "metadata": {
        "id": "IB4A7TkxUeo3"
      },
      "source": [
        "tupla = (3, 'abc', 4.56, (2, 23), 'k')\n",
        "print (tupla[1:4])"
      ],
      "execution_count": null,
      "outputs": []
    },
    {
      "cell_type": "code",
      "metadata": {
        "id": "uwWvJS6DUeo3"
      },
      "source": [
        "print (tupla[1:-1])"
      ],
      "execution_count": null,
      "outputs": []
    },
    {
      "cell_type": "markdown",
      "metadata": {
        "id": "5qx-20tXUeo3"
      },
      "source": [
        "## 3.5 Tuplas Vs. Listas\n",
        "\n",
        "* **Listas** são mais lentas, porém mais poderosas do que as **tuplas**\n",
        "   * As **listas** podem ser modificadas e têm várias operações úteis que podemos fazer com elas (```reverse```, ```sort```, ```count```, ```remove```, ```index```, ```insert```, ...)\n",
        "   * As **tuplas** são imutáveis e têm menos funcionalidades.\n",
        "   \n",
        "   \n",
        "* Podemos converter listas e tuplas com as funções ```_list()_``` e ```_tuple()_```"
      ]
    },
    {
      "cell_type": "code",
      "metadata": {
        "id": "JcmX1DCGUeo4"
      },
      "source": [
        "list(tupla)"
      ],
      "execution_count": null,
      "outputs": []
    },
    {
      "cell_type": "markdown",
      "metadata": {
        "id": "mOodXJxeUeo4"
      },
      "source": [
        "## 3.6 Tipos de Sequências: Operadores\n",
        "\n",
        "A linguagem Python dispõe de vários operadores para auxiliar na manipulação de listas. \n",
        "\n",
        "\n",
        "### 3.6.1  Alterar sequências\n",
        "\n",
        "Podemos alterar uma sequência, usando o operador de acesso aos seus elementos a partir dos índices e alteramos o valor dele para “gray”."
      ]
    },
    {
      "cell_type": "code",
      "metadata": {
        "id": "zweMJvU3Ueo4",
        "outputId": "57cea5eb-390a-48df-ef4d-ebb20ea302e2"
      },
      "source": [
        "lista = ['red', 'blue', 'green', 'black', 'white']\n",
        "lista[1] = 'gray'\n",
        "lista"
      ],
      "execution_count": null,
      "outputs": [
        {
          "output_type": "execute_result",
          "data": {
            "text/plain": [
              "['red', 'gray', 'green', 'black', 'white']"
            ]
          },
          "metadata": {
            "tags": []
          },
          "execution_count": 38
        }
      ]
    },
    {
      "cell_type": "markdown",
      "metadata": {
        "id": "rhaPYr9uUeo5"
      },
      "source": [
        "Também podemos remover um item usando o operador de acesso e inverter a posição dos itens."
      ]
    },
    {
      "cell_type": "code",
      "metadata": {
        "id": "7w2FKxPkUeo5"
      },
      "source": [
        "lista = lista[:-2] #remove os dois últimos\n",
        "lista"
      ],
      "execution_count": null,
      "outputs": []
    },
    {
      "cell_type": "code",
      "metadata": {
        "id": "8NM5J3mrUeo5"
      },
      "source": [
        "outra_lista = lista[::-1] \n",
        "outra_lista"
      ],
      "execution_count": null,
      "outputs": []
    },
    {
      "cell_type": "markdown",
      "metadata": {
        "id": "APXPJBltUeo6"
      },
      "source": [
        "### 3.6.2 Concatenar e repetir listas\n",
        "\n",
        "Também é possível concatenar listas por meio do operador de adição + e multiplicá-las por um inteiro, o que gerará várias cópias dos seus itens."
      ]
    },
    {
      "cell_type": "code",
      "metadata": {
        "id": "cx9jjsCpUeo6",
        "outputId": "e4974555-f3e4-4fc6-a84c-c528cf3c9d8b"
      },
      "source": [
        "outra_lista = ['maçã', 'melancia', 'limão', 'abacate']\n",
        "outra_lista + lista"
      ],
      "execution_count": null,
      "outputs": [
        {
          "output_type": "execute_result",
          "data": {
            "text/plain": [
              "['maçã',\n",
              " 'melancia',\n",
              " 'limão',\n",
              " 'abacate',\n",
              " 'red',\n",
              " 'gray',\n",
              " 'brown',\n",
              " 'green',\n",
              " 'black',\n",
              " 'white']"
            ]
          },
          "metadata": {
            "tags": []
          },
          "execution_count": 69
        }
      ]
    },
    {
      "cell_type": "code",
      "metadata": {
        "id": "pqS6V9AAUeo6"
      },
      "source": [
        "outra_lista * 2"
      ],
      "execution_count": null,
      "outputs": []
    },
    {
      "cell_type": "markdown",
      "metadata": {
        "id": "7w4dPo55Ueo6"
      },
      "source": [
        "### 3.6.3 Verificando a existência de itens em uma lista\n",
        "\n",
        "Em alguns casos é preciso verificar se um determinado valor está contido em uma lista. Para isso, em Python utilizamos o operador ```in```, \n",
        "que indicará ```True``` se objeto pertencer ao conjunto, e ```False``` caso contrário. "
      ]
    },
    {
      "cell_type": "code",
      "metadata": {
        "id": "-8MqTlKcUeo6"
      },
      "source": [
        "'white' in outra_lista"
      ],
      "execution_count": null,
      "outputs": []
    },
    {
      "cell_type": "code",
      "metadata": {
        "id": "t1YL9cQiUeo7"
      },
      "source": [
        "'batata' in outra_lista"
      ],
      "execution_count": null,
      "outputs": []
    },
    {
      "cell_type": "markdown",
      "metadata": {
        "id": "74uy30g7Ueo7"
      },
      "source": [
        "## 3.7 Tipos de Sequências: Métodos\n",
        "\n",
        "\n",
        "Os operadores e funções que recebem uma sequência como argumento, retornam um resultado, mas não efetuam alterações na sua estrutura. \n",
        "\n",
        "Os métodos pertencentes as sequência, e que nos permitem incluir ou remover elementos, bem como classificar as sequência.\n",
        "\n",
        "\n",
        "### 3.7.1 ```append()```\n",
        "\n",
        "O primeiro método a ser analisado é o ```append()```, que tem por objetivo adicionar um novo elemento no final da lista, conforme mostra o código abaixo:"
      ]
    },
    {
      "cell_type": "code",
      "metadata": {
        "id": "ieT9M2SEUeo7",
        "outputId": "181cbfa4-35c3-4947-fa6b-60986fd6a8bf"
      },
      "source": [
        "lista.append('pink')\n",
        "lista"
      ],
      "execution_count": null,
      "outputs": [
        {
          "output_type": "execute_result",
          "data": {
            "text/plain": [
              "['red', 'blue', 'green', 'black', 'white', 'pink']"
            ]
          },
          "metadata": {
            "tags": []
          },
          "execution_count": 31
        }
      ]
    },
    {
      "cell_type": "markdown",
      "metadata": {
        "id": "MUqG5xF4Ueo7"
      },
      "source": [
        "### 3.7.2 ```insert()```\n",
        "\n",
        "Outra forma de adicionarmos itens na lista, que é através do método ```insert()```. \n",
        "\n",
        "Ele usa dois parâmetros: \n",
        "    o primeiro para indicar a posição da lista em que o elemento será inserido e o segundo para informar o \n",
        "    item a ser adicionado na lista."
      ]
    },
    {
      "cell_type": "code",
      "metadata": {
        "id": "iF9XsXn-Ueo8",
        "outputId": "3260c520-370a-40ce-936c-34c2611a3120"
      },
      "source": [
        "lista.insert(2, 'brown')\n",
        "lista"
      ],
      "execution_count": null,
      "outputs": [
        {
          "output_type": "execute_result",
          "data": {
            "text/plain": [
              "['red', 'gray', 'brown', 'green', 'black', 'white']"
            ]
          },
          "metadata": {
            "tags": []
          },
          "execution_count": 39
        }
      ]
    },
    {
      "cell_type": "markdown",
      "metadata": {
        "id": "zyeswCOEUeo8"
      },
      "source": [
        "### 3.7.3 ```pop()```\n",
        "\n",
        "Remove o último item da lista e o retorna como resultado da operação. Também podemos escolher o índice do item que queremos remover."
      ]
    },
    {
      "cell_type": "code",
      "metadata": {
        "id": "Q125GcF-Ueo8",
        "outputId": "71023134-3577-4c8e-e044-0676558e6c5d"
      },
      "source": [
        "lista.pop() # remove o último item\n",
        "lista"
      ],
      "execution_count": null,
      "outputs": [
        {
          "output_type": "execute_result",
          "data": {
            "text/plain": [
              "['red', 'blue', 'green', 'black', 'white']"
            ]
          },
          "metadata": {
            "tags": []
          },
          "execution_count": 32
        }
      ]
    },
    {
      "cell_type": "markdown",
      "metadata": {
        "id": "LdGirFTRUeo9"
      },
      "source": [
        "### 3.7.4 ```remove()```\n",
        "\n",
        "O método ```remove()``` remove a primeira ocorrência do item passado como parâmetro."
      ]
    },
    {
      "cell_type": "code",
      "metadata": {
        "id": "kxbCHY6fUeo9"
      },
      "source": [
        "lista.remove('blue')\n",
        "lista"
      ],
      "execution_count": null,
      "outputs": []
    },
    {
      "cell_type": "markdown",
      "metadata": {
        "id": "TMy4MOgnUeo9"
      },
      "source": [
        "### 3.7.5 ```extend()```\n",
        "\n",
        "Este método expande a sequência acrescentando no final."
      ]
    },
    {
      "cell_type": "code",
      "metadata": {
        "id": "UjDYnHdvUeo9",
        "outputId": "dbcc56dd-1770-414f-d83a-34324b0096e6"
      },
      "source": [
        "lista.extend(['pink', 'purple'])\n",
        "lista"
      ],
      "execution_count": null,
      "outputs": [
        {
          "output_type": "execute_result",
          "data": {
            "text/plain": [
              "['red', 'blue', 'green', 'black', 'white', 'pink', 'purple']"
            ]
          },
          "metadata": {
            "tags": []
          },
          "execution_count": 33
        }
      ]
    },
    {
      "cell_type": "markdown",
      "metadata": {
        "id": "vZ7znpSeUeo9"
      },
      "source": [
        "### 3.7.6 ```reverse()```\n",
        "\n",
        "Inverte a posição dos itens"
      ]
    },
    {
      "cell_type": "code",
      "metadata": {
        "id": "-qUTc5wzUeo-",
        "outputId": "2d321de3-a7c1-474d-f37c-7032f1801b0b"
      },
      "source": [
        "outra_lista2.reverse()\n",
        "outra_lista2"
      ],
      "execution_count": null,
      "outputs": [
        {
          "output_type": "execute_result",
          "data": {
            "text/plain": [
              "['white', 'black', 'green', 'blue', 'red']"
            ]
          },
          "metadata": {
            "tags": []
          },
          "execution_count": 36
        }
      ]
    },
    {
      "cell_type": "markdown",
      "metadata": {
        "id": "aPhSYF8kUeo-"
      },
      "source": [
        "### 3.7.7 ```sort()```\n",
        "\n",
        "O método ```sort``` ordena a sequência"
      ]
    },
    {
      "cell_type": "code",
      "metadata": {
        "id": "ZIPGnVFKUeo-"
      },
      "source": [
        "outra_lista.sort() # modifica o objeto\n",
        "outra_lista"
      ],
      "execution_count": null,
      "outputs": []
    },
    {
      "cell_type": "markdown",
      "metadata": {
        "id": "1F8n2jsSUeo_"
      },
      "source": [
        "### 3.7.8 ```count()```\n",
        "\n",
        "Retorna o número de ocorrências de determinado objeto, passado como parâmetro, em uma sequência."
      ]
    },
    {
      "cell_type": "code",
      "metadata": {
        "id": "O3BcF34fUeo_"
      },
      "source": [
        "outra_lista.count('white')"
      ],
      "execution_count": null,
      "outputs": []
    },
    {
      "cell_type": "markdown",
      "metadata": {
        "id": "eepP8T9KUeo_"
      },
      "source": [
        "## 3.8 Tipos de Sequências: Funções\n",
        "\n",
        "\n",
        "O Python conta com funções úteis quando se trabalha com coleções. Vejamos algumas delas:"
      ]
    },
    {
      "cell_type": "code",
      "metadata": {
        "id": "uS2ZMdYoUeo_"
      },
      "source": [
        "## 3.8.1 ```min()``` e ```max()```\n",
        "\n",
        "A função ```min()``` retorna o menor valor de uma sequência, e ```max()``` o maior valor. Caso a sequência contenha ```strings```, as funçõs trabalham com comparações alfabéticas."
      ],
      "execution_count": null,
      "outputs": []
    },
    {
      "cell_type": "code",
      "metadata": {
        "id": "qXCk4O8cUepA",
        "outputId": "8a7b089c-cc74-4c80-c54e-81ee1257ec60"
      },
      "source": [
        "numeros = [15, 5, 0, 20, 10]\n",
        "nomes = ['Caio', 'Alex', 'Renata', 'Patrícia', 'Bruno']\n",
        "\n",
        "print(min(numeros))\n",
        "print(max(numeros))\n",
        "print(min(nomes))\n",
        "print(max(nomes))"
      ],
      "execution_count": null,
      "outputs": [
        {
          "output_type": "execute_result",
          "data": {
            "text/plain": [
              "True"
            ]
          },
          "metadata": {
            "tags": []
          },
          "execution_count": 67
        }
      ]
    },
    {
      "cell_type": "markdown",
      "metadata": {
        "id": "3wMa9GE4UepA"
      },
      "source": [
        "## 3.8.2 ```sum()```\n",
        "\n",
        "Retorna a soma de todos os elementos da coleção. Essa função não trabalha com ```strings```, pois não é tipo suportado por ela."
      ]
    },
    {
      "cell_type": "code",
      "metadata": {
        "id": "Kd1IRzg5UepA"
      },
      "source": [
        "print(sum(numeros))"
      ],
      "execution_count": null,
      "outputs": []
    },
    {
      "cell_type": "code",
      "metadata": {
        "id": "8pzAvXkvUepB"
      },
      "source": [
        "print(sum(nomes))"
      ],
      "execution_count": null,
      "outputs": []
    },
    {
      "cell_type": "markdown",
      "metadata": {
        "id": "lHS4eBjVUepB"
      },
      "source": [
        "## 3.8.3 ```len()```\n",
        "\n",
        "A função ```len()``` é bastante usada em Python para retornar o tamanho de um objeto. \n",
        "Quando usada com coleções, retorna o total de itens que a coleção possui."
      ]
    },
    {
      "cell_type": "code",
      "metadata": {
        "id": "pYUXDOdTUepB"
      },
      "source": [
        "paises = ['Argentina', 'Brasil', 'Colômbia', 'Uruguai']\n",
        "\n",
        "print(len(paises))"
      ],
      "execution_count": null,
      "outputs": []
    },
    {
      "cell_type": "markdown",
      "metadata": {
        "id": "kPuFHxP-UepB"
      },
      "source": [
        "Essa função é de grande utilidade, pois pode ser usada em diversas situações, como nas estruturas condicionais e em laços de repetição por exemplo."
      ]
    },
    {
      "cell_type": "markdown",
      "metadata": {
        "id": "y-b-JlTOUepB"
      },
      "source": [
        "## 3.8.4 ```type()```\n",
        "\n",
        "Com a função ```type()``` podemos obter o tipo do objeto passado no parâmetro."
      ]
    },
    {
      "cell_type": "code",
      "metadata": {
        "id": "xlu13s8dUepB"
      },
      "source": [
        "professores = ['Carla', 'Daniel', 'Ingrid', 'Roberto']\n",
        "estacoes = ('Primavera', 'Verão', 'Outono', 'Inverno')\n",
        "cliente = {\n",
        "    'Nome': 'Fábio Garcia',\n",
        "    'email' : 'fabio_garcia_9@outlook.com'\n",
        "}\n",
        "\n",
        "print(type(professores)) # list\n",
        "print(type(estacoes)) # tuple\n",
        "print(type(cliente)) # dict"
      ],
      "execution_count": null,
      "outputs": []
    },
    {
      "cell_type": "markdown",
      "metadata": {
        "id": "O5kq6qJsUepC"
      },
      "source": [
        "## 3.9 Métodos de strings comuns\n",
        "\n",
        "### Checagem\n",
        "\n",
        "* ```endswith```, ```startswith```"
      ]
    },
    {
      "cell_type": "code",
      "metadata": {
        "id": "EKRD8dKnUepC"
      },
      "source": [
        "hello world'.startswith('he')"
      ],
      "execution_count": null,
      "outputs": []
    },
    {
      "cell_type": "markdown",
      "metadata": {
        "id": "fs0kSs98UepC"
      },
      "source": [
        "* ```isalnum```, ```isalpha```, ```isdigit```, ```islower```, ```isupper```, ```isspace```"
      ]
    },
    {
      "cell_type": "code",
      "metadata": {
        "id": "iDbK5YmvUepC",
        "outputId": "ee6b97d1-52a7-47da-efcd-cdf31708fb49"
      },
      "source": [
        "'123'.isdigit()"
      ],
      "execution_count": null,
      "outputs": [
        {
          "output_type": "execute_result",
          "data": {
            "text/plain": [
              "True"
            ]
          },
          "metadata": {
            "tags": []
          },
          "execution_count": 61
        }
      ]
    },
    {
      "cell_type": "code",
      "metadata": {
        "id": "8DZr7PAwUepC"
      },
      "source": [
        "'Hello World'.islower()"
      ],
      "execution_count": null,
      "outputs": []
    },
    {
      "cell_type": "markdown",
      "metadata": {
        "id": "FvDmKoVMUepD"
      },
      "source": [
        "### Pesquisas\n",
        "\n",
        "* ```count```"
      ]
    },
    {
      "cell_type": "code",
      "metadata": {
        "id": "-kk8xesVUepD"
      },
      "source": [
        "'hello world'.count('l')"
      ],
      "execution_count": null,
      "outputs": []
    },
    {
      "cell_type": "markdown",
      "metadata": {
        "id": "5Hl3s9fxUepD"
      },
      "source": [
        "* ```find```"
      ]
    },
    {
      "cell_type": "code",
      "metadata": {
        "id": "LAyZOFwlUepD"
      },
      "source": [
        "'hello world'.find('l')"
      ],
      "execution_count": null,
      "outputs": []
    },
    {
      "cell_type": "code",
      "metadata": {
        "id": "FcxTl9YYUepD"
      },
      "source": [
        "'hello world'.find('t')"
      ],
      "execution_count": null,
      "outputs": []
    },
    {
      "cell_type": "markdown",
      "metadata": {
        "id": "btE6Pg59UepD"
      },
      "source": [
        "### Manipulações\n",
        "\n",
        "Esteja atento, porque ```str``` é um tipo imutável. Todos os métodos abaixo retornam uma nova ```string```."
      ]
    },
    {
      "cell_type": "markdown",
      "metadata": {
        "id": "aZxroa1PUepD"
      },
      "source": [
        "* ```lower```, ```upper``` , ```title``` , ```capitalize``` , ```swapcase```"
      ]
    },
    {
      "cell_type": "code",
      "metadata": {
        "id": "REqAAmPAUepE"
      },
      "source": [
        "'hello world'.title()"
      ],
      "execution_count": null,
      "outputs": []
    },
    {
      "cell_type": "code",
      "metadata": {
        "id": "bzxL3QX7UepE"
      },
      "source": [
        "'hello world'.capitalize()"
      ],
      "execution_count": null,
      "outputs": []
    },
    {
      "cell_type": "markdown",
      "metadata": {
        "id": "QPxMbfmMUepE"
      },
      "source": [
        "* ```replace```"
      ]
    },
    {
      "cell_type": "code",
      "metadata": {
        "id": "tHUgMnnoUepE"
      },
      "source": [
        "'hello world'.replace('world', 'john')"
      ],
      "execution_count": null,
      "outputs": []
    },
    {
      "cell_type": "markdown",
      "metadata": {
        "id": "wAXb_IJCUepE"
      },
      "source": [
        "* ```strip```, ```rstrip```, ```lstrip``` - remove espaços e nova linha no fim da ```string```:"
      ]
    },
    {
      "cell_type": "code",
      "metadata": {
        "id": "erpGmnCJUepE"
      },
      "source": [
        "'     hello!    \\n'.strip()"
      ],
      "execution_count": null,
      "outputs": []
    },
    {
      "cell_type": "markdown",
      "metadata": {
        "id": "GqJtCpc_UepF"
      },
      "source": [
        "## Substituição na string"
      ]
    },
    {
      "cell_type": "code",
      "metadata": {
        "id": "hRWZWZxtUepF",
        "outputId": "ac90c2d4-e1eb-4e1b-eb34-4748f4bc2c1a"
      },
      "source": [
        "'An integer: %i; a float: %f; another string: %s' % (1, 0.1, 'string')\n",
        "i = 102\n",
        "filename = 'processing_of_dataset_%d.txt' % i\n",
        "filename"
      ],
      "execution_count": null,
      "outputs": [
        {
          "output_type": "execute_result",
          "data": {
            "text/plain": [
              "'processing_of_dataset_102.txt'"
            ]
          },
          "metadata": {
            "tags": []
          },
          "execution_count": 8
        }
      ]
    },
    {
      "cell_type": "markdown",
      "metadata": {
        "id": "liJIk_YkUepF"
      },
      "source": [
        "## 3.8 Mais um tipo de dados: dicionários\n",
        "\n",
        "* Dicionários são containers que armazenam um **mapeamento** entre um conjunto de ```_chaves_``` (keys) e um conjunto de ```_valores_```\n",
        "   * Chaves podem ser qualquer tipo **imutável**.\n",
        "   * Valores podem ser qualquer tipo.\n",
        "   * Um único dicionário pode guardar valores de tipos diferentes.\n",
        "   \n",
        "   \n",
        "* O usuário pode modificar, ver, procurar e deletar o par chave-valor no dicionário."
      ]
    },
    {
      "cell_type": "markdown",
      "metadata": {
        "id": "mQI8ciU9UepF"
      },
      "source": [
        "### 3.8.1 Exemplos de dicionários\n"
      ]
    },
    {
      "cell_type": "code",
      "metadata": {
        "id": "brpbcREnUepF",
        "outputId": "aa251f5c-5a22-4548-d9cf-a1fefaa3c532"
      },
      "source": [
        "dicio = {'user': 'bozo', 'pwd': 1234}          # criação de um dicionário\n",
        "dicio['user']"
      ],
      "execution_count": null,
      "outputs": [
        {
          "output_type": "execute_result",
          "data": {
            "text/plain": [
              "'bozo'"
            ]
          },
          "metadata": {
            "tags": []
          },
          "execution_count": 22
        }
      ]
    },
    {
      "cell_type": "code",
      "metadata": {
        "id": "GKW6Y3MZUepG",
        "outputId": "a302b4fc-02e6-43b6-ad10-d8446e3318e8"
      },
      "source": [
        "dicio['pwd']"
      ],
      "execution_count": null,
      "outputs": [
        {
          "output_type": "execute_result",
          "data": {
            "text/plain": [
              "1234"
            ]
          },
          "metadata": {
            "tags": []
          },
          "execution_count": 23
        }
      ]
    },
    {
      "cell_type": "code",
      "metadata": {
        "id": "mFyNd6UnUepG",
        "outputId": "76fa8faf-ffb2-4bc0-d376-9e0b4e64089c"
      },
      "source": [
        "dicio['bozo']"
      ],
      "execution_count": null,
      "outputs": [
        {
          "output_type": "error",
          "ename": "KeyError",
          "evalue": "'bozo'",
          "traceback": [
            "\u001b[0;31m---------------------------------------------------------------------------\u001b[0m",
            "\u001b[0;31mKeyError\u001b[0m                                  Traceback (most recent call last)",
            "\u001b[0;32m<ipython-input-24-6355f0876eaa>\u001b[0m in \u001b[0;36m<module>\u001b[0;34m()\u001b[0m\n\u001b[0;32m----> 1\u001b[0;31m \u001b[0md\u001b[0m\u001b[0;34m[\u001b[0m\u001b[0;34m'bozo'\u001b[0m\u001b[0;34m]\u001b[0m\u001b[0;34m\u001b[0m\u001b[0;34m\u001b[0m\u001b[0m\n\u001b[0m",
            "\u001b[0;31mKeyError\u001b[0m: 'bozo'"
          ]
        }
      ]
    },
    {
      "cell_type": "code",
      "metadata": {
        "id": "Es7ZP52UUepG"
      },
      "source": [
        "print (dicio)"
      ],
      "execution_count": null,
      "outputs": []
    },
    {
      "cell_type": "code",
      "metadata": {
        "id": "8y-DAh5ZUepG"
      },
      "source": [
        "dicio['user'] = 'clown'\n",
        "dicio"
      ],
      "execution_count": null,
      "outputs": []
    },
    {
      "cell_type": "code",
      "metadata": {
        "id": "eb2Iyvg4UepG"
      },
      "source": [
        "dicio['id'] = 45\n",
        "dicio"
      ],
      "execution_count": null,
      "outputs": []
    },
    {
      "cell_type": "code",
      "metadata": {
        "id": "z4tpetKsUepH"
      },
      "source": [
        "dicio.clear()               # remover todos os ítens do dicionário\n",
        "dicio"
      ],
      "execution_count": null,
      "outputs": []
    },
    {
      "cell_type": "code",
      "metadata": {
        "id": "wvy7rb_-UepH"
      },
      "source": [
        "dicio = {'user': {'bozo': 0}, 'p': 1234, 'i': 34}\n",
        "dicio.keys() "
      ],
      "execution_count": null,
      "outputs": []
    },
    {
      "cell_type": "code",
      "metadata": {
        "id": "t19zqMrhUepH"
      },
      "source": [
        "dicio.values() "
      ],
      "execution_count": null,
      "outputs": []
    },
    {
      "cell_type": "code",
      "metadata": {
        "id": "D44GPZehUepH"
      },
      "source": [
        "dicio.items()"
      ],
      "execution_count": null,
      "outputs": []
    },
    {
      "cell_type": "markdown",
      "metadata": {
        "id": "PRHMPeyQUepH"
      },
      "source": [
        "## 3.9 Operador de Atribuição\n",
        "\n",
        "\n",
        "A biblioteca de referência do Python diz o seguinte:\n",
        "\n",
        "> Instruções de atribuição são utilizadas para ligar (religar) nomes a valores e para modificar os atributos ou itens de objetos mutáveis"
      ]
    },
    {
      "cell_type": "markdown",
      "metadata": {
        "id": "WAAax9aJUepI"
      },
      "source": [
        "Basicamente, isso funciona da seguinte maneira (atribuição simples):\n",
        "\n",
        "Uma expressão no lado direito é avaliada, o objeto correspondente é criado ou obtido;\n",
        "Um nome, no lado esquerdo é atribuído, ou ligado, para o objeto do lado direito.\n",
        "\n",
        "Observação:\n",
        "\n",
        "Um simples objeto pode ter diversos nomes conectados a ele, execute os códigos abaixo e preste atenção no resultado:"
      ]
    },
    {
      "cell_type": "code",
      "metadata": {
        "id": "Rfrm33rPUepI"
      },
      "source": [
        "a = [1, 2, 3]\n",
        "b = a\n",
        "a\n",
        "b\n",
        "a is b\n",
        "b[1] = 'oi!'\n",
        "a"
      ],
      "execution_count": null,
      "outputs": []
    },
    {
      "cell_type": "markdown",
      "metadata": {
        "id": "KYLYJSLjUepI"
      },
      "source": [
        "Notem que para mudar uma lista na lista, utilize o índice ou o corte:"
      ]
    },
    {
      "cell_type": "code",
      "metadata": {
        "id": "5QVvc05nUepI"
      },
      "source": [
        "a = [1, 2, 3]\n",
        "print a\n",
        "a = ['a', 'b', 'c'] # Cria outro objeto\n",
        "print a\n",
        "print id(a)\n",
        "a[:] = [1, 2, 3] # Modifica o objeto\n",
        "print a\n",
        "print id(a)"
      ],
      "execution_count": null,
      "outputs": []
    },
    {
      "cell_type": "markdown",
      "metadata": {
        "id": "kwX1MMPHUepI"
      },
      "source": [
        "Observe que mesmo sendo diferentes o primeiro a do segundo, eles possuem a mesma identificação.\n",
        "\n",
        "O conceito chave aqui é mutável x imutável:\n",
        "\n",
        "* Objetos mutáveis podem ser modificados;\n",
        "* Objetos imutáveis não podem mais ser modificados após serem criados."
      ]
    },
    {
      "cell_type": "markdown",
      "metadata": {
        "id": "14MR5tlHUepI"
      },
      "source": [
        "<p id=\"nav-felt\" style=\"possition:relative; width:50%; float:left;\"><a href=\"2-tipos-dados_python.ipynb\">&lt;&lt; Anterior: 2. Tipos de dados</a></p>\n",
        "<p id=\"nav-right\" style=\"possition:relative; width:45%; float:left; text-align:right;\"><a href=\"4-fluxo-execucao_python.ipynb\">Próximo: 4. Fluxo de execução  &gt;&gt;</a></p>"
      ]
    },
    {
      "cell_type": "code",
      "metadata": {
        "id": "DQjB4FwpUepJ"
      },
      "source": [
        ""
      ],
      "execution_count": null,
      "outputs": []
    }
  ]
}