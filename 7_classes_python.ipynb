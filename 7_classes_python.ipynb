{
  "nbformat": 4,
  "nbformat_minor": 0,
  "metadata": {
    "kernelspec": {
      "name": "python3",
      "display_name": "Python 3.9.2 64-bit ('root-python-env': conda)"
    },
    "language_info": {
      "codemirror_mode": {
        "name": "ipython",
        "version": 3
      },
      "file_extension": ".py",
      "mimetype": "text/x-python",
      "name": "python",
      "nbconvert_exporter": "python",
      "pygments_lexer": "ipython3",
      "version": "3.9.2"
    },
    "interpreter": {
      "hash": "335436fdd3b76d4f3727a636fd436c7d3c5aef570f332174c0978c1012c03da9"
    },
    "colab": {
      "name": "7-classes_python.ipynb",
      "provenance": [],
      "include_colab_link": true
    }
  },
  "cells": [
    {
      "cell_type": "markdown",
      "metadata": {
        "id": "view-in-github",
        "colab_type": "text"
      },
      "source": [
        "<a href=\"https://colab.research.google.com/github/ssilvado/aula_python_graduacao/blob/main/7_classes_python.ipynb\" target=\"_parent\"><img src=\"https://colab.research.google.com/assets/colab-badge.svg\" alt=\"Open In Colab\"/></a>"
      ]
    },
    {
      "cell_type": "markdown",
      "metadata": {
        "id": "m3xSXvALU1iS"
      },
      "source": [
        "# Classes e Objetos\n",
        "\n",
        "Python é uma linguagem de programação **orientada a objetos**.\n",
        "\n",
        "Até agora, a maioria dos programas que criamos foi escrito usando um *paradigma* de **programação procedural**:\n",
        "   * O foco está em escrever funções ou ***procedimentos*** que operam em dados. \n",
        "   \n",
        "Na **programação orientada a objetos**:\n",
        "   * o foco está na criação de objetos que contêm ***dados e funcionalidade*** juntos. \n",
        "   * Normalmente, cada definição de objeto corresponde a algum objeto ou conceito no mundo real, e as funções que operam nesse objeto correspondem às formas pelas quais os objetos do mundo real interagem.\n",
        "\n",
        "\n",
        "## Tipos de dados compostos definidos pelo usuário\n",
        "\n",
        "Até agora, já vimos **classes** como:\n",
        "   * str \n",
        "   * int \n",
        "   * float \n",
        "   * list\n",
        "   * Turtle. \n",
        "   \n",
        "Agora estamos prontos para criar nossa primeira **classe** definida pelo usuário: o Ponto.\n",
        "\n",
        "Podemos representar um ponto num plano como o conjunto de suas coordenadas x, y: P(x,y).\n",
        "Com isso, definimos uma nova **classe** chamada Ponto:"
      ]
    },
    {
      "cell_type": "code",
      "metadata": {
        "id": "VCh7JqujU1iT"
      },
      "source": [
        "class Ponto:\n",
        "    \"\"\" A classe Ponto representa e manipula as coordenadas x,y . \"\"\"\n",
        "\n",
        "    def __init__(self):\n",
        "        \"\"\" Cria um novo ponto posicionado na origem. \"\"\"\n",
        "        self.x = 0\n",
        "        self.y = 0"
      ],
      "execution_count": null,
      "outputs": []
    },
    {
      "cell_type": "markdown",
      "metadata": {
        "id": "YzXmpMYUU1iU"
      },
      "source": [
        "* As definições de classe podem aparecer em qualquer lugar de um programa, mas geralmente estão próximas do início (após as instruções de importação).\n",
        "\n",
        "A sintaxe de uma **classe**:\n",
        "\n",
        "   * tem um **cabeçalho** que começa com a palavra-chave, **class**, seguido do **nome da classe** e termina com dois pontos. \n",
        "   * Os níveis de **indentação** informam o bloco que contém a definição da **classe**, onde ela começa e termina.\n",
        "   * Cada classe deve ter um ___método___ (função própia da classe) com o nome especial ```__init__```. Esse **método inicializador** será chamado automaticamente sempre que uma nova _instância_ do Ponto for criada.\n",
        "      * Ele fornece ao programador a oportunidade de configurar os ___atributos___ (variáveis própias da classe) necessários na nova instância, fornecendo a eles seus valores / valores iniciais. \n",
        "      * O parâmetro **self** é configurado automaticamente para referenciar o objeto recém-criado que precisa ser inicializado.\n",
        "\n",
        "Vamos usar nossa nova classe Ponto:"
      ]
    },
    {
      "cell_type": "code",
      "metadata": {
        "id": "hKxG_X2oU1iU"
      },
      "source": [
        "p = Ponto()         # Instanciar um objeto do tipo Ponto\n",
        "q = Ponto()         # Fazer um segundo objeto do tipo Ponto\n",
        "\n",
        "print(p.x, p.y, q.x, q.y)  # Cada objeto do tipo ponto tem seu próprio x e y "
      ],
      "execution_count": null,
      "outputs": []
    },
    {
      "cell_type": "markdown",
      "metadata": {
        "id": "orvN-qurU1iU"
      },
      "source": [
        "**Por que a declaração de print acima retorna valores iguais a 0 ?**\n",
        "\n",
        "Já instanciamos objetos antes, lembram?"
      ]
    },
    {
      "cell_type": "code",
      "metadata": {
        "id": "yIGGnH8gU1iV"
      },
      "source": [
        "from turtle import Turtle\n",
        "\n",
        "tess = Turtle()     # Instantiar objetos do tipo Turtle\n",
        "alex = Turtle()"
      ],
      "execution_count": null,
      "outputs": []
    },
    {
      "cell_type": "markdown",
      "metadata": {
        "id": "DbOj7pPOU1iV"
      },
      "source": [
        "* As variáveis ```p``` e ```q``` são referências atribuídas a dois novos objetos do tipo Ponto. \n",
        "* Uma função como ```Turtle``` ou ```Ponto``` que cria uma **nova instância de objeto** é chamada de **construtor**, \n",
        "   * toda classe fornece automaticamente uma função de construtor que é nomeada da mesma forma que a classe. \n",
        "   * Em nosso exemplo, a função contrutor é ```Ponto()```\n",
        "\n",
        "* Pode ser útil pensar em uma classe como uma fábrica para fazer objetos. \n",
        "* A classe em si não é uma instância de um ponto, mas contém o mecanismo para criar instâncias de pontos. \n",
        "* Toda vez que chamamos o construtor, pedimos à fábrica que faça um novo objeto. \n",
        "* À medida que o objeto sai da linha de produção, seu método de inicialização é executado para obter o objeto adequadamente configurado com suas configurações padrão de fábrica.\n",
        "\n",
        "* O processo combinado de \"fazer um novo objeto\" e \"obter suas configurações inicializadas com as configurações padrão de fábrica\" é chamado de **instanciação**.\n",
        "\n",
        "## Atributos\n",
        "\n",
        "Você pode atribuir valores a uma instância usando a notação de ponto, por exemplo para as coordenadas do nosso ponto:"
      ]
    },
    {
      "cell_type": "code",
      "metadata": {
        "id": "7zNi6OpXU1iV",
        "outputId": "25281a1f-93c3-4ee5-8f59-9957656697d0"
      },
      "source": [
        "p = Ponto()\n",
        "p.x = 3\n",
        "p.y = 4\n",
        "print(p.x, p.y)\n",
        "print(type(p))\n",
        "print(type(p.x))"
      ],
      "execution_count": null,
      "outputs": [
        {
          "output_type": "stream",
          "text": [
            "3 4\n",
            "<class '__main__.Ponto'>\n",
            "<class 'int'>\n"
          ],
          "name": "stdout"
        }
      ]
    },
    {
      "cell_type": "markdown",
      "metadata": {
        "id": "TEaF_Ju2U1iW"
      },
      "source": [
        "A variável ```p``` se refere a um objeto do tipo Ponto e contém dois ___atributos__ que se referem a números. \n",
        "Acessamos os valores dos atributos com a notação de ponto.\n",
        "\n",
        "## Melhorando nosso inicializador\n",
        "\n",
        "Podemos tornar nossa classe Ponto mais geral, adicionando parâmetros à função ```__init__```: "
      ]
    },
    {
      "cell_type": "code",
      "metadata": {
        "id": "6h_I05L0U1iW"
      },
      "source": [
        "class Ponto:\n",
        "    \"\"\" A classe Ponto representa e manipula as coordenadas x,y . \"\"\"\n",
        "\n",
        "    def __init__(self, x=0, y=0):\n",
        "        \"\"\" Inicializa em x, y o novo ponto criado pela classe. \"\"\"\n",
        "        self.x = x\n",
        "        self.y = y"
      ],
      "execution_count": null,
      "outputs": []
    },
    {
      "cell_type": "code",
      "metadata": {
        "id": "o-WrNSVQU1iW",
        "outputId": "305ff4f1-b2d3-4d0d-9bb8-9c17c1fce2ed"
      },
      "source": [
        "p = Ponto(4, 2)\n",
        "q = Ponto(6, 3)\n",
        "r = Ponto()       # r representa a origem (0, 0)\n",
        "print(p.x, q.y, r.x)"
      ],
      "execution_count": null,
      "outputs": [
        {
          "output_type": "stream",
          "text": [
            "4 3 0\n"
          ],
          "name": "stdout"
        }
      ]
    },
    {
      "cell_type": "markdown",
      "metadata": {
        "id": "R-mhpjN-U1iX"
      },
      "source": [
        "## Adicionando outros métodos à nossa classe\n",
        "\n",
        "* Criar uma classe como Ponto traz uma quantidade excepcional de **“poder organizacional”** aos nossos programas e ao nosso pensamento. \n",
        "* Podemos **agrupar as operações** pertinentes a tipos de dados aos quais elas se aplicam, e cada instância da classe pode ter seu próprio estado.\n",
        "\n",
        "Um **método** se comporta como uma função, mas é invocado em uma instância específica: por exemplo, ***tess.right(90)*** \n",
        "\n",
        "* Os métodos são acessados usando notação de ponto.\n",
        "\n",
        "* Vamos adicionar outro método a nossa classe, ***distancia_da_origem***, para ver melhor como os métodos funcionam:"
      ]
    },
    {
      "cell_type": "code",
      "metadata": {
        "id": "BaUZFC_OU1iX"
      },
      "source": [
        "class Ponto:\n",
        "    \"\"\" Cria um novo Ponto, com coordenadas x, y \"\"\"\n",
        "\n",
        "    def __init__(self, x=0, y=0):\n",
        "        \"\"\" Inicializa em x, y o novo ponto criado pela classe \"\"\"\n",
        "        self.x = x\n",
        "        self.y = y\n",
        "\n",
        "    def distancia_da_origem(self):\n",
        "        \"\"\" Calcula minha distânica da origem \"\"\"\n",
        "        return ((self.x ** 2) + (self.y ** 2)) ** 0.5"
      ],
      "execution_count": null,
      "outputs": []
    },
    {
      "cell_type": "markdown",
      "metadata": {
        "id": "zrlYe96jU1iX"
      },
      "source": [
        "Vamos criar algumas instâncias de Ponto, verificar seus atributos e chamar nosso novo método nelas: (Precisamos executar o programa que contém a definição da classe Ponto primeiro para disponibilizar nossa classe ao intérprete.)"
      ]
    },
    {
      "cell_type": "code",
      "metadata": {
        "id": "7aQIh6UkU1iY",
        "outputId": "10b297c2-065a-4d94-c707-acd89fca2529"
      },
      "source": [
        "p = Ponto(3, 4)                   # instanciando um objeto do tipo Ponto\n",
        "print(p.x)                        # acessando seus atributos\n",
        "print(p.y)\n",
        "print(\"distancia da origem para p: \", p.distancia_da_origem())    # distância da origem\n",
        "q = Ponto(5, 12)\n",
        "print(q.x)\n",
        "print(q.y)\n",
        "print(\"distancia da origem para q: \", q.distancia_da_origem())\n",
        "r = Ponto()\n",
        "print(r.x)\n",
        "print(r.y)\n",
        "print(\"distancia da origem para r: \", r.distancia_da_origem())"
      ],
      "execution_count": null,
      "outputs": [
        {
          "output_type": "stream",
          "text": [
            "3\n",
            "4\n",
            "distancia da origem para p:  5.0\n",
            "5\n",
            "12\n",
            "distancia da origem para q:  13.0\n",
            "0\n",
            "0\n",
            "distancia da origem para r:  0.0\n"
          ],
          "name": "stdout"
        }
      ]
    },
    {
      "cell_type": "markdown",
      "metadata": {
        "id": "5o-dHRbyU1iY"
      },
      "source": [
        "* Ao definir um método, **o primeiro parâmetro refere-se à instância sendo manipulada**. Como já foi dito, costuma-se nomear este parâmetro **self**.\n",
        "\n",
        "Observe que o chamador de ***distancia_da_origem*** não fornece explicitamente um argumento para corresponder ao parâmetro ***self** - isso é feito para nós, pelo interpretador.\n",
        "\n",
        "## Instâncias como argumentos e parâmetros\n",
        "\n",
        "Podemos passar um objeto como um argumento da maneira usual.\n",
        "\n",
        "**Porém**, é importante saber que essa variável só contém uma **referência a um objeto**, portanto, passar um objeto para uma função cria um **alias**: o chamador e a função chamada agora têm uma referência, mas existe apenas um objeto! \n",
        "\n",
        "Aqui está uma função simples envolvendo nossos novos objetos Ponto:"
      ]
    },
    {
      "cell_type": "code",
      "metadata": {
        "id": "0orA1IcYU1iY"
      },
      "source": [
        "def print_ponto(pt):\n",
        "    print(\"({0}, {1})\".format(pt.x, pt.y))"
      ],
      "execution_count": null,
      "outputs": []
    },
    {
      "cell_type": "code",
      "metadata": {
        "id": "mK7tCldKU1iY",
        "outputId": "d78f580f-ab7b-4bdb-b6d6-6feb08ab0c4c"
      },
      "source": [
        "print_ponto(Ponto(2,2))\n",
        "print_ponto(q)\n",
        "print_ponto(r)"
      ],
      "execution_count": null,
      "outputs": [
        {
          "output_type": "stream",
          "text": [
            "(2, 2)\n",
            "(5, 12)\n",
            "(0, 0)\n"
          ],
          "name": "stdout"
        }
      ]
    },
    {
      "cell_type": "markdown",
      "metadata": {
        "id": "PHepfA5cU1iZ"
      },
      "source": [
        "## Instâncias como valores de retorno\n",
        "\n",
        "Funções e métodos também podem retornar instâncias de classes. \n",
        "\n",
        "Por exemplo, dado dois objetos Ponto, encontre seu ponto médio. Primeiro, vamos escrever isso como uma função normal:"
      ]
    },
    {
      "cell_type": "code",
      "metadata": {
        "id": "RzoGyDNbU1iZ"
      },
      "source": [
        "def ponto_medio(p1, p2):\n",
        "    \"\"\" Retorna o ponto médio dos pontos p1 e p2 \"\"\"\n",
        "    mx = (p1.x + p2.x)/2\n",
        "    my = (p1.y + p2.y)/2\n",
        "    return Ponto(mx, my)"
      ],
      "execution_count": null,
      "outputs": []
    },
    {
      "cell_type": "markdown",
      "metadata": {
        "id": "u3LLAKWCU1iZ"
      },
      "source": [
        "A função cria e retorna um novo objeto Ponto:"
      ]
    },
    {
      "cell_type": "code",
      "metadata": {
        "id": "7mf-n6qpU1iZ",
        "outputId": "7385fd84-ac94-4153-87e4-052d6f350155"
      },
      "source": [
        "p = Ponto(3, 4)\n",
        "q = Ponto(5, 12)\n",
        "r = ponto_medio(p, q)\n",
        "print_ponto(r)"
      ],
      "execution_count": null,
      "outputs": [
        {
          "output_type": "stream",
          "text": [
            "(4.0, 8.0)\n"
          ],
          "name": "stdout"
        }
      ]
    },
    {
      "cell_type": "markdown",
      "metadata": {
        "id": "XysFSMVaU1iZ"
      },
      "source": [
        "Agora vamos refazer isso como um **método** da classe Ponto. \n",
        "\n",
        "Suponha que tenhamos um objeto pontual e desejamos encontrar o ponto intermediário entre ele e algum outro ponto ```alvo```:"
      ]
    },
    {
      "cell_type": "code",
      "metadata": {
        "id": "-dqvL3vtU1ia"
      },
      "source": [
        "class Ponto:\n",
        "    \"\"\" Cria um novo Ponto, com coordenadas x, y \"\"\"\n",
        "\n",
        "    def __init__(self, x=0, y=0):\n",
        "        \"\"\" Inicializa em x, y o novo ponto criado pela classe \"\"\"\n",
        "        self.x = x\n",
        "        self.y = y\n",
        "\n",
        "    def distancia_da_origem(self):\n",
        "        \"\"\" Calcula minha distânica da origem \"\"\"\n",
        "        return ((self.x ** 2) + (self.y ** 2)) ** 0.5\n",
        "    \n",
        "    def ponto_medio(self, alvo):\n",
        "        \"\"\" Retorna o ponto medio entre esse ponto e o alvo \"\"\"\n",
        "        mx = (self.x + alvo.x)/2\n",
        "        my = (self.y + alvo.y)/2\n",
        "        return Ponto(mx, my)"
      ],
      "execution_count": null,
      "outputs": []
    },
    {
      "cell_type": "code",
      "metadata": {
        "id": "EyA8BPA-U1ia",
        "outputId": "bd2f7d86-94b0-4794-ac23-9b196f374f78"
      },
      "source": [
        "p = Ponto(3, 4)\n",
        "q = Ponto(5, 12)\n",
        "r = p.ponto_medio(q)\n",
        "print_ponto(r)"
      ],
      "execution_count": null,
      "outputs": [
        {
          "output_type": "stream",
          "text": [
            "(4.0, 8.0)\n"
          ],
          "name": "stdout"
        }
      ]
    },
    {
      "cell_type": "markdown",
      "metadata": {
        "id": "c2V3KrW3U1ia"
      },
      "source": [
        "Embora este exemplo atribua cada ponto a uma variável, isso não é necessário. \n",
        "\n",
        "Assim como as chamadas de função são **compostas**, **chamadas de método e instanciação de objetos também podem ser compostas**, levando a essa alternativa que não usa declaração de variáveis para resolver o ponto médio:"
      ]
    },
    {
      "cell_type": "code",
      "metadata": {
        "id": "qA0r9vadU1ia",
        "outputId": "232bc73d-778d-4c4d-afcf-1f3678f71f26"
      },
      "source": [
        "print_ponto(Ponto(3,4).ponto_medio(Ponto(5,12)))\n",
        "print(Ponto(3,4).ponto_medio(Ponto(5,12)))"
      ],
      "execution_count": null,
      "outputs": [
        {
          "output_type": "stream",
          "text": [
            "(4.0, 8.0)\n",
            "<__main__.Ponto object at 0x104ddab38>\n"
          ],
          "name": "stdout"
        }
      ]
    },
    {
      "cell_type": "markdown",
      "metadata": {
        "id": "PdApeiSYU1ia"
      },
      "source": [
        "O método ```print``` acima, imprime na tela o __endereço na memória__ da referência ao objeto. Se conseguirmos um método de conversão de instância para string, poderemos imprimir na tela os atributos do objeto do tipo Ponto, como faz a função ```print_ponto```.\n",
        "\n",
        "## Convertendo uma instância em uma string\n",
        "\n",
        "É uma boa abordagem implementar um método para que cada instância possa produzir uma representação de string de si mesma. \n",
        "\n",
        "Vamos chamá-lo inicialmente de ```para_string```:"
      ]
    },
    {
      "cell_type": "code",
      "metadata": {
        "id": "X1GaK8XXU1ib"
      },
      "source": [
        "class Ponto:\n",
        "    \"\"\" Cria um novo Ponto, com coordenadas x, y \"\"\"\n",
        "\n",
        "    def __init__(self, x=0, y=0):\n",
        "        \"\"\" Inicializa em x, y o novo ponto criado pela classe \"\"\"\n",
        "        self.x = x\n",
        "        self.y = y\n",
        "\n",
        "    def distancia_da_origem(self):\n",
        "        \"\"\" Calcula minha distânica da origem \"\"\"\n",
        "        return ((self.x ** 2) + (self.y ** 2)) ** 0.5\n",
        "    \n",
        "    def ponto_medio(self, alvo):\n",
        "        \"\"\" Retorna o ponto medio entre esse ponto e o alvo \"\"\"\n",
        "        mx = (self.x + alvo.x)/2\n",
        "        my = (self.y + alvo.y)/2\n",
        "        return Ponto(mx, my)\n",
        "    \n",
        "    def para_string(self):\n",
        "        return \"({0}, {1})\".format(self.x, self.y)"
      ],
      "execution_count": null,
      "outputs": []
    },
    {
      "cell_type": "code",
      "metadata": {
        "id": "C3Sdq_X_U1ib",
        "outputId": "0b2162c1-1c5e-400f-ff36-50a913003c21"
      },
      "source": [
        "p = Ponto(3, 4)\n",
        "print(p.para_string())"
      ],
      "execution_count": null,
      "outputs": [
        {
          "output_type": "stream",
          "text": [
            "(3, 4)\n"
          ],
          "name": "stdout"
        }
      ]
    },
    {
      "cell_type": "markdown",
      "metadata": {
        "id": "aBagbDx1U1ib"
      },
      "source": [
        "* Mas já não existe em Python um conversor de tipos ***str*** que transforma nosso objeto em uma string? **Sim!** \n",
        "* E a função ***print*** já não usa isso automaticamente ao imprimir na tela? **Sim!!!!** \n",
        "\n",
        "\n",
        "Mas esses mecanismos automáticos ainda não fazem exatamente o que queremos:"
      ]
    },
    {
      "cell_type": "code",
      "metadata": {
        "id": "g2AcMKW5U1ib",
        "outputId": "a49324f4-1153-426f-9310-efbe0aa200ac"
      },
      "source": [
        "print(p)\n",
        "str(p)"
      ],
      "execution_count": null,
      "outputs": [
        {
          "output_type": "stream",
          "text": [
            "<__main__.Ponto object at 0x104dda1d0>\n"
          ],
          "name": "stdout"
        },
        {
          "output_type": "display_data",
          "data": {
            "text/plain": [
              "'<__main__.Ponto object at 0x104dda1d0>'"
            ]
          },
          "metadata": {
            "tags": []
          }
        }
      ]
    },
    {
      "cell_type": "markdown",
      "metadata": {
        "id": "VW13w8tHU1ic"
      },
      "source": [
        "O Python tem um excelente truque para resolver esse problema!\n",
        "\n",
        "Se substituirmos o nome do nosso método ```para_string``` por ```__str__``` , o interpretador de Python saberá automaticamente quando converter a instância Ponto para uma string. Considere isso uma **característica** do Python. :-)"
      ]
    },
    {
      "cell_type": "code",
      "metadata": {
        "id": "ebJv9S0_U1ic"
      },
      "source": [
        "class Ponto:\n",
        "    \"\"\" Cria um novo Ponto, com coordenadas x, y \"\"\"\n",
        "\n",
        "    def __init__(self, x=0, y=0):\n",
        "        \"\"\" Inicializa em x, y o novo ponto criado pela classe \"\"\"\n",
        "        self.x = x\n",
        "        self.y = y\n",
        "\n",
        "    def distancia_da_origem(self):\n",
        "        \"\"\" Calcula minha distânica da origem \"\"\"\n",
        "        return ((self.x ** 2) + (self.y ** 2)) ** 0.5\n",
        "    \n",
        "    def ponto_medio(self, alvo):\n",
        "        \"\"\" Retorna o ponto medio entre esse ponto e o alvo \"\"\"\n",
        "        mx = (self.x + alvo.x)/2\n",
        "        my = (self.y + alvo.y)/2\n",
        "        return Ponto(mx, my)\n",
        "    \n",
        "    def __str__(self):\n",
        "        return \"({0}, {1})\".format(self.x, self.y)"
      ],
      "execution_count": null,
      "outputs": []
    },
    {
      "cell_type": "code",
      "metadata": {
        "id": "mt9Pf05cU1ic",
        "outputId": "2c2182c2-5724-418b-e647-88c01c739159"
      },
      "source": [
        "print(Ponto(2,2))\n",
        "str(Ponto(2,2))"
      ],
      "execution_count": null,
      "outputs": [
        {
          "output_type": "stream",
          "text": [
            "(2, 2)\n"
          ],
          "name": "stdout"
        },
        {
          "output_type": "display_data",
          "data": {
            "text/plain": [
              "'(2, 2)'"
            ]
          },
          "metadata": {
            "tags": []
          }
        }
      ]
    },
    {
      "cell_type": "markdown",
      "metadata": {
        "id": "OJlWDe57U1ic"
      },
      "source": [
        "Voltando à nossa função ***ponto_medio***:"
      ]
    },
    {
      "cell_type": "code",
      "metadata": {
        "id": "cIIhlzBBU1ic",
        "outputId": "281a314f-54f0-4d9a-9078-2f4f9f6f6e93"
      },
      "source": [
        "print(\"Ponto médio: \", Ponto(3,4).ponto_medio(Ponto(5,12)))"
      ],
      "execution_count": null,
      "outputs": [
        {
          "output_type": "stream",
          "text": [
            "Ponto médio:  (4.0, 8.0)\n"
          ],
          "name": "stdout"
        }
      ]
    },
    {
      "cell_type": "markdown",
      "metadata": {
        "id": "uspbkPQIU1id"
      },
      "source": [
        "Agora a função própia do Python ```print``` imprime na tela da mesma forma que o ```print_ponto``` fazia, sem necessidade de uma função específica para isto e com opção de combinar com outros tipos de variável."
      ]
    },
    {
      "cell_type": "markdown",
      "metadata": {
        "id": "higHRg7GU1id"
      },
      "source": [
        "<p id=\"nav-felt\" style=\"possition:relative; width:50%; float:left;\"><a href=\"5-funcoes_python.ipynb\">&lt;&lt; 5. Funções</a></p>\n",
        "<p id=\"nav-right\" style=\"possition:relative; width:45%; float:left; text-align:right;\"><a href=\"7-oop_python.ipynb\">Próximo: 7. Programação Orientada à Objeto &gt;&gt;</a></p>"
      ]
    }
  ]
}