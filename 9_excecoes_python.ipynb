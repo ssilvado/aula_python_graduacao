{
  "nbformat": 4,
  "nbformat_minor": 0,
  "metadata": {
    "kernelspec": {
      "name": "python3",
      "display_name": "Python 3.9.2 64-bit ('root-python-env': conda)"
    },
    "language_info": {
      "codemirror_mode": {
        "name": "ipython",
        "version": 3
      },
      "file_extension": ".py",
      "mimetype": "text/x-python",
      "name": "python",
      "nbconvert_exporter": "python",
      "pygments_lexer": "ipython3",
      "version": "3.9.2"
    },
    "interpreter": {
      "hash": "335436fdd3b76d4f3727a636fd436c7d3c5aef570f332174c0978c1012c03da9"
    },
    "colab": {
      "name": "9-excecoes_python.ipynb",
      "provenance": [],
      "include_colab_link": true
    }
  },
  "cells": [
    {
      "cell_type": "markdown",
      "metadata": {
        "id": "view-in-github",
        "colab_type": "text"
      },
      "source": [
        "<a href=\"https://colab.research.google.com/github/ssilvado/aula_python_graduacao/blob/main/9_excecoes_python.ipynb\" target=\"_parent\"><img src=\"https://colab.research.google.com/assets/colab-badge.svg\" alt=\"Open In Colab\"/></a>"
      ]
    },
    {
      "cell_type": "markdown",
      "metadata": {
        "id": "vPMI3kFaU4sh"
      },
      "source": [
        "# 9. Exceções\n",
        "\n",
        "PYTHON TRATA TODOS OS ERROS COM EXCEÇÕES\n",
        "Uma exceção é um sinal de que um erro ou outra condição não usual ocorreu.\n",
        "\n",
        "## 9.1 Capturando uma exceção"
      ]
    },
    {
      "cell_type": "code",
      "metadata": {
        "id": "rz9RvoJSU4si"
      },
      "source": [
        "try:\n",
        "    execute_some_code()\n",
        "except SomeException:\n",
        "    handle_gracefully()"
      ],
      "execution_count": null,
      "outputs": []
    },
    {
      "cell_type": "markdown",
      "metadata": {
        "id": "GzvnXjyRU4si"
      },
      "source": [
        "## 9.2 Capturando todas as exceções"
      ]
    },
    {
      "cell_type": "code",
      "metadata": {
        "id": "r_fviUUOU4sj"
      },
      "source": [
        "try:\n",
        "    execute_some_code()\n",
        "except:\n",
        "    handle_gracefully()"
      ],
      "execution_count": null,
      "outputs": []
    },
    {
      "cell_type": "markdown",
      "metadata": {
        "id": "2xDm0q0tU4sj"
      },
      "source": [
        "* Não faça isso.\n",
        "* Capturando exceções muito amplas é potencialmente perigoso.\n",
        "* Entre outros, esse tratamento \"coringa\" deve disparar:\n",
        "   * Disparos de saída do sistema\n",
        "   * Erros de memória\n",
        "   * Typos\n",
        "   * Qualquer coisa que você pode não ter considerado"
      ]
    },
    {
      "cell_type": "markdown",
      "metadata": {
        "id": "_JFEwtB8U4sj"
      },
      "source": [
        "Exercício: divisão por zero\n",
        "\n",
        "* Tente dividir '1/0'. O que acontece?\n",
        "* Capture a exceção e diga ao usuário que ele não pode dividir por zero."
      ]
    },
    {
      "cell_type": "markdown",
      "metadata": {
        "id": "VE7s7PkBU4sj"
      },
      "source": [
        "## 9.3 Capturando múltiplas exceções\n",
        "\n",
        "Lidando com todos eles do mesmo jeito"
      ]
    },
    {
      "cell_type": "code",
      "metadata": {
        "id": "w6_U13MdU4sj"
      },
      "source": [
        "try:\n",
        "    execute_some_code()\n",
        "except (SomeException, AnotherException):\n",
        "    handle_gracefully()"
      ],
      "execution_count": null,
      "outputs": []
    },
    {
      "cell_type": "markdown",
      "metadata": {
        "id": "nIR3vXs-U4sk"
      },
      "source": [
        "Lidando com eles separadamente"
      ]
    },
    {
      "cell_type": "code",
      "metadata": {
        "id": "ueL0nupVU4sk"
      },
      "source": [
        "try:\n",
        "    execute_some_code()\n",
        "except SomeException:\n",
        "    handle_gracefully()\n",
        "except AnotherException:\n",
        "    do_another_thing()"
      ],
      "execution_count": null,
      "outputs": []
    }
  ]
}